{
 "cells": [
  {
   "cell_type": "code",
   "execution_count": 1,
   "metadata": {
    "collapsed": true
   },
   "outputs": [],
   "source": [
    "import pandas as pd\n",
    "import datetime as dt\n",
    "import matplotlib.pyplot as plt\n",
    "import seaborn as sns\n",
    "from impvol_area_gif import make_impvol_gif\n",
    "\n",
    "sns.set_style(\"darkgrid\", {\"axes.facecolor\": \".9\"})\n",
    "sns.set_context(\"paper\")\n",
    "\n"
   ]
  },
  {
   "cell_type": "code",
   "execution_count": 23,
   "outputs": [],
   "source": [
    "\n",
    "xls_file = pd.ExcelFile('/Volatility_Data.xlsx')\n",
    "\n",
    "\n",
    "spx = pd.read_excel(xls_file,'SPX')\n",
    "vix = pd.read_excel(xls_file,'VIX')\n",
    "sx5e = pd.read_excel(xls_file,'SX5E')\n",
    "vstoxx = pd.read_excel(xls_file,'VSTOXX')\n",
    "\n",
    "index_n_vol = {'SPX': spx, 'VIX': vix, 'SX5E' : sx5e, 'VSTOXX': vstoxx}\n",
    "\n",
    "impvol_cols = ['Date','3MTH_IMPVOL_100.0%MNY_DF', '3MTH_IMPVOL_105.0%MNY_DF',\n",
    "       '3MTH_IMPVOL_110.0%MNY_DF', '3MTH_IMPVOL_90.0%MNY_DF',\n",
    "       '3MTH_IMPVOL_95.0%MNY_DF', '6MTH_IMPVOL_100.0%MNY_DF',\n",
    "       '6MTH_IMPVOL_105.0%MNY_DF', '6MTH_IMPVOL_110.0%MNY_DF',\n",
    "       '6MTH_IMPVOL_90.0%MNY_DF', '6MTH_IMPVOL_95.0%MNY_DF',\n",
    "       '12MTH_IMPVOL_100.0%MNY_DF', '12MTH_IMPVOL_105.0%MNY_DF',\n",
    "       '12MTH_IMPVOL_110.0%MNY_DF', '12MTH_IMPVOL_90.0%MNY_DF',\n",
    "       '12MTH_IMPVOL_95.0%MNY_DF', '24MTH_IMPVOL_100.0%MNY_DF',\n",
    "       '24MTH_IMPVOL_105.0%MNY_DF', '24MTH_IMPVOL_110.0%MNY_DF',\n",
    "       '24MTH_IMPVOL_90.0%MNY_DF', '24MTH_IMPVOL_95.0%MNY_DF']\n",
    "\n",
    "non_impvol_cols = ['Date', 'PX_OPEN', 'PX_HIGH', 'PX_LOW', 'PX_LAST', 'PX_VOLUME',\n",
    "       'VOLUME_TOTAL_CALL', 'PUT_CALL_VOLUME_RATIO_CUR_DAY',\n",
    "       'VOLUME_TOTAL_PUT', 'TOT_OPT_VOLUME_CUR_DAY', 'OPEN_INT_TOTAL_CALL',\n",
    "       'OPEN_INT_TOTAL_PUT', 'VOLATILITY_30D', 'VOLATILITY_260D',\n",
    "       'VOLATILITY_90D', 'VOLATILITY_60D', 'VOLATILITY_360D', 'VOLATILITY_10D',\n",
    "       'VOLATILITY_20D', 'VOLATILITY_180D', 'HIST_CALL_IMP_VOL']"
   ],
   "metadata": {
    "collapsed": false,
    "pycharm": {
     "name": "#%%\n"
    }
   }
  },
  {
   "cell_type": "code",
   "execution_count": 24,
   "outputs": [],
   "source": [
    "\n",
    "def int_to_datetime(ticker: pd.DataFrame, columns: str)-> None :\n",
    "\n",
    "       if columns not in ticker.columns : return None\n",
    "\n",
    "       for i in range(len(ticker[columns])) :\n",
    "        if type(ticker.iloc[i,0])==int:\n",
    "            ticker.iloc[i,0] = pd.Timedelta(ticker.iloc[i,0], unit='d') + dt.datetime(1899, 12, 30)\n",
    "       ticker.rename(columns={'Unnamed: 0':'Date'}, inplace=True)"
   ],
   "metadata": {
    "collapsed": false,
    "pycharm": {
     "name": "#%%\n"
    }
   }
  },
  {
   "cell_type": "code",
   "execution_count": 25,
   "outputs": [],
   "source": [
    "for key in index_n_vol.keys():\n",
    "       int_to_datetime(index_n_vol[key],'Unnamed: 0')\n",
    "       index_n_vol[key].dropna(axis=1, how='all', inplace=True)\n",
    "       index_n_vol[key].dropna(axis=1, thresh=int(0.6*len(index_n_vol[key])), inplace=True)\n",
    "       index_n_vol[key].set_index(['Date'],inplace=True)\n",
    "       index_n_vol[key].interpolate(method='time' ,axis='index', limit_area='inside', inplace=True)\n",
    "       index_n_vol[key].rename(columns = lambda x: x+'_'+key,inplace=True)"
   ],
   "metadata": {
    "collapsed": false,
    "pycharm": {
     "name": "#%%\n"
    }
   }
  },
  {
   "cell_type": "code",
   "execution_count": 5,
   "outputs": [
    {
     "name": "stderr",
     "output_type": "stream",
     "text": [
      "100%|██████████| 154/154 [00:20<00:00,  7.60it/s]\n"
     ]
    }
   ],
   "source": [
    "vix_impvol = index_n_vol['VIX'][impvol_cols].dropna()\n",
    "\n",
    "make_impvol_gif(vix_impvol, step=25, name = 'VIX')"
   ],
   "metadata": {
    "collapsed": false,
    "pycharm": {
     "name": "#%%\n"
    }
   }
  },
  {
   "cell_type": "code",
   "execution_count": 6,
   "outputs": [
    {
     "data": {
      "text/plain": "<AxesSubplot:xlabel='Date'>"
     },
     "execution_count": 6,
     "metadata": {},
     "output_type": "execute_result"
    },
    {
     "data": {
      "text/plain": "<Figure size 432x288 with 1 Axes>",
      "image/png": "[encoded data removed]"
     },
     "metadata": {},
     "output_type": "display_data"
    }
   ],
   "source": [
    "volumes = index_n_vol['SPX'][['Date','VOLUME_TOTAL_CALL', 'VOLUME_TOTAL_PUT']].set_index(['Date'])\n",
    "\n",
    "(volumes-volumes.shift(1)).plot(legend=True)"
   ],
   "metadata": {
    "collapsed": false,
    "pycharm": {
     "name": "#%%\n"
    }
   }
  },
  {
   "cell_type": "code",
   "execution_count": 7,
   "outputs": [
    {
     "name": "stderr",
     "output_type": "stream",
     "text": [
      " 25%|██▍       | 39/158 [00:06<00:18,  6.37it/s]\n"
     ]
    },
    {
     "ename": "KeyboardInterrupt",
     "evalue": "",
     "output_type": "error",
     "traceback": [
      "\u001B[0;31m---------------------------------------------------------------------------\u001B[0m",
      "\u001B[0;31mKeyboardInterrupt\u001B[0m                         Traceback (most recent call last)",
      "\u001B[0;32m/var/folders/tw/0_4t24xd3vs3yb_2z5jssqnc0000gn/T/ipykernel_2753/2751575731.py\u001B[0m in \u001B[0;36m<module>\u001B[0;34m\u001B[0m\n\u001B[1;32m      1\u001B[0m \u001B[0meuro_vol\u001B[0m \u001B[0;34m=\u001B[0m \u001B[0mindex_n_vol\u001B[0m\u001B[0;34m[\u001B[0m\u001B[0;34m'SX5E'\u001B[0m\u001B[0;34m]\u001B[0m\u001B[0;34m[\u001B[0m\u001B[0mimpvol_cols\u001B[0m\u001B[0;34m]\u001B[0m\u001B[0;34m.\u001B[0m\u001B[0mdropna\u001B[0m\u001B[0;34m(\u001B[0m\u001B[0;34m)\u001B[0m\u001B[0;34m\u001B[0m\u001B[0;34m\u001B[0m\u001B[0m\n\u001B[1;32m      2\u001B[0m \u001B[0;34m\u001B[0m\u001B[0m\n\u001B[0;32m----> 3\u001B[0;31m \u001B[0mmake_impvol_gif\u001B[0m\u001B[0;34m(\u001B[0m\u001B[0meuro_vol\u001B[0m\u001B[0;34m,\u001B[0m \u001B[0mstep\u001B[0m\u001B[0;34m=\u001B[0m\u001B[0;36m25\u001B[0m\u001B[0;34m,\u001B[0m \u001B[0mname\u001B[0m \u001B[0;34m=\u001B[0m \u001B[0;34m'euro'\u001B[0m\u001B[0;34m)\u001B[0m\u001B[0;34m\u001B[0m\u001B[0;34m\u001B[0m\u001B[0m\n\u001B[0m\u001B[1;32m      4\u001B[0m \u001B[0;34m\u001B[0m\u001B[0m\n\u001B[1;32m      5\u001B[0m \u001B[0;34m\u001B[0m\u001B[0m\n",
      "\u001B[0;32m~/PycharmProjects/pythonProject/data_treatment/impvol_area_gif.py\u001B[0m in \u001B[0;36mmake_impvol_gif\u001B[0;34m(spx_impvol, name, duration, step)\u001B[0m\n\u001B[1;32m     40\u001B[0m     \u001B[0;31m# Generates the png's\u001B[0m\u001B[0;34m\u001B[0m\u001B[0;34m\u001B[0m\u001B[0m\n\u001B[1;32m     41\u001B[0m     \u001B[0;32mfor\u001B[0m \u001B[0mi\u001B[0m \u001B[0;32min\u001B[0m \u001B[0mtqdm\u001B[0m\u001B[0;34m(\u001B[0m\u001B[0mrange\u001B[0m\u001B[0;34m(\u001B[0m\u001B[0;36m0\u001B[0m\u001B[0;34m,\u001B[0m \u001B[0mlen\u001B[0m\u001B[0;34m(\u001B[0m\u001B[0mspx_impvol\u001B[0m\u001B[0;34m[\u001B[0m\u001B[0;34m'Date'\u001B[0m\u001B[0;34m]\u001B[0m\u001B[0;34m)\u001B[0m\u001B[0;34m,\u001B[0m \u001B[0mstep\u001B[0m\u001B[0;34m)\u001B[0m\u001B[0;34m)\u001B[0m\u001B[0;34m:\u001B[0m\u001B[0;34m\u001B[0m\u001B[0;34m\u001B[0m\u001B[0m\n\u001B[0;32m---> 42\u001B[0;31m         \u001B[0mplot_impvol_area_at\u001B[0m\u001B[0;34m(\u001B[0m\u001B[0mi\u001B[0m\u001B[0;34m,\u001B[0m \u001B[0mregex\u001B[0m\u001B[0;34m,\u001B[0m \u001B[0mspx_impvol\u001B[0m\u001B[0;34m,\u001B[0m \u001B[0mname\u001B[0m\u001B[0;34m)\u001B[0m\u001B[0;34m\u001B[0m\u001B[0;34m\u001B[0m\u001B[0m\n\u001B[0m\u001B[1;32m     43\u001B[0m \u001B[0;34m\u001B[0m\u001B[0m\n\u001B[1;32m     44\u001B[0m     \u001B[0;31m# Join them into a gif\u001B[0m\u001B[0;34m\u001B[0m\u001B[0;34m\u001B[0m\u001B[0m\n",
      "\u001B[0;32m~/PycharmProjects/pythonProject/data_treatment/impvol_area_gif.py\u001B[0m in \u001B[0;36mplot_impvol_area_at\u001B[0;34m(i, regex, spx_impvol, name)\u001B[0m\n\u001B[1;32m     21\u001B[0m \u001B[0;32mdef\u001B[0m \u001B[0mplot_impvol_area_at\u001B[0m\u001B[0;34m(\u001B[0m\u001B[0mi\u001B[0m\u001B[0;34m:\u001B[0m \u001B[0mint\u001B[0m\u001B[0;34m,\u001B[0m \u001B[0mregex\u001B[0m\u001B[0;34m:\u001B[0m \u001B[0mre\u001B[0m\u001B[0;34m.\u001B[0m\u001B[0mPattern\u001B[0m\u001B[0;34m,\u001B[0m \u001B[0mspx_impvol\u001B[0m\u001B[0;34m:\u001B[0m \u001B[0mpd\u001B[0m\u001B[0;34m.\u001B[0m\u001B[0mDataFrame\u001B[0m\u001B[0;34m,\u001B[0m \u001B[0mname\u001B[0m\u001B[0;34m:\u001B[0m \u001B[0mstr\u001B[0m\u001B[0;34m)\u001B[0m \u001B[0;34m->\u001B[0m \u001B[0;32mNone\u001B[0m\u001B[0;34m:\u001B[0m\u001B[0;34m\u001B[0m\u001B[0;34m\u001B[0m\u001B[0m\n\u001B[1;32m     22\u001B[0m     \u001B[0mfig\u001B[0m \u001B[0;34m=\u001B[0m \u001B[0mplt\u001B[0m\u001B[0;34m.\u001B[0m\u001B[0mfigure\u001B[0m\u001B[0;34m(\u001B[0m\u001B[0;34m)\u001B[0m\u001B[0;34m\u001B[0m\u001B[0;34m\u001B[0m\u001B[0m\n\u001B[0;32m---> 23\u001B[0;31m     \u001B[0max\u001B[0m \u001B[0;34m=\u001B[0m \u001B[0mfig\u001B[0m\u001B[0;34m.\u001B[0m\u001B[0madd_subplot\u001B[0m\u001B[0;34m(\u001B[0m\u001B[0;36m111\u001B[0m\u001B[0;34m,\u001B[0m \u001B[0mprojection\u001B[0m\u001B[0;34m=\u001B[0m\u001B[0;34m'3d'\u001B[0m\u001B[0;34m)\u001B[0m\u001B[0;34m\u001B[0m\u001B[0;34m\u001B[0m\u001B[0m\n\u001B[0m\u001B[1;32m     24\u001B[0m     \u001B[0mMTH\u001B[0m\u001B[0;34m,\u001B[0m \u001B[0mSTRIKE\u001B[0m\u001B[0;34m,\u001B[0m \u001B[0mIMPVOL\u001B[0m \u001B[0;34m=\u001B[0m \u001B[0mget_impvol_area_points\u001B[0m\u001B[0;34m(\u001B[0m\u001B[0mspx_impvol\u001B[0m\u001B[0;34m,\u001B[0m \u001B[0mregex\u001B[0m\u001B[0;34m,\u001B[0m \u001B[0mi\u001B[0m\u001B[0;34m)\u001B[0m\u001B[0;34m\u001B[0m\u001B[0;34m\u001B[0m\u001B[0m\n\u001B[1;32m     25\u001B[0m     \u001B[0max\u001B[0m\u001B[0;34m.\u001B[0m\u001B[0mplot_trisurf\u001B[0m\u001B[0;34m(\u001B[0m\u001B[0mMTH\u001B[0m\u001B[0;34m,\u001B[0m \u001B[0mSTRIKE\u001B[0m\u001B[0;34m,\u001B[0m \u001B[0mIMPVOL\u001B[0m\u001B[0;34m,\u001B[0m \u001B[0mcmap\u001B[0m\u001B[0;34m=\u001B[0m\u001B[0mplt\u001B[0m\u001B[0;34m.\u001B[0m\u001B[0mcm\u001B[0m\u001B[0;34m.\u001B[0m\u001B[0mcoolwarm\u001B[0m\u001B[0;34m,\u001B[0m \u001B[0mlinewidth\u001B[0m\u001B[0;34m=\u001B[0m\u001B[0;36m0\u001B[0m\u001B[0;34m)\u001B[0m\u001B[0;34m\u001B[0m\u001B[0;34m\u001B[0m\u001B[0m\n",
      "\u001B[0;32m~/PycharmProjects/pythonProject/basic_env/lib/python3.9/site-packages/matplotlib/figure.py\u001B[0m in \u001B[0;36madd_subplot\u001B[0;34m(self, *args, **kwargs)\u001B[0m\n\u001B[1;32m    782\u001B[0m             projection_class, pkw = self._process_projection_requirements(\n\u001B[1;32m    783\u001B[0m                 *args, **kwargs)\n\u001B[0;32m--> 784\u001B[0;31m             \u001B[0max\u001B[0m \u001B[0;34m=\u001B[0m \u001B[0msubplot_class_factory\u001B[0m\u001B[0;34m(\u001B[0m\u001B[0mprojection_class\u001B[0m\u001B[0;34m)\u001B[0m\u001B[0;34m(\u001B[0m\u001B[0mself\u001B[0m\u001B[0;34m,\u001B[0m \u001B[0;34m*\u001B[0m\u001B[0margs\u001B[0m\u001B[0;34m,\u001B[0m \u001B[0;34m**\u001B[0m\u001B[0mpkw\u001B[0m\u001B[0;34m)\u001B[0m\u001B[0;34m\u001B[0m\u001B[0;34m\u001B[0m\u001B[0m\n\u001B[0m\u001B[1;32m    785\u001B[0m             \u001B[0mkey\u001B[0m \u001B[0;34m=\u001B[0m \u001B[0;34m(\u001B[0m\u001B[0mprojection_class\u001B[0m\u001B[0;34m,\u001B[0m \u001B[0mpkw\u001B[0m\u001B[0;34m)\u001B[0m\u001B[0;34m\u001B[0m\u001B[0;34m\u001B[0m\u001B[0m\n\u001B[1;32m    786\u001B[0m         \u001B[0;32mreturn\u001B[0m \u001B[0mself\u001B[0m\u001B[0;34m.\u001B[0m\u001B[0m_add_axes_internal\u001B[0m\u001B[0;34m(\u001B[0m\u001B[0max\u001B[0m\u001B[0;34m,\u001B[0m \u001B[0mkey\u001B[0m\u001B[0;34m)\u001B[0m\u001B[0;34m\u001B[0m\u001B[0;34m\u001B[0m\u001B[0m\n",
      "\u001B[0;32m~/PycharmProjects/pythonProject/basic_env/lib/python3.9/site-packages/matplotlib/axes/_subplots.py\u001B[0m in \u001B[0;36m__init__\u001B[0;34m(self, fig, *args, **kwargs)\u001B[0m\n\u001B[1;32m     34\u001B[0m         \"\"\"\n\u001B[1;32m     35\u001B[0m         \u001B[0;31m# _axes_class is set in the subplot_class_factory\u001B[0m\u001B[0;34m\u001B[0m\u001B[0;34m\u001B[0m\u001B[0m\n\u001B[0;32m---> 36\u001B[0;31m         \u001B[0mself\u001B[0m\u001B[0;34m.\u001B[0m\u001B[0m_axes_class\u001B[0m\u001B[0;34m.\u001B[0m\u001B[0m__init__\u001B[0m\u001B[0;34m(\u001B[0m\u001B[0mself\u001B[0m\u001B[0;34m,\u001B[0m \u001B[0mfig\u001B[0m\u001B[0;34m,\u001B[0m \u001B[0;34m[\u001B[0m\u001B[0;36m0\u001B[0m\u001B[0;34m,\u001B[0m \u001B[0;36m0\u001B[0m\u001B[0;34m,\u001B[0m \u001B[0;36m1\u001B[0m\u001B[0;34m,\u001B[0m \u001B[0;36m1\u001B[0m\u001B[0;34m]\u001B[0m\u001B[0;34m,\u001B[0m \u001B[0;34m**\u001B[0m\u001B[0mkwargs\u001B[0m\u001B[0;34m)\u001B[0m\u001B[0;34m\u001B[0m\u001B[0;34m\u001B[0m\u001B[0m\n\u001B[0m\u001B[1;32m     37\u001B[0m         \u001B[0;31m# This will also update the axes position.\u001B[0m\u001B[0;34m\u001B[0m\u001B[0;34m\u001B[0m\u001B[0m\n\u001B[1;32m     38\u001B[0m         \u001B[0mself\u001B[0m\u001B[0;34m.\u001B[0m\u001B[0mset_subplotspec\u001B[0m\u001B[0;34m(\u001B[0m\u001B[0mSubplotSpec\u001B[0m\u001B[0;34m.\u001B[0m\u001B[0m_from_subplot_args\u001B[0m\u001B[0;34m(\u001B[0m\u001B[0mfig\u001B[0m\u001B[0;34m,\u001B[0m \u001B[0margs\u001B[0m\u001B[0;34m)\u001B[0m\u001B[0;34m)\u001B[0m\u001B[0;34m\u001B[0m\u001B[0;34m\u001B[0m\u001B[0m\n",
      "\u001B[0;32m~/PycharmProjects/pythonProject/basic_env/lib/python3.9/site-packages/mpl_toolkits/mplot3d/axes3d.py\u001B[0m in \u001B[0;36m__init__\u001B[0;34m(self, fig, rect, azim, elev, sharez, proj_type, box_aspect, *args, **kwargs)\u001B[0m\n\u001B[1;32m    111\u001B[0m         \u001B[0mauto_add_to_figure\u001B[0m \u001B[0;34m=\u001B[0m \u001B[0mkwargs\u001B[0m\u001B[0;34m.\u001B[0m\u001B[0mpop\u001B[0m\u001B[0;34m(\u001B[0m\u001B[0;34m'auto_add_to_figure'\u001B[0m\u001B[0;34m,\u001B[0m \u001B[0;32mTrue\u001B[0m\u001B[0;34m)\u001B[0m\u001B[0;34m\u001B[0m\u001B[0;34m\u001B[0m\u001B[0m\n\u001B[1;32m    112\u001B[0m \u001B[0;34m\u001B[0m\u001B[0m\n\u001B[0;32m--> 113\u001B[0;31m         super().__init__(\n\u001B[0m\u001B[1;32m    114\u001B[0m             \u001B[0mfig\u001B[0m\u001B[0;34m,\u001B[0m \u001B[0mrect\u001B[0m\u001B[0;34m,\u001B[0m \u001B[0mframeon\u001B[0m\u001B[0;34m=\u001B[0m\u001B[0;32mTrue\u001B[0m\u001B[0;34m,\u001B[0m \u001B[0mbox_aspect\u001B[0m\u001B[0;34m=\u001B[0m\u001B[0mbox_aspect\u001B[0m\u001B[0;34m,\u001B[0m \u001B[0;34m*\u001B[0m\u001B[0margs\u001B[0m\u001B[0;34m,\u001B[0m \u001B[0;34m**\u001B[0m\u001B[0mkwargs\u001B[0m\u001B[0;34m\u001B[0m\u001B[0;34m\u001B[0m\u001B[0m\n\u001B[1;32m    115\u001B[0m         )\n",
      "\u001B[0;32m~/PycharmProjects/pythonProject/basic_env/lib/python3.9/site-packages/matplotlib/_api/deprecation.py\u001B[0m in \u001B[0;36mwrapper\u001B[0;34m(*args, **kwargs)\u001B[0m\n\u001B[1;32m    469\u001B[0m                 \u001B[0;34m\"parameter will become keyword-only %(removal)s.\"\u001B[0m\u001B[0;34m,\u001B[0m\u001B[0;34m\u001B[0m\u001B[0;34m\u001B[0m\u001B[0m\n\u001B[1;32m    470\u001B[0m                 name=name, obj_type=f\"parameter of {func.__name__}()\")\n\u001B[0;32m--> 471\u001B[0;31m         \u001B[0;32mreturn\u001B[0m \u001B[0mfunc\u001B[0m\u001B[0;34m(\u001B[0m\u001B[0;34m*\u001B[0m\u001B[0margs\u001B[0m\u001B[0;34m,\u001B[0m \u001B[0;34m**\u001B[0m\u001B[0mkwargs\u001B[0m\u001B[0;34m)\u001B[0m\u001B[0;34m\u001B[0m\u001B[0;34m\u001B[0m\u001B[0m\n\u001B[0m\u001B[1;32m    472\u001B[0m \u001B[0;34m\u001B[0m\u001B[0m\n\u001B[1;32m    473\u001B[0m     \u001B[0;32mreturn\u001B[0m \u001B[0mwrapper\u001B[0m\u001B[0;34m\u001B[0m\u001B[0;34m\u001B[0m\u001B[0m\n",
      "\u001B[0;32m~/PycharmProjects/pythonProject/basic_env/lib/python3.9/site-packages/matplotlib/axes/_base.py\u001B[0m in \u001B[0;36m__init__\u001B[0;34m(self, fig, rect, facecolor, frameon, sharex, sharey, label, xscale, yscale, box_aspect, **kwargs)\u001B[0m\n\u001B[1;32m    624\u001B[0m \u001B[0;34m\u001B[0m\u001B[0m\n\u001B[1;32m    625\u001B[0m         \u001B[0;31m# this call may differ for non-sep axes, e.g., polar\u001B[0m\u001B[0;34m\u001B[0m\u001B[0;34m\u001B[0m\u001B[0m\n\u001B[0;32m--> 626\u001B[0;31m         \u001B[0mself\u001B[0m\u001B[0;34m.\u001B[0m\u001B[0m_init_axis\u001B[0m\u001B[0;34m(\u001B[0m\u001B[0;34m)\u001B[0m\u001B[0;34m\u001B[0m\u001B[0;34m\u001B[0m\u001B[0m\n\u001B[0m\u001B[1;32m    627\u001B[0m         \u001B[0;32mif\u001B[0m \u001B[0mfacecolor\u001B[0m \u001B[0;32mis\u001B[0m \u001B[0;32mNone\u001B[0m\u001B[0;34m:\u001B[0m\u001B[0;34m\u001B[0m\u001B[0;34m\u001B[0m\u001B[0m\n\u001B[1;32m    628\u001B[0m             \u001B[0mfacecolor\u001B[0m \u001B[0;34m=\u001B[0m \u001B[0mmpl\u001B[0m\u001B[0;34m.\u001B[0m\u001B[0mrcParams\u001B[0m\u001B[0;34m[\u001B[0m\u001B[0;34m'axes.facecolor'\u001B[0m\u001B[0;34m]\u001B[0m\u001B[0;34m\u001B[0m\u001B[0;34m\u001B[0m\u001B[0m\n",
      "\u001B[0;32m~/PycharmProjects/pythonProject/basic_env/lib/python3.9/site-packages/mpl_toolkits/mplot3d/axes3d.py\u001B[0m in \u001B[0;36m_init_axis\u001B[0;34m(self)\u001B[0m\n\u001B[1;32m    194\u001B[0m                                   self.zz_dataLim.intervalx, self)\n\u001B[1;32m    195\u001B[0m         \u001B[0;32mfor\u001B[0m \u001B[0max\u001B[0m \u001B[0;32min\u001B[0m \u001B[0mself\u001B[0m\u001B[0;34m.\u001B[0m\u001B[0mxaxis\u001B[0m\u001B[0;34m,\u001B[0m \u001B[0mself\u001B[0m\u001B[0;34m.\u001B[0m\u001B[0myaxis\u001B[0m\u001B[0;34m,\u001B[0m \u001B[0mself\u001B[0m\u001B[0;34m.\u001B[0m\u001B[0mzaxis\u001B[0m\u001B[0;34m:\u001B[0m\u001B[0;34m\u001B[0m\u001B[0;34m\u001B[0m\u001B[0m\n\u001B[0;32m--> 196\u001B[0;31m             \u001B[0max\u001B[0m\u001B[0;34m.\u001B[0m\u001B[0minit3d\u001B[0m\u001B[0;34m(\u001B[0m\u001B[0;34m)\u001B[0m\u001B[0;34m\u001B[0m\u001B[0;34m\u001B[0m\u001B[0m\n\u001B[0m\u001B[1;32m    197\u001B[0m \u001B[0;34m\u001B[0m\u001B[0m\n\u001B[1;32m    198\u001B[0m     \u001B[0;32mdef\u001B[0m \u001B[0mget_zaxis\u001B[0m\u001B[0;34m(\u001B[0m\u001B[0mself\u001B[0m\u001B[0;34m)\u001B[0m\u001B[0;34m:\u001B[0m\u001B[0;34m\u001B[0m\u001B[0;34m\u001B[0m\u001B[0m\n",
      "\u001B[0;32m~/PycharmProjects/pythonProject/basic_env/lib/python3.9/site-packages/mpl_toolkits/mplot3d/axis3d.py\u001B[0m in \u001B[0;36minit3d\u001B[0;34m(self)\u001B[0m\n\u001B[1;32m    125\u001B[0m \u001B[0;34m\u001B[0m\u001B[0m\n\u001B[1;32m    126\u001B[0m         \u001B[0mself\u001B[0m\u001B[0;34m.\u001B[0m\u001B[0maxes\u001B[0m\u001B[0;34m.\u001B[0m\u001B[0m_set_artist_props\u001B[0m\u001B[0;34m(\u001B[0m\u001B[0mself\u001B[0m\u001B[0;34m.\u001B[0m\u001B[0mline\u001B[0m\u001B[0;34m)\u001B[0m\u001B[0;34m\u001B[0m\u001B[0;34m\u001B[0m\u001B[0m\n\u001B[0;32m--> 127\u001B[0;31m         \u001B[0mself\u001B[0m\u001B[0;34m.\u001B[0m\u001B[0maxes\u001B[0m\u001B[0;34m.\u001B[0m\u001B[0m_set_artist_props\u001B[0m\u001B[0;34m(\u001B[0m\u001B[0mself\u001B[0m\u001B[0;34m.\u001B[0m\u001B[0mpane\u001B[0m\u001B[0;34m)\u001B[0m\u001B[0;34m\u001B[0m\u001B[0;34m\u001B[0m\u001B[0m\n\u001B[0m\u001B[1;32m    128\u001B[0m         \u001B[0mself\u001B[0m\u001B[0;34m.\u001B[0m\u001B[0mgridlines\u001B[0m \u001B[0;34m=\u001B[0m \u001B[0mart3d\u001B[0m\u001B[0;34m.\u001B[0m\u001B[0mLine3DCollection\u001B[0m\u001B[0;34m(\u001B[0m\u001B[0;34m[\u001B[0m\u001B[0;34m]\u001B[0m\u001B[0;34m)\u001B[0m\u001B[0;34m\u001B[0m\u001B[0;34m\u001B[0m\u001B[0m\n\u001B[1;32m    129\u001B[0m         \u001B[0mself\u001B[0m\u001B[0;34m.\u001B[0m\u001B[0maxes\u001B[0m\u001B[0;34m.\u001B[0m\u001B[0m_set_artist_props\u001B[0m\u001B[0;34m(\u001B[0m\u001B[0mself\u001B[0m\u001B[0;34m.\u001B[0m\u001B[0mgridlines\u001B[0m\u001B[0;34m)\u001B[0m\u001B[0;34m\u001B[0m\u001B[0;34m\u001B[0m\u001B[0m\n",
      "\u001B[0;32m~/PycharmProjects/pythonProject/basic_env/lib/python3.9/site-packages/matplotlib/axes/_base.py\u001B[0m in \u001B[0;36m_set_artist_props\u001B[0;34m(self, a)\u001B[0m\n\u001B[1;32m   1091\u001B[0m         \u001B[0ma\u001B[0m\u001B[0;34m.\u001B[0m\u001B[0mset_figure\u001B[0m\u001B[0;34m(\u001B[0m\u001B[0mself\u001B[0m\u001B[0;34m.\u001B[0m\u001B[0mfigure\u001B[0m\u001B[0;34m)\u001B[0m\u001B[0;34m\u001B[0m\u001B[0;34m\u001B[0m\u001B[0m\n\u001B[1;32m   1092\u001B[0m         \u001B[0;32mif\u001B[0m \u001B[0;32mnot\u001B[0m \u001B[0ma\u001B[0m\u001B[0;34m.\u001B[0m\u001B[0mis_transform_set\u001B[0m\u001B[0;34m(\u001B[0m\u001B[0;34m)\u001B[0m\u001B[0;34m:\u001B[0m\u001B[0;34m\u001B[0m\u001B[0;34m\u001B[0m\u001B[0m\n\u001B[0;32m-> 1093\u001B[0;31m             \u001B[0ma\u001B[0m\u001B[0;34m.\u001B[0m\u001B[0mset_transform\u001B[0m\u001B[0;34m(\u001B[0m\u001B[0mself\u001B[0m\u001B[0;34m.\u001B[0m\u001B[0mtransData\u001B[0m\u001B[0;34m)\u001B[0m\u001B[0;34m\u001B[0m\u001B[0;34m\u001B[0m\u001B[0m\n\u001B[0m\u001B[1;32m   1094\u001B[0m \u001B[0;34m\u001B[0m\u001B[0m\n\u001B[1;32m   1095\u001B[0m         \u001B[0ma\u001B[0m\u001B[0;34m.\u001B[0m\u001B[0maxes\u001B[0m \u001B[0;34m=\u001B[0m \u001B[0mself\u001B[0m\u001B[0;34m\u001B[0m\u001B[0;34m\u001B[0m\u001B[0m\n",
      "\u001B[0;32m~/PycharmProjects/pythonProject/basic_env/lib/python3.9/site-packages/matplotlib/artist.py\u001B[0m in \u001B[0;36mset_transform\u001B[0;34m(self, t)\u001B[0m\n\u001B[1;32m    385\u001B[0m         \u001B[0mself\u001B[0m\u001B[0;34m.\u001B[0m\u001B[0m_transform\u001B[0m \u001B[0;34m=\u001B[0m \u001B[0mt\u001B[0m\u001B[0;34m\u001B[0m\u001B[0;34m\u001B[0m\u001B[0m\n\u001B[1;32m    386\u001B[0m         \u001B[0mself\u001B[0m\u001B[0;34m.\u001B[0m\u001B[0m_transformSet\u001B[0m \u001B[0;34m=\u001B[0m \u001B[0;32mTrue\u001B[0m\u001B[0;34m\u001B[0m\u001B[0;34m\u001B[0m\u001B[0m\n\u001B[0;32m--> 387\u001B[0;31m         \u001B[0mself\u001B[0m\u001B[0;34m.\u001B[0m\u001B[0mpchanged\u001B[0m\u001B[0;34m(\u001B[0m\u001B[0;34m)\u001B[0m\u001B[0;34m\u001B[0m\u001B[0;34m\u001B[0m\u001B[0m\n\u001B[0m\u001B[1;32m    388\u001B[0m         \u001B[0mself\u001B[0m\u001B[0;34m.\u001B[0m\u001B[0mstale\u001B[0m \u001B[0;34m=\u001B[0m \u001B[0;32mTrue\u001B[0m\u001B[0;34m\u001B[0m\u001B[0;34m\u001B[0m\u001B[0m\n\u001B[1;32m    389\u001B[0m \u001B[0;34m\u001B[0m\u001B[0m\n",
      "\u001B[0;32m~/PycharmProjects/pythonProject/basic_env/lib/python3.9/site-packages/matplotlib/artist.py\u001B[0m in \u001B[0;36mpchanged\u001B[0;34m(self)\u001B[0m\n\u001B[1;32m    365\u001B[0m         \u001B[0mremove_callback\u001B[0m\u001B[0;34m\u001B[0m\u001B[0;34m\u001B[0m\u001B[0m\n\u001B[1;32m    366\u001B[0m         \"\"\"\n\u001B[0;32m--> 367\u001B[0;31m         \u001B[0mself\u001B[0m\u001B[0;34m.\u001B[0m\u001B[0m_callbacks\u001B[0m\u001B[0;34m.\u001B[0m\u001B[0mprocess\u001B[0m\u001B[0;34m(\u001B[0m\u001B[0;34m\"pchanged\"\u001B[0m\u001B[0;34m)\u001B[0m\u001B[0;34m\u001B[0m\u001B[0;34m\u001B[0m\u001B[0m\n\u001B[0m\u001B[1;32m    368\u001B[0m \u001B[0;34m\u001B[0m\u001B[0m\n\u001B[1;32m    369\u001B[0m     \u001B[0;32mdef\u001B[0m \u001B[0mis_transform_set\u001B[0m\u001B[0;34m(\u001B[0m\u001B[0mself\u001B[0m\u001B[0;34m)\u001B[0m\u001B[0;34m:\u001B[0m\u001B[0;34m\u001B[0m\u001B[0;34m\u001B[0m\u001B[0m\n",
      "\u001B[0;32m~/PycharmProjects/pythonProject/basic_env/lib/python3.9/site-packages/matplotlib/cbook/__init__.py\u001B[0m in \u001B[0;36mprocess\u001B[0;34m(self, s, *args, **kwargs)\u001B[0m\n\u001B[1;32m    264\u001B[0m         \u001B[0mcalled\u001B[0m \u001B[0;32mwith\u001B[0m\u001B[0;31m \u001B[0m\u001B[0;31m`\u001B[0m\u001B[0;31m`\u001B[0m\u001B[0;34m*\u001B[0m\u001B[0margs\u001B[0m\u001B[0;31m`\u001B[0m\u001B[0;31m`\u001B[0m \u001B[0;32mand\u001B[0m\u001B[0;31m \u001B[0m\u001B[0;31m`\u001B[0m\u001B[0;31m`\u001B[0m\u001B[0;34m**\u001B[0m\u001B[0mkwargs\u001B[0m\u001B[0;31m`\u001B[0m\u001B[0;31m`\u001B[0m\u001B[0;34m.\u001B[0m\u001B[0;34m\u001B[0m\u001B[0;34m\u001B[0m\u001B[0m\n\u001B[1;32m    265\u001B[0m         \"\"\"\n\u001B[0;32m--> 266\u001B[0;31m         \u001B[0;32mfor\u001B[0m \u001B[0mcid\u001B[0m\u001B[0;34m,\u001B[0m \u001B[0mref\u001B[0m \u001B[0;32min\u001B[0m \u001B[0mlist\u001B[0m\u001B[0;34m(\u001B[0m\u001B[0mself\u001B[0m\u001B[0;34m.\u001B[0m\u001B[0mcallbacks\u001B[0m\u001B[0;34m.\u001B[0m\u001B[0mget\u001B[0m\u001B[0;34m(\u001B[0m\u001B[0ms\u001B[0m\u001B[0;34m,\u001B[0m \u001B[0;34m{\u001B[0m\u001B[0;34m}\u001B[0m\u001B[0;34m)\u001B[0m\u001B[0;34m.\u001B[0m\u001B[0mitems\u001B[0m\u001B[0;34m(\u001B[0m\u001B[0;34m)\u001B[0m\u001B[0;34m)\u001B[0m\u001B[0;34m:\u001B[0m\u001B[0;34m\u001B[0m\u001B[0;34m\u001B[0m\u001B[0m\n\u001B[0m\u001B[1;32m    267\u001B[0m             \u001B[0mfunc\u001B[0m \u001B[0;34m=\u001B[0m \u001B[0mref\u001B[0m\u001B[0;34m(\u001B[0m\u001B[0;34m)\u001B[0m\u001B[0;34m\u001B[0m\u001B[0;34m\u001B[0m\u001B[0m\n\u001B[1;32m    268\u001B[0m             \u001B[0;32mif\u001B[0m \u001B[0mfunc\u001B[0m \u001B[0;32mis\u001B[0m \u001B[0;32mnot\u001B[0m \u001B[0;32mNone\u001B[0m\u001B[0;34m:\u001B[0m\u001B[0;34m\u001B[0m\u001B[0;34m\u001B[0m\u001B[0m\n",
      "\u001B[0;31mKeyboardInterrupt\u001B[0m: "
     ]
    },
    {
     "data": {
      "text/plain": "<Figure size 432x288 with 0 Axes>"
     },
     "metadata": {},
     "output_type": "display_data"
    }
   ],
   "source": [
    "euro_vol = index_n_vol['SX5E'][impvol_cols].dropna()\n",
    "\n",
    "make_impvol_gif(euro_vol, step=25, name = 'euro')"
   ],
   "metadata": {
    "collapsed": false,
    "pycharm": {
     "name": "#%%\n"
    }
   }
  },
  {
   "cell_type": "code",
   "execution_count": 36,
   "outputs": [],
   "source": [
    "big_base = index_n_vol['VIX'].merge(index_n_vol['VSTOXX'],on=[\"Date\"], how='right')\n",
    "\n",
    "big_base = big_base.merge(index_n_vol['SPX'],on=[\"Date\"], how='right')\n",
    "big_base = big_base.merge(index_n_vol['SX5E'],on=[\"Date\"], how='right')\n",
    "big_base.interpolate(method='time' ,axis='index', limit_area='inside', inplace=True)\n"
   ],
   "metadata": {
    "collapsed": false,
    "pycharm": {
     "name": "#%%\n"
    }
   }
  },
  {
   "cell_type": "code",
   "execution_count": 46,
   "outputs": [],
   "source": [
    "big_base.to_excel('Volatility_data_treated.xlsx', na_rep='#N/A N/A')\n",
    "\n",
    "\n"
   ],
   "metadata": {
    "collapsed": false,
    "pycharm": {
     "name": "#%%\n"
    }
   }
  }
 ],
 "metadata": {
  "kernelspec": {
   "display_name": "Python 3",
   "language": "python",
   "name": "python3"
  },
  "language_info": {
   "codemirror_mode": {
    "name": "ipython",
    "version": 2
   },
   "file_extension": ".py",
   "mimetype": "text/x-python",
   "name": "python",
   "nbconvert_exporter": "python",
   "pygments_lexer": "ipython2",
   "version": "2.7.6"
  }
 },
 "nbformat": 4,
 "nbformat_minor": 0
}