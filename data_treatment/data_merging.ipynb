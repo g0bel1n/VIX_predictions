{
 "cells": [
  {
   "cell_type": "code",
   "execution_count": 1,
   "metadata": {},
   "outputs": [
    {
     "name": "stdout",
     "output_type": "stream",
     "text": [
      "Requirement already satisfied: xlrd in /Users/g0bel1n/PycharmProjects/pythonProject/basic_env/lib/python3.9/site-packages (2.0.1)\r\n",
      "\u001B[33mWARNING: You are using pip version 21.1.2; however, version 21.3.1 is available.\r\n",
      "You should consider upgrading via the '/Users/g0bel1n/PycharmProjects/pythonProject/basic_env/bin/python -m pip install --upgrade pip' command.\u001B[0m\r\n"
     ]
    }
   ],
   "source": [
    "import os\n",
    "from pathlib import Path\n",
    "from glob import glob\n",
    "import pandas as pd\n",
    "\n",
    "!pip install xlrd"
   ]
  },
  {
   "cell_type": "code",
   "execution_count": 2,
   "metadata": {},
   "outputs": [],
   "source": [
    "current_path = Path(os.getcwd())\n",
    "root = current_path.parent.absolute()\n",
    "data_folder = str(root) + '/raw data/'"
   ]
  },
  {
   "cell_type": "code",
   "execution_count": 23,
   "metadata": {},
   "outputs": [
    {
     "name": "stdout",
     "output_type": "stream",
     "text": [
      "-- XLSX FILES --\n",
      "Quality Minus Junk Factors Daily sheets:\n",
      "-->QMJ Factors\n",
      "-->HML Devil\n",
      "\n",
      "Volatility_data_treated sheets:\n",
      "-->Sheet1\n",
      "\n",
      "Value and Momentum Everywhere Factors Monthly sheets:\n",
      "-->VME Factors\n",
      "\n",
      "bloom_data_2 sheets:\n",
      "-->CL1\n",
      "-->CL2\n",
      "-->CL3\n",
      "-->Euribor3\n",
      "-->Bund10\n",
      "-->FUTURES MATURITIES\n",
      "\n",
      "Betting Against Beta Equity Factors Daily sheets:\n",
      "-->BAB Factors\n",
      "-->HML Devil\n",
      "\n",
      "\n",
      "-- XLS FILES --\n",
      "sentiment sheets:\n",
      "-->SENTIMENT\n",
      "\n",
      "\n",
      "-- csv FILES --\n",
      "F-F_ST_Reversal_Factor_daily\n",
      "\n",
      "-- CSV FILES --\n",
      "F-F_Research_Data_5_Factors_2x3_daily\n",
      "F-F_Momentum_Factor_daily\n"
     ]
    }
   ],
   "source": [
    "types = [\"xlsx\", \"csv\", \"xls\"]\n",
    "\n",
    "os.chdir(data_folder)\n",
    "\n",
    "tanguy = {}\n",
    "\n",
    "print(\"-- XLSX FILES --\")\n",
    "for file_path in glob(\"*.xlsx\"):\n",
    "    file_name = file_path.split(\".\")[0]\n",
    "    \n",
    "    print(file_name + \" sheets:\")\n",
    "    \n",
    "    file = pd.ExcelFile(file_path)\n",
    "    for sheet in file.sheet_names:\n",
    "        print(\"-->\"+sheet)\n",
    "        tanguy[sheet] = file.parse(sheet)\n",
    "    print()\n",
    "    \n",
    "    \n",
    "print(\"\\n-- XLS FILES --\") \n",
    "for file_path in glob(\"*.xls\"):\n",
    "    file_name = file_path.split(\".\")[0]\n",
    "    \n",
    "    print(file_name + \" sheets:\")\n",
    "    \n",
    "    file = pd.ExcelFile(file_path)\n",
    "    for sheet in file.sheet_names:\n",
    "        print(\"-->\"+sheet)\n",
    "        tanguy[sheet] = file.parse(sheet)\n",
    "    print()\n",
    "    \n",
    "print(\"\\n-- csv FILES --\")\n",
    "for file_path in glob(\"*.csv\"):\n",
    "    file_name = file_path.split(\".\")[0]\n",
    "    print(file_name)\n",
    "    file_df = pd.read_csv(file_path, sep=';')\n",
    "    tanguy[file_name] = file_df\n",
    "\n",
    "print(\"\\n-- CSV FILES --\")\n",
    "for file_path in glob(\"*.CSV\"):\n",
    "    file_name = file_path.split(\".\")[0]\n",
    "    print(file_name)\n",
    "    file_df = pd.read_csv(file_path, sep=';')\n",
    "    tanguy[file_name] = file_df"
   ]
  },
  {
   "cell_type": "code",
   "execution_count": 25,
   "metadata": {},
   "outputs": [
    {
     "data": {
      "text/plain": "0       1957-07-01\n1       1957-07-02\n2       1957-07-03\n3       1957-07-05\n4       1957-07-08\n           ...    \n16503   2021-09-24\n16504   2021-09-27\n16505   2021-09-28\n16506   2021-09-29\n16507   2021-09-30\nName: DATE, Length: 16508, dtype: datetime64[ns]"
     },
     "execution_count": 25,
     "metadata": {},
     "output_type": "execute_result"
    }
   ],
   "source": [
    "tanguy['QMJ Factors']['DATE']"
   ]
  },
  {
   "cell_type": "code",
   "execution_count": 27,
   "outputs": [],
   "source": [
    "import datetime"
   ],
   "metadata": {
    "collapsed": false,
    "pycharm": {
     "name": "#%%\n"
    }
   }
  },
  {
   "cell_type": "code",
   "execution_count": 32,
   "outputs": [],
   "source": [
    "keys = list(tanguy.keys())\n",
    "for key in keys:\n",
    "    if key !='FUTURES MATURITIES':\n",
    "        if type(tanguy[key].index)!=pd.DatetimeIndex:\n",
    "            date_col = [col for col in ['Date','DATE','Unnamed: 0','Reported data', 'time'] if col in tanguy[key].columns]\n",
    "            assert len(date_col)==1, \"Date column is not unique\"+ str( key)\n",
    "            tanguy[key].set_index(date_col, inplace=True)\n",
    "            if key == 'VME Factors':\n",
    "                start_date = tanguy[\"VME Factors\"].index.min() - pd.DateOffset(day=1)\n",
    "                end_date = tanguy[\"VME Factors\"].index.max() + pd.DateOffset(day=31)\n",
    "                dates = pd.date_range(start_date, end_date, freq='D')\n",
    "                tanguy[\"VME Factors\"] = tanguy[\"VME Factors\"].reindex(dates, method='ffill')\n",
    "        tanguy[key].index.names = [\"Date\"]\n",
    "        tanguy[key].rename(columns = lambda x: x+'_'+key,inplace=True)"
   ],
   "metadata": {
    "collapsed": false,
    "pycharm": {
     "name": "#%%\n"
    }
   }
  },
  {
   "cell_type": "code",
   "execution_count": 37,
   "outputs": [
    {
     "name": "stdout",
     "output_type": "stream",
     "text": [
      "Sheet1\n",
      "VME Factors\n",
      "CL1\n",
      "CL2\n",
      "CL3\n",
      "Euribor3\n",
      "Bund10\n",
      "FUTURES MATURITIES\n",
      "BAB Factors\n",
      "SENTIMENT\n",
      "F-F_ST_Reversal_Factor_daily\n",
      "F-F_Research_Data_5_Factors_2x3_daily\n",
      "F-F_Momentum_Factor_daily\n"
     ]
    },
    {
     "data": {
      "text/plain": "['QMJ Factors',\n 'HML Devil',\n 'Sheet1',\n 'VME Factors',\n 'CL1',\n 'CL2',\n 'CL3',\n 'Euribor3',\n 'Bund10',\n 'FUTURES MATURITIES',\n 'BAB Factors',\n 'SENTIMENT']"
     },
     "execution_count": 37,
     "metadata": {},
     "output_type": "execute_result"
    }
   ],
   "source": [
    "#Now merging everything into big_base\n",
    "\n",
    "big_base = tanguy[keys[0]]['2000':].join(tanguy[keys[1]]['2000':], how='outer')\n",
    "\n",
    "\n",
    "for key in keys[2:]:\n",
    "    print(key)\n",
    "    if key not in ['FUTURES MATURITIES','F-F_ST_Reversal_Factor_daily', 'F-F_Research_Data_5_Factors_2x3_daily', 'F-F_Momentum_Factor_daily']: big_base = big_base.join(tanguy[key]['2000':], how='outer')\n",
    "\n",
    "big_base.interpolate(method='time' ,axis='index', limit_area='inside', inplace=True)\n",
    "\n",
    "\n",
    "['QMJ Factors', 'HML Devil', 'Sheet1', 'VME Factors', 'CL1', 'CL2', 'CL3', 'Euribor3', 'Bund10', 'FUTURES MATURITIES', 'BAB Factors', 'SENTIMENT', ]\n",
    "\n"
   ],
   "metadata": {
    "collapsed": false,
    "pycharm": {
     "name": "#%%\n"
    }
   }
  },
  {
   "cell_type": "code",
   "execution_count": 38,
   "outputs": [],
   "source": [
    "big_base.to_excel('giga_base.xlsx', na_rep='#N/A N/A')\n"
   ],
   "metadata": {
    "collapsed": false,
    "pycharm": {
     "name": "#%%\n"
    }
   }
  },
  {
   "cell_type": "code",
   "execution_count": 39,
   "outputs": [
    {
     "data": {
      "text/plain": "            QMJ USA_QMJ Factors  QMJ Global_QMJ Factors  \\\nDate                                                      \n2000-01-01                  NaN                     NaN   \n2000-01-02                  NaN                     NaN   \n2000-01-03            -0.001870                0.000133   \n2000-01-04             0.001110               -0.001725   \n2000-01-05             0.004527                0.001617   \n...                         ...                     ...   \n2021-10-28                  NaN                     NaN   \n2021-10-29                  NaN                     NaN   \n2021-11-04                  NaN                     NaN   \n2021-11-11                  NaN                     NaN   \n2021-11-18                  NaN                     NaN   \n\n            QMJ Global Ex USA_QMJ Factors  QMJ Europe_QMJ Factors  \\\nDate                                                                \n2000-01-01                            NaN                     NaN   \n2000-01-02                            NaN                     NaN   \n2000-01-03                       0.002284                0.004255   \n2000-01-04                      -0.004759               -0.000253   \n2000-01-05                      -0.001515               -0.003912   \n...                                   ...                     ...   \n2021-10-28                            NaN                     NaN   \n2021-10-29                            NaN                     NaN   \n2021-11-04                            NaN                     NaN   \n2021-11-11                            NaN                     NaN   \n2021-11-18                            NaN                     NaN   \n\n            HMLD USA_HML Devil  HMLD Global_HML Devil  \\\nDate                                                    \n2000-01-01                 NaN                    NaN   \n2000-01-02                 NaN                    NaN   \n2000-01-03           -0.006890              -0.005618   \n2000-01-04            0.023893               0.015549   \n2000-01-05            0.009608               0.023290   \n...                        ...                    ...   \n2021-10-28           -0.008596              -0.007806   \n2021-10-29           -0.012750              -0.008063   \n2021-11-04                 NaN                    NaN   \n2021-11-11                 NaN                    NaN   \n2021-11-18                 NaN                    NaN   \n\n            HMLD Global Ex USA_HML Devil  HMLD Europe_HML Devil  \\\nDate                                                              \n2000-01-01                           NaN                    NaN   \n2000-01-02                           NaN                    NaN   \n2000-01-03                     -0.004275              -0.004158   \n2000-01-04                      0.006767               0.013849   \n2000-01-05                      0.037936               0.027106   \n...                                  ...                    ...   \n2021-10-28                     -0.006668              -0.008224   \n2021-10-29                     -0.001326              -0.000107   \n2021-11-04                           NaN                    NaN   \n2021-11-11                           NaN                    NaN   \n2021-11-18                           NaN                    NaN   \n\n            PX_OPEN_VIX_Sheet1  PX_HIGH_VIX_Sheet1  ...  \\\nDate                                                ...   \n2000-01-01                 NaN                 NaN  ...   \n2000-01-02                 NaN                 NaN  ...   \n2000-01-03               24.36               26.15  ...   \n2000-01-04               24.94               27.18  ...   \n2000-01-05               27.98               29.00  ...   \n...                        ...                 ...  ...   \n2021-10-28                 NaN                 NaN  ...   \n2021-10-29                 NaN                 NaN  ...   \n2021-11-04                 NaN                 NaN  ...   \n2021-11-11                 NaN                 NaN  ...   \n2021-11-18                 NaN                 NaN  ...   \n\n            BAB Global Ex USA_BAB Factors  BAB Europe_BAB Factors  \\\nDate                                                                \n2000-01-01                            NaN                     NaN   \n2000-01-02                            NaN                     NaN   \n2000-01-03                       0.002757                0.005155   \n2000-01-04                       0.013752                0.023651   \n2000-01-05                       0.006975                0.013357   \n...                                   ...                     ...   \n2021-10-28                       0.005631                0.006733   \n2021-10-29                      -0.004045               -0.001651   \n2021-11-04                            NaN                     NaN   \n2021-11-11                            NaN                     NaN   \n2021-11-18                            NaN                     NaN   \n\n            Bullish_SENTIMENT  Neutral_SENTIMENT  Bearish_SENTIMENT  \\\nDate                                                                  \n2000-01-01                NaN                NaN                NaN   \n2000-01-02                NaN                NaN                NaN   \n2000-01-03                NaN                NaN                NaN   \n2000-01-04                NaN                NaN                NaN   \n2000-01-05                NaN                NaN                NaN   \n...                       ...                ...                ...   \n2021-10-28           0.400359           0.309564           0.290076   \n2021-10-29           0.402451           0.311769           0.285779   \n2021-11-04           0.415000           0.325000           0.260000   \n2021-11-11           0.480000           0.280000           0.240000   \n2021-11-18           0.388393           0.339286           0.272321   \n\n            Bullish 8-week Mov Avg_SENTIMENT  Bull-Bear Spread_SENTIMENT  \\\nDate                                                                       \n2000-01-01                               NaN                         NaN   \n2000-01-02                               NaN                         NaN   \n2000-01-03                               NaN                         NaN   \n2000-01-04                               NaN                         NaN   \n2000-01-05                               NaN                         NaN   \n...                                      ...                         ...   \n2021-10-28                          0.367826                    0.110284   \n2021-10-29                          0.367901                    0.116672   \n2021-11-04                          0.368357                    0.155000   \n2021-11-11                          0.371632                    0.240000   \n2021-11-18                          0.370881                    0.116072   \n\n            S&P 500 Weeky High_SENTIMENT  S&P 500 Weekly Low_SENTIMENT  \\\nDate                                                                     \n2000-01-01                           NaN                           NaN   \n2000-01-02                           NaN                           NaN   \n2000-01-03                           NaN                           NaN   \n2000-01-04                           NaN                           NaN   \n2000-01-05                           NaN                           NaN   \n...                                  ...                           ...   \n2021-10-28                    4609.08875                      4528.855   \n2021-10-29                    4619.64750                      4533.710   \n2021-11-04                    4683.00000                      4562.840   \n2021-11-11                    4718.50000                      4630.860   \n2021-11-18                    4714.95000                      4648.310   \n\n            S&P 500 Weekly Close_SENTIMENT  \nDate                                        \n2000-01-01                             NaN  \n2000-01-02                             NaN  \n2000-01-03                             NaN  \n2000-01-04                             NaN  \n2000-01-05                             NaN  \n...                                    ...  \n2021-10-28                        4566.605  \n2021-10-29                        4581.530  \n2021-11-04                        4671.080  \n2021-11-11                        4646.050  \n2021-11-18                        4688.670  \n\n[7968 rows x 171 columns]",
      "text/html": "<div>\n<style scoped>\n    .dataframe tbody tr th:only-of-type {\n        vertical-align: middle;\n    }\n\n    .dataframe tbody tr th {\n        vertical-align: top;\n    }\n\n    .dataframe thead th {\n        text-align: right;\n    }\n</style>\n<table border=\"1\" class=\"dataframe\">\n  <thead>\n    <tr style=\"text-align: right;\">\n      <th></th>\n      <th>QMJ USA_QMJ Factors</th>\n      <th>QMJ Global_QMJ Factors</th>\n      <th>QMJ Global Ex USA_QMJ Factors</th>\n      <th>QMJ Europe_QMJ Factors</th>\n      <th>HMLD USA_HML Devil</th>\n      <th>HMLD Global_HML Devil</th>\n      <th>HMLD Global Ex USA_HML Devil</th>\n      <th>HMLD Europe_HML Devil</th>\n      <th>PX_OPEN_VIX_Sheet1</th>\n      <th>PX_HIGH_VIX_Sheet1</th>\n      <th>...</th>\n      <th>BAB Global Ex USA_BAB Factors</th>\n      <th>BAB Europe_BAB Factors</th>\n      <th>Bullish_SENTIMENT</th>\n      <th>Neutral_SENTIMENT</th>\n      <th>Bearish_SENTIMENT</th>\n      <th>Bullish 8-week Mov Avg_SENTIMENT</th>\n      <th>Bull-Bear Spread_SENTIMENT</th>\n      <th>S&amp;P 500 Weeky High_SENTIMENT</th>\n      <th>S&amp;P 500 Weekly Low_SENTIMENT</th>\n      <th>S&amp;P 500 Weekly Close_SENTIMENT</th>\n    </tr>\n    <tr>\n      <th>Date</th>\n      <th></th>\n      <th></th>\n      <th></th>\n      <th></th>\n      <th></th>\n      <th></th>\n      <th></th>\n      <th></th>\n      <th></th>\n      <th></th>\n      <th></th>\n      <th></th>\n      <th></th>\n      <th></th>\n      <th></th>\n      <th></th>\n      <th></th>\n      <th></th>\n      <th></th>\n      <th></th>\n      <th></th>\n    </tr>\n  </thead>\n  <tbody>\n    <tr>\n      <th>2000-01-01</th>\n      <td>NaN</td>\n      <td>NaN</td>\n      <td>NaN</td>\n      <td>NaN</td>\n      <td>NaN</td>\n      <td>NaN</td>\n      <td>NaN</td>\n      <td>NaN</td>\n      <td>NaN</td>\n      <td>NaN</td>\n      <td>...</td>\n      <td>NaN</td>\n      <td>NaN</td>\n      <td>NaN</td>\n      <td>NaN</td>\n      <td>NaN</td>\n      <td>NaN</td>\n      <td>NaN</td>\n      <td>NaN</td>\n      <td>NaN</td>\n      <td>NaN</td>\n    </tr>\n    <tr>\n      <th>2000-01-02</th>\n      <td>NaN</td>\n      <td>NaN</td>\n      <td>NaN</td>\n      <td>NaN</td>\n      <td>NaN</td>\n      <td>NaN</td>\n      <td>NaN</td>\n      <td>NaN</td>\n      <td>NaN</td>\n      <td>NaN</td>\n      <td>...</td>\n      <td>NaN</td>\n      <td>NaN</td>\n      <td>NaN</td>\n      <td>NaN</td>\n      <td>NaN</td>\n      <td>NaN</td>\n      <td>NaN</td>\n      <td>NaN</td>\n      <td>NaN</td>\n      <td>NaN</td>\n    </tr>\n    <tr>\n      <th>2000-01-03</th>\n      <td>-0.001870</td>\n      <td>0.000133</td>\n      <td>0.002284</td>\n      <td>0.004255</td>\n      <td>-0.006890</td>\n      <td>-0.005618</td>\n      <td>-0.004275</td>\n      <td>-0.004158</td>\n      <td>24.36</td>\n      <td>26.15</td>\n      <td>...</td>\n      <td>0.002757</td>\n      <td>0.005155</td>\n      <td>NaN</td>\n      <td>NaN</td>\n      <td>NaN</td>\n      <td>NaN</td>\n      <td>NaN</td>\n      <td>NaN</td>\n      <td>NaN</td>\n      <td>NaN</td>\n    </tr>\n    <tr>\n      <th>2000-01-04</th>\n      <td>0.001110</td>\n      <td>-0.001725</td>\n      <td>-0.004759</td>\n      <td>-0.000253</td>\n      <td>0.023893</td>\n      <td>0.015549</td>\n      <td>0.006767</td>\n      <td>0.013849</td>\n      <td>24.94</td>\n      <td>27.18</td>\n      <td>...</td>\n      <td>0.013752</td>\n      <td>0.023651</td>\n      <td>NaN</td>\n      <td>NaN</td>\n      <td>NaN</td>\n      <td>NaN</td>\n      <td>NaN</td>\n      <td>NaN</td>\n      <td>NaN</td>\n      <td>NaN</td>\n    </tr>\n    <tr>\n      <th>2000-01-05</th>\n      <td>0.004527</td>\n      <td>0.001617</td>\n      <td>-0.001515</td>\n      <td>-0.003912</td>\n      <td>0.009608</td>\n      <td>0.023290</td>\n      <td>0.037936</td>\n      <td>0.027106</td>\n      <td>27.98</td>\n      <td>29.00</td>\n      <td>...</td>\n      <td>0.006975</td>\n      <td>0.013357</td>\n      <td>NaN</td>\n      <td>NaN</td>\n      <td>NaN</td>\n      <td>NaN</td>\n      <td>NaN</td>\n      <td>NaN</td>\n      <td>NaN</td>\n      <td>NaN</td>\n    </tr>\n    <tr>\n      <th>...</th>\n      <td>...</td>\n      <td>...</td>\n      <td>...</td>\n      <td>...</td>\n      <td>...</td>\n      <td>...</td>\n      <td>...</td>\n      <td>...</td>\n      <td>...</td>\n      <td>...</td>\n      <td>...</td>\n      <td>...</td>\n      <td>...</td>\n      <td>...</td>\n      <td>...</td>\n      <td>...</td>\n      <td>...</td>\n      <td>...</td>\n      <td>...</td>\n      <td>...</td>\n      <td>...</td>\n    </tr>\n    <tr>\n      <th>2021-10-28</th>\n      <td>NaN</td>\n      <td>NaN</td>\n      <td>NaN</td>\n      <td>NaN</td>\n      <td>-0.008596</td>\n      <td>-0.007806</td>\n      <td>-0.006668</td>\n      <td>-0.008224</td>\n      <td>NaN</td>\n      <td>NaN</td>\n      <td>...</td>\n      <td>0.005631</td>\n      <td>0.006733</td>\n      <td>0.400359</td>\n      <td>0.309564</td>\n      <td>0.290076</td>\n      <td>0.367826</td>\n      <td>0.110284</td>\n      <td>4609.08875</td>\n      <td>4528.855</td>\n      <td>4566.605</td>\n    </tr>\n    <tr>\n      <th>2021-10-29</th>\n      <td>NaN</td>\n      <td>NaN</td>\n      <td>NaN</td>\n      <td>NaN</td>\n      <td>-0.012750</td>\n      <td>-0.008063</td>\n      <td>-0.001326</td>\n      <td>-0.000107</td>\n      <td>NaN</td>\n      <td>NaN</td>\n      <td>...</td>\n      <td>-0.004045</td>\n      <td>-0.001651</td>\n      <td>0.402451</td>\n      <td>0.311769</td>\n      <td>0.285779</td>\n      <td>0.367901</td>\n      <td>0.116672</td>\n      <td>4619.64750</td>\n      <td>4533.710</td>\n      <td>4581.530</td>\n    </tr>\n    <tr>\n      <th>2021-11-04</th>\n      <td>NaN</td>\n      <td>NaN</td>\n      <td>NaN</td>\n      <td>NaN</td>\n      <td>NaN</td>\n      <td>NaN</td>\n      <td>NaN</td>\n      <td>NaN</td>\n      <td>NaN</td>\n      <td>NaN</td>\n      <td>...</td>\n      <td>NaN</td>\n      <td>NaN</td>\n      <td>0.415000</td>\n      <td>0.325000</td>\n      <td>0.260000</td>\n      <td>0.368357</td>\n      <td>0.155000</td>\n      <td>4683.00000</td>\n      <td>4562.840</td>\n      <td>4671.080</td>\n    </tr>\n    <tr>\n      <th>2021-11-11</th>\n      <td>NaN</td>\n      <td>NaN</td>\n      <td>NaN</td>\n      <td>NaN</td>\n      <td>NaN</td>\n      <td>NaN</td>\n      <td>NaN</td>\n      <td>NaN</td>\n      <td>NaN</td>\n      <td>NaN</td>\n      <td>...</td>\n      <td>NaN</td>\n      <td>NaN</td>\n      <td>0.480000</td>\n      <td>0.280000</td>\n      <td>0.240000</td>\n      <td>0.371632</td>\n      <td>0.240000</td>\n      <td>4718.50000</td>\n      <td>4630.860</td>\n      <td>4646.050</td>\n    </tr>\n    <tr>\n      <th>2021-11-18</th>\n      <td>NaN</td>\n      <td>NaN</td>\n      <td>NaN</td>\n      <td>NaN</td>\n      <td>NaN</td>\n      <td>NaN</td>\n      <td>NaN</td>\n      <td>NaN</td>\n      <td>NaN</td>\n      <td>NaN</td>\n      <td>...</td>\n      <td>NaN</td>\n      <td>NaN</td>\n      <td>0.388393</td>\n      <td>0.339286</td>\n      <td>0.272321</td>\n      <td>0.370881</td>\n      <td>0.116072</td>\n      <td>4714.95000</td>\n      <td>4648.310</td>\n      <td>4688.670</td>\n    </tr>\n  </tbody>\n</table>\n<p>7968 rows × 171 columns</p>\n</div>"
     },
     "execution_count": 39,
     "metadata": {},
     "output_type": "execute_result"
    }
   ],
   "source": [
    "big_base"
   ],
   "metadata": {
    "collapsed": false,
    "pycharm": {
     "name": "#%%\n"
    }
   }
  },
  {
   "cell_type": "code",
   "execution_count": 66,
   "outputs": [
    {
     "data": {
      "text/plain": "            PX_OPEN_VIX_Sheet1_Sheet1  PX_HIGH_VIX_Sheet1_Sheet1  \\\nDate                                                               \n2000-01-03                      24.36                      26.15   \n2000-01-04                      24.94                      27.18   \n2000-01-05                      27.98                      29.00   \n2000-01-06                      26.68                      26.71   \n2000-01-07                      25.14                      25.17   \n...                               ...                        ...   \n2021-05-19                      22.46                      25.96   \n2021-05-20                      22.33                      23.50   \n2021-05-21                      20.42                      20.89   \n2021-05-24                      20.50                      20.51   \n2021-05-25                        NaN                        NaN   \n\n            PX_LOW_VIX_Sheet1_Sheet1  PX_LAST_VIX_Sheet1_Sheet1  \\\nDate                                                              \n2000-01-03                     23.98                      24.21   \n2000-01-04                     24.80                      27.01   \n2000-01-05                     25.85                      26.41   \n2000-01-06                     24.70                      25.73   \n2000-01-07                     21.72                      21.72   \n...                              ...                        ...   \n2021-05-19                     21.88                      22.18   \n2021-05-20                     20.19                      20.67   \n2021-05-21                     19.53                      20.15   \n2021-05-24                     18.38                      18.40   \n2021-05-25                       NaN                        NaN   \n\n            VOLUME_TOTAL_CALL_VIX_Sheet1_Sheet1  \\\nDate                                              \n2000-01-03                                  NaN   \n2000-01-04                                  NaN   \n2000-01-05                                  NaN   \n2000-01-06                                  NaN   \n2000-01-07                                  NaN   \n...                                         ...   \n2021-05-19                             417537.0   \n2021-05-20                             208977.0   \n2021-05-21                             127120.0   \n2021-05-24                             268111.0   \n2021-05-25                                  NaN   \n\n            PUT_CALL_VOLUME_RATIO_CUR_DAY_VIX_Sheet1_Sheet1  \\\nDate                                                          \n2000-01-03                                              NaN   \n2000-01-04                                              NaN   \n2000-01-05                                              NaN   \n2000-01-06                                              NaN   \n2000-01-07                                              NaN   \n...                                                     ...   \n2021-05-19                                           1.2020   \n2021-05-20                                           0.8944   \n2021-05-21                                           1.3804   \n2021-05-24                                           0.6661   \n2021-05-25                                              NaN   \n\n            VOLUME_TOTAL_PUT_VIX_Sheet1_Sheet1  \\\nDate                                             \n2000-01-03                                 NaN   \n2000-01-04                                 NaN   \n2000-01-05                                 NaN   \n2000-01-06                                 NaN   \n2000-01-07                                 NaN   \n...                                        ...   \n2021-05-19                            501893.0   \n2021-05-20                            186913.0   \n2021-05-21                            175475.0   \n2021-05-24                            178591.0   \n2021-05-25                                 NaN   \n\n            TOT_OPT_VOLUME_CUR_DAY_VIX_Sheet1_Sheet1  \\\nDate                                                   \n2000-01-03                                       NaN   \n2000-01-04                                       NaN   \n2000-01-05                                       NaN   \n2000-01-06                                       NaN   \n2000-01-07                                       NaN   \n...                                              ...   \n2021-05-19                                  919430.0   \n2021-05-20                                  395890.0   \n2021-05-21                                  302595.0   \n2021-05-24                                  446702.0   \n2021-05-25                                       NaN   \n\n            OPEN_INT_TOTAL_CALL_VIX_Sheet1_Sheet1  \\\nDate                                                \n2000-01-03                                    NaN   \n2000-01-04                                    NaN   \n2000-01-05                                    NaN   \n2000-01-06                                    NaN   \n2000-01-07                                    NaN   \n...                                           ...   \n2021-05-19                              4725251.0   \n2021-05-20                              4842985.0   \n2021-05-21                              4884139.0   \n2021-05-24                              4910844.0   \n2021-05-25                                    NaN   \n\n            OPEN_INT_TOTAL_PUT_VIX_Sheet1_Sheet1  ...  \\\nDate                                              ...   \n2000-01-03                                   NaN  ...   \n2000-01-04                                   NaN  ...   \n2000-01-05                                   NaN  ...   \n2000-01-06                                   NaN  ...   \n2000-01-07                                   NaN  ...   \n...                                          ...  ...   \n2021-05-19                             3133065.0  ...   \n2021-05-20                             3207980.0  ...   \n2021-05-21                             3263989.0  ...   \n2021-05-24                             3282429.0  ...   \n2021-05-25                                   NaN  ...   \n\n            12MTH_IMPVOL_100.0%MNY_DF_SX5E_Sheet1_Sheet1  \\\nDate                                                       \n2000-01-03                                           NaN   \n2000-01-04                                           NaN   \n2000-01-05                                           NaN   \n2000-01-06                                           NaN   \n2000-01-07                                           NaN   \n...                                                  ...   \n2021-05-19                                       18.2582   \n2021-05-20                                       17.7729   \n2021-05-21                                       17.4594   \n2021-05-24                                       17.3339   \n2021-05-25                                           NaN   \n\n            12MTH_IMPVOL_105.0%MNY_DF_SX5E_Sheet1_Sheet1  \\\nDate                                                       \n2000-01-03                                           NaN   \n2000-01-04                                           NaN   \n2000-01-05                                           NaN   \n2000-01-06                                           NaN   \n2000-01-07                                           NaN   \n...                                                  ...   \n2021-05-19                                       16.8149   \n2021-05-20                                       16.3696   \n2021-05-21                                       16.1039   \n2021-05-24                                       15.9854   \n2021-05-25                                           NaN   \n\n            12MTH_IMPVOL_110.0%MNY_DF_SX5E_Sheet1_Sheet1  \\\nDate                                                       \n2000-01-03                                           NaN   \n2000-01-04                                           NaN   \n2000-01-05                                           NaN   \n2000-01-06                                           NaN   \n2000-01-07                                           NaN   \n...                                                  ...   \n2021-05-19                                       15.6974   \n2021-05-20                                       15.2514   \n2021-05-21                                       15.0537   \n2021-05-24                                       14.9269   \n2021-05-25                                           NaN   \n\n            12MTH_IMPVOL_90.0%MNY_DF_SX5E_Sheet1_Sheet1  \\\nDate                                                      \n2000-01-03                                          NaN   \n2000-01-04                                          NaN   \n2000-01-05                                          NaN   \n2000-01-06                                          NaN   \n2000-01-07                                          NaN   \n...                                                 ...   \n2021-05-19                                      21.7018   \n2021-05-20                                      21.1484   \n2021-05-21                                      20.8913   \n2021-05-24                                      20.6730   \n2021-05-25                                          NaN   \n\n            12MTH_IMPVOL_95.0%MNY_DF_SX5E_Sheet1_Sheet1  \\\nDate                                                      \n2000-01-03                                          NaN   \n2000-01-04                                          NaN   \n2000-01-05                                          NaN   \n2000-01-06                                          NaN   \n2000-01-07                                          NaN   \n...                                                 ...   \n2021-05-19                                      19.8912   \n2021-05-20                                      19.3383   \n2021-05-21                                      19.0643   \n2021-05-24                                      18.8551   \n2021-05-25                                          NaN   \n\n            24MTH_IMPVOL_100.0%MNY_DF_SX5E_Sheet1_Sheet1  \\\nDate                                                       \n2000-01-03                                           NaN   \n2000-01-04                                           NaN   \n2000-01-05                                           NaN   \n2000-01-06                                           NaN   \n2000-01-07                                           NaN   \n...                                                  ...   \n2021-05-19                                       17.7160   \n2021-05-20                                       17.5221   \n2021-05-21                                       17.3253   \n2021-05-24                                       17.3101   \n2021-05-25                                           NaN   \n\n            24MTH_IMPVOL_105.0%MNY_DF_SX5E_Sheet1_Sheet1  \\\nDate                                                       \n2000-01-03                                           NaN   \n2000-01-04                                           NaN   \n2000-01-05                                           NaN   \n2000-01-06                                           NaN   \n2000-01-07                                           NaN   \n...                                                  ...   \n2021-05-19                                       16.9146   \n2021-05-20                                       16.7345   \n2021-05-21                                       16.5572   \n2021-05-24                                       16.5889   \n2021-05-25                                           NaN   \n\n            24MTH_IMPVOL_110.0%MNY_DF_SX5E_Sheet1_Sheet1  \\\nDate                                                       \n2000-01-03                                           NaN   \n2000-01-04                                           NaN   \n2000-01-05                                           NaN   \n2000-01-06                                           NaN   \n2000-01-07                                           NaN   \n...                                                  ...   \n2021-05-19                                       16.2554   \n2021-05-20                                       16.0898   \n2021-05-21                                       15.9109   \n2021-05-24                                       15.9315   \n2021-05-25                                           NaN   \n\n            24MTH_IMPVOL_90.0%MNY_DF_SX5E_Sheet1_Sheet1  \\\nDate                                                      \n2000-01-03                                          NaN   \n2000-01-04                                          NaN   \n2000-01-05                                          NaN   \n2000-01-06                                          NaN   \n2000-01-07                                          NaN   \n...                                                 ...   \n2021-05-19                                      19.7330   \n2021-05-20                                      19.4659   \n2021-05-21                                      19.3004   \n2021-05-24                                      19.1377   \n2021-05-25                                          NaN   \n\n            24MTH_IMPVOL_95.0%MNY_DF_SX5E_Sheet1_Sheet1  \nDate                                                     \n2000-01-03                                          NaN  \n2000-01-04                                          NaN  \n2000-01-05                                          NaN  \n2000-01-06                                          NaN  \n2000-01-07                                          NaN  \n...                                                 ...  \n2021-05-19                                      18.6524  \n2021-05-20                                      18.3847  \n2021-05-21                                      18.2317  \n2021-05-24                                      18.0510  \n2021-05-25                                          NaN  \n\n[5492 rows x 116 columns]",
      "text/html": "<div>\n<style scoped>\n    .dataframe tbody tr th:only-of-type {\n        vertical-align: middle;\n    }\n\n    .dataframe tbody tr th {\n        vertical-align: top;\n    }\n\n    .dataframe thead th {\n        text-align: right;\n    }\n</style>\n<table border=\"1\" class=\"dataframe\">\n  <thead>\n    <tr style=\"text-align: right;\">\n      <th></th>\n      <th>PX_OPEN_VIX_Sheet1_Sheet1</th>\n      <th>PX_HIGH_VIX_Sheet1_Sheet1</th>\n      <th>PX_LOW_VIX_Sheet1_Sheet1</th>\n      <th>PX_LAST_VIX_Sheet1_Sheet1</th>\n      <th>VOLUME_TOTAL_CALL_VIX_Sheet1_Sheet1</th>\n      <th>PUT_CALL_VOLUME_RATIO_CUR_DAY_VIX_Sheet1_Sheet1</th>\n      <th>VOLUME_TOTAL_PUT_VIX_Sheet1_Sheet1</th>\n      <th>TOT_OPT_VOLUME_CUR_DAY_VIX_Sheet1_Sheet1</th>\n      <th>OPEN_INT_TOTAL_CALL_VIX_Sheet1_Sheet1</th>\n      <th>OPEN_INT_TOTAL_PUT_VIX_Sheet1_Sheet1</th>\n      <th>...</th>\n      <th>12MTH_IMPVOL_100.0%MNY_DF_SX5E_Sheet1_Sheet1</th>\n      <th>12MTH_IMPVOL_105.0%MNY_DF_SX5E_Sheet1_Sheet1</th>\n      <th>12MTH_IMPVOL_110.0%MNY_DF_SX5E_Sheet1_Sheet1</th>\n      <th>12MTH_IMPVOL_90.0%MNY_DF_SX5E_Sheet1_Sheet1</th>\n      <th>12MTH_IMPVOL_95.0%MNY_DF_SX5E_Sheet1_Sheet1</th>\n      <th>24MTH_IMPVOL_100.0%MNY_DF_SX5E_Sheet1_Sheet1</th>\n      <th>24MTH_IMPVOL_105.0%MNY_DF_SX5E_Sheet1_Sheet1</th>\n      <th>24MTH_IMPVOL_110.0%MNY_DF_SX5E_Sheet1_Sheet1</th>\n      <th>24MTH_IMPVOL_90.0%MNY_DF_SX5E_Sheet1_Sheet1</th>\n      <th>24MTH_IMPVOL_95.0%MNY_DF_SX5E_Sheet1_Sheet1</th>\n    </tr>\n    <tr>\n      <th>Date</th>\n      <th></th>\n      <th></th>\n      <th></th>\n      <th></th>\n      <th></th>\n      <th></th>\n      <th></th>\n      <th></th>\n      <th></th>\n      <th></th>\n      <th></th>\n      <th></th>\n      <th></th>\n      <th></th>\n      <th></th>\n      <th></th>\n      <th></th>\n      <th></th>\n      <th></th>\n      <th></th>\n      <th></th>\n    </tr>\n  </thead>\n  <tbody>\n    <tr>\n      <th>2000-01-03</th>\n      <td>24.36</td>\n      <td>26.15</td>\n      <td>23.98</td>\n      <td>24.21</td>\n      <td>NaN</td>\n      <td>NaN</td>\n      <td>NaN</td>\n      <td>NaN</td>\n      <td>NaN</td>\n      <td>NaN</td>\n      <td>...</td>\n      <td>NaN</td>\n      <td>NaN</td>\n      <td>NaN</td>\n      <td>NaN</td>\n      <td>NaN</td>\n      <td>NaN</td>\n      <td>NaN</td>\n      <td>NaN</td>\n      <td>NaN</td>\n      <td>NaN</td>\n    </tr>\n    <tr>\n      <th>2000-01-04</th>\n      <td>24.94</td>\n      <td>27.18</td>\n      <td>24.80</td>\n      <td>27.01</td>\n      <td>NaN</td>\n      <td>NaN</td>\n      <td>NaN</td>\n      <td>NaN</td>\n      <td>NaN</td>\n      <td>NaN</td>\n      <td>...</td>\n      <td>NaN</td>\n      <td>NaN</td>\n      <td>NaN</td>\n      <td>NaN</td>\n      <td>NaN</td>\n      <td>NaN</td>\n      <td>NaN</td>\n      <td>NaN</td>\n      <td>NaN</td>\n      <td>NaN</td>\n    </tr>\n    <tr>\n      <th>2000-01-05</th>\n      <td>27.98</td>\n      <td>29.00</td>\n      <td>25.85</td>\n      <td>26.41</td>\n      <td>NaN</td>\n      <td>NaN</td>\n      <td>NaN</td>\n      <td>NaN</td>\n      <td>NaN</td>\n      <td>NaN</td>\n      <td>...</td>\n      <td>NaN</td>\n      <td>NaN</td>\n      <td>NaN</td>\n      <td>NaN</td>\n      <td>NaN</td>\n      <td>NaN</td>\n      <td>NaN</td>\n      <td>NaN</td>\n      <td>NaN</td>\n      <td>NaN</td>\n    </tr>\n    <tr>\n      <th>2000-01-06</th>\n      <td>26.68</td>\n      <td>26.71</td>\n      <td>24.70</td>\n      <td>25.73</td>\n      <td>NaN</td>\n      <td>NaN</td>\n      <td>NaN</td>\n      <td>NaN</td>\n      <td>NaN</td>\n      <td>NaN</td>\n      <td>...</td>\n      <td>NaN</td>\n      <td>NaN</td>\n      <td>NaN</td>\n      <td>NaN</td>\n      <td>NaN</td>\n      <td>NaN</td>\n      <td>NaN</td>\n      <td>NaN</td>\n      <td>NaN</td>\n      <td>NaN</td>\n    </tr>\n    <tr>\n      <th>2000-01-07</th>\n      <td>25.14</td>\n      <td>25.17</td>\n      <td>21.72</td>\n      <td>21.72</td>\n      <td>NaN</td>\n      <td>NaN</td>\n      <td>NaN</td>\n      <td>NaN</td>\n      <td>NaN</td>\n      <td>NaN</td>\n      <td>...</td>\n      <td>NaN</td>\n      <td>NaN</td>\n      <td>NaN</td>\n      <td>NaN</td>\n      <td>NaN</td>\n      <td>NaN</td>\n      <td>NaN</td>\n      <td>NaN</td>\n      <td>NaN</td>\n      <td>NaN</td>\n    </tr>\n    <tr>\n      <th>...</th>\n      <td>...</td>\n      <td>...</td>\n      <td>...</td>\n      <td>...</td>\n      <td>...</td>\n      <td>...</td>\n      <td>...</td>\n      <td>...</td>\n      <td>...</td>\n      <td>...</td>\n      <td>...</td>\n      <td>...</td>\n      <td>...</td>\n      <td>...</td>\n      <td>...</td>\n      <td>...</td>\n      <td>...</td>\n      <td>...</td>\n      <td>...</td>\n      <td>...</td>\n      <td>...</td>\n    </tr>\n    <tr>\n      <th>2021-05-19</th>\n      <td>22.46</td>\n      <td>25.96</td>\n      <td>21.88</td>\n      <td>22.18</td>\n      <td>417537.0</td>\n      <td>1.2020</td>\n      <td>501893.0</td>\n      <td>919430.0</td>\n      <td>4725251.0</td>\n      <td>3133065.0</td>\n      <td>...</td>\n      <td>18.2582</td>\n      <td>16.8149</td>\n      <td>15.6974</td>\n      <td>21.7018</td>\n      <td>19.8912</td>\n      <td>17.7160</td>\n      <td>16.9146</td>\n      <td>16.2554</td>\n      <td>19.7330</td>\n      <td>18.6524</td>\n    </tr>\n    <tr>\n      <th>2021-05-20</th>\n      <td>22.33</td>\n      <td>23.50</td>\n      <td>20.19</td>\n      <td>20.67</td>\n      <td>208977.0</td>\n      <td>0.8944</td>\n      <td>186913.0</td>\n      <td>395890.0</td>\n      <td>4842985.0</td>\n      <td>3207980.0</td>\n      <td>...</td>\n      <td>17.7729</td>\n      <td>16.3696</td>\n      <td>15.2514</td>\n      <td>21.1484</td>\n      <td>19.3383</td>\n      <td>17.5221</td>\n      <td>16.7345</td>\n      <td>16.0898</td>\n      <td>19.4659</td>\n      <td>18.3847</td>\n    </tr>\n    <tr>\n      <th>2021-05-21</th>\n      <td>20.42</td>\n      <td>20.89</td>\n      <td>19.53</td>\n      <td>20.15</td>\n      <td>127120.0</td>\n      <td>1.3804</td>\n      <td>175475.0</td>\n      <td>302595.0</td>\n      <td>4884139.0</td>\n      <td>3263989.0</td>\n      <td>...</td>\n      <td>17.4594</td>\n      <td>16.1039</td>\n      <td>15.0537</td>\n      <td>20.8913</td>\n      <td>19.0643</td>\n      <td>17.3253</td>\n      <td>16.5572</td>\n      <td>15.9109</td>\n      <td>19.3004</td>\n      <td>18.2317</td>\n    </tr>\n    <tr>\n      <th>2021-05-24</th>\n      <td>20.50</td>\n      <td>20.51</td>\n      <td>18.38</td>\n      <td>18.40</td>\n      <td>268111.0</td>\n      <td>0.6661</td>\n      <td>178591.0</td>\n      <td>446702.0</td>\n      <td>4910844.0</td>\n      <td>3282429.0</td>\n      <td>...</td>\n      <td>17.3339</td>\n      <td>15.9854</td>\n      <td>14.9269</td>\n      <td>20.6730</td>\n      <td>18.8551</td>\n      <td>17.3101</td>\n      <td>16.5889</td>\n      <td>15.9315</td>\n      <td>19.1377</td>\n      <td>18.0510</td>\n    </tr>\n    <tr>\n      <th>2021-05-25</th>\n      <td>NaN</td>\n      <td>NaN</td>\n      <td>NaN</td>\n      <td>NaN</td>\n      <td>NaN</td>\n      <td>NaN</td>\n      <td>NaN</td>\n      <td>NaN</td>\n      <td>NaN</td>\n      <td>NaN</td>\n      <td>...</td>\n      <td>NaN</td>\n      <td>NaN</td>\n      <td>NaN</td>\n      <td>NaN</td>\n      <td>NaN</td>\n      <td>NaN</td>\n      <td>NaN</td>\n      <td>NaN</td>\n      <td>NaN</td>\n      <td>NaN</td>\n    </tr>\n  </tbody>\n</table>\n<p>5492 rows × 116 columns</p>\n</div>"
     },
     "execution_count": 66,
     "metadata": {},
     "output_type": "execute_result"
    }
   ],
   "source": [
    "tanguy['Sheet1']"
   ],
   "metadata": {
    "collapsed": false,
    "pycharm": {
     "name": "#%%\n"
    }
   }
  },
  {
   "cell_type": "code",
   "execution_count": null,
   "outputs": [],
   "source": [],
   "metadata": {
    "collapsed": false,
    "pycharm": {
     "name": "#%%\n"
    }
   }
  }
 ],
 "metadata": {
  "interpreter": {
   "hash": "38740d3277777e2cd7c6c2cc9d8addf5118fdf3f82b1b39231fd12aeac8aee8b"
  },
  "kernelspec": {
   "display_name": "Python 3.9.5 64-bit ('base': conda)",
   "language": "python",
   "name": "python3"
  },
  "language_info": {
   "codemirror_mode": {
    "name": "ipython",
    "version": 3
   },
   "file_extension": ".py",
   "mimetype": "text/x-python",
   "name": "python",
   "nbconvert_exporter": "python",
   "pygments_lexer": "ipython3",
   "version": "3.9.5"
  },
  "orig_nbformat": 4
 },
 "nbformat": 4,
 "nbformat_minor": 2
}