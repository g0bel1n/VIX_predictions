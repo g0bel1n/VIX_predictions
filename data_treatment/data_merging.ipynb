{
 "cells": [
  {
   "cell_type": "code",
   "execution_count": 1,
   "metadata": {},
   "outputs": [
    {
     "name": "stdout",
     "output_type": "stream",
     "text": [
      "Requirement already satisfied: xlrd in /Users/thomaskientz/miniforge3/lib/python3.9/site-packages (2.0.1)\n"
     ]
    }
   ],
   "source": [
    "import os\n",
    "import pandas as pd\n",
    "\n",
    "from pathlib import Path\n",
    "from glob import glob\n",
    "from datetime import datetime\n",
    "\n",
    "!pip install xlrd"
   ]
  },
  {
   "cell_type": "markdown",
   "metadata": {},
   "source": [
    "Pour harmoniser les importations en chemin relatifs, dans des fichiers cousins :"
   ]
  },
  {
   "cell_type": "code",
   "execution_count": 2,
   "metadata": {},
   "outputs": [],
   "source": [
    "if not \"root\" in locals():\n",
    "    current_path = Path(os.getcwd())\n",
    "    root = current_path.parent.absolute()\n",
    "    data_folder = str(root) + '/treated_data/'\n"
   ]
  },
  {
   "cell_type": "code",
   "execution_count": 3,
   "metadata": {},
   "outputs": [
    {
     "name": "stdout",
     "output_type": "stream",
     "text": [
      "-- XLSX FILES --\n",
      "Quality Minus Junk Factors Daily sheets:\n",
      "-->QMJ Factors\n",
      "-->HML Devil\n",
      "\n",
      "OGTauxUS sheets:\n",
      "-->US Generic Govt 10 Yr\n",
      "-->USD SWAP SEMI 30 360 10Y\n",
      "-->ICE LIBOR USD 3 Month\n",
      "-->US Generic Govt 3 Mth\n",
      "-->USD SWAP OIS 3M\n",
      "\n",
      "bloom_data_2 sheets:\n",
      "-->CL1\n",
      "-->CL2\n",
      "-->CL3\n",
      "-->Euribor3\n",
      "-->Bund10\n",
      "-->FUTURES MATURITIES\n",
      "\n",
      "Betting Against Beta Equity Factors Daily sheets:\n",
      "-->BAB Factors\n",
      "\n",
      "Volatility_data_merged sheets:\n",
      "-->volatility\n",
      "\n",
      "\n",
      "-- XLS FILES --\n",
      "sentiment sheets:\n",
      "-->SENTIMENT\n",
      "\n",
      "\n",
      "-- csv FILES --\n",
      "F-F_ST_Reversal_Factor_daily\n",
      "F-F_Research_Data_5_Factors_2x3_daily\n",
      "F-F_Momentum_Factor_daily\n"
     ]
    }
   ],
   "source": [
    "types = [\"xlsx\", \"csv\", \"xls\"]\n",
    "\n",
    "os.chdir(data_folder)\n",
    "\n",
    "sheets_dict = {}\n",
    "\n",
    "print(\"-- XLSX FILES --\")\n",
    "for file_path in glob(\"*.xlsx\"):\n",
    "    file_name = file_path.split(\".\")[0]\n",
    "\n",
    "\n",
    "    print(file_name + \" sheets:\")\n",
    "    \n",
    "    file = pd.ExcelFile(file_path)\n",
    "    for sheet in file.sheet_names:\n",
    "        print(\"-->\"+sheet)\n",
    "        sheets_dict[sheet] = file.parse(sheet)\n",
    "    print()\n",
    "    \n",
    "    \n",
    "print(\"\\n-- XLS FILES --\") \n",
    "for file_path in glob(\"*.xls\"):\n",
    "    file_name = file_path.split(\".\")[0]\n",
    "\n",
    "    print(file_name + \" sheets:\")\n",
    "    \n",
    "    file = pd.ExcelFile(file_path)\n",
    "    for sheet in file.sheet_names:\n",
    "        print(\"-->\"+sheet)\n",
    "        sheets_dict[sheet] = file.parse(sheet)\n",
    "    print()\n",
    "    \n",
    "print(\"\\n-- csv FILES --\")\n",
    "for file_path in glob(\"*.csv\"):\n",
    "    file_name = file_path.split(\".\")[0]\n",
    "    print(file_name)\n",
    "    file_df = pd.read_csv(file_path, sep=';')\n",
    "    sheets_dict[file_name] = file_df\n"
   ]
  },
  {
   "cell_type": "code",
   "execution_count": 4,
   "metadata": {
    "collapsed": false,
    "pycharm": {
     "name": "#%%\n"
    }
   },
   "outputs": [],
   "source": [
    "keys = list(sheets_dict.keys())\n",
    "for key in keys:\n",
    "    if key !='FUTURES MATURITIES':\n",
    "        if type(sheets_dict[key].index)!=pd.DatetimeIndex:\n",
    "            date_col = [col for col in ['Date','DATE','Unnamed: 0','Reported data', 'time'] if col in sheets_dict[key].columns]\n",
    "            assert len(date_col)==1, \"Date column is not unique\"+ str( key)\n",
    "            if key in ['F-F_ST_Reversal_Factor_daily', 'F-F_Research_Data_5_Factors_2x3_daily', 'F-F_Momentum_Factor_daily']:\n",
    "                sheets_dict[key][date_col]= sheets_dict[key][date_col].applymap(lambda x: datetime.strptime(x,'%d/%m/%Y'))\n",
    "            sheets_dict[key].set_index(date_col, inplace=True)\n",
    "            if key == 'VME Factors':\n",
    "                # Resampling monthly -> daily\n",
    "                #The value for month n is the one released on the last day of the month n-1, as it is one agents use during month n.\n",
    "                start_date = sheets_dict[\"VME Factors\"].index.min() - pd.DateOffset(day=1)\n",
    "                end_date = sheets_dict[\"VME Factors\"].index.max() + pd.DateOffset(day=31)\n",
    "                dates = pd.date_range(start_date, end_date, freq='D')\n",
    "                sheets_dict[\"VME Factors\"] = sheets_dict[\"VME Factors\"].reindex(dates, method='ffill')\n",
    "        sheets_dict[key].index.names = [\"Date\"]\n",
    "        #Adding a suffix\n",
    "        sheets_dict[key].rename(columns = lambda x: x+'_'+key,inplace=True)\n"
   ]
  },
  {
   "cell_type": "code",
   "execution_count": 5,
   "metadata": {
    "collapsed": false,
    "pycharm": {
     "name": "#%%\n"
    }
   },
   "outputs": [],
   "source": [
    "principal_key = \"volatility\"\n",
    "banned_keys = ['FUTURES MATURITIES']\n",
    "keys = [e for e in sheets_dict.keys() if not e in [principal_key] + banned_keys]\n",
    "final_base = pd.merge_asof(sheets_dict[principal_key], sheets_dict[keys[0]], on=\"Date\")\n",
    "\n",
    "for i in range(1, len(keys)):\n",
    "    final_base = pd.merge_asof(final_base, sheets_dict[keys[i]], on=\"Date\")"
   ]
  },
  {
   "cell_type": "code",
   "execution_count": 6,
   "metadata": {
    "collapsed": false,
    "pycharm": {
     "name": "#%%\n"
    }
   },
   "outputs": [],
   "source": [
    "os.chdir(root)\n",
    "\n",
    "keys_to_remove = [\"VOLUME_TOTAL_CALL_VSTOXX_volatility\", \"PUT_CALL_VOLUME_RATIO_CUR_DAY_VSTOXX_volatility\", \"PUT_CALL_VOLUME_RATIO_CUR_DAY_VSTOXX_volatility\",\n",
    "                  \"TOT_OPT_VOLUME_CUR_DAY_VSTOXX_volatility\", \"VOLATILITY_360D_VSTOXX_volatility\",\n",
    "                  \"HIST_CALL_IMP_VOL_VSTOXX_volatility\", \"3MTH_IMPVOL_100.0%MNY_DF_VSTOXX_volatility\",\n",
    "                  \"3MTH_IMPVOL_105.0%MNY_DF_VSTOXX_volatility\", \"3MTH_IMPVOL_110.0%MNY_DF_VSTOXX_volatility\",\n",
    "                  \"3MTH_IMPVOL_90.0%MNY_DF_VSTOXX_volatility\", \"3MTH_IMPVOL_95.0%MNY_DF_VSTOXX_volatility\", \"6MTH_IMPVOL_100.0%MNY_DF_VSTOXX_volatility\",\n",
    "                  \"6MTH_IMPVOL_105.0%MNY_DF_VSTOXX_volatility\", \"6MTH_IMPVOL_110.0%MNY_DF_VSTOXX_volatility\", \"6MTH_IMPVOL_90.0%MNY_DF_VSTOXX_volatility\",\n",
    "                  \"6MTH_IMPVOL_95.0%MNY_DF_VSTOXX_volatility\", \"12MTH_IMPVOL_100.0%MNY_DF_VSTOXX_volatility\", \"12MTH_IMPVOL_105.0%MNY_DF_VSTOXX_volatility\",\n",
    "                  \"12MTH_IMPVOL_110.0%MNY_DF_VSTOXX_volatility\", \"12MTH_IMPVOL_90.0%MNY_DF_VSTOXX_volatility\", \"12MTH_IMPVOL_95.0%MNY_DF_VSTOXX_volatility\",\n",
    "                  \"24MTH_IMPVOL_100.0%MNY_DF_VSTOXX_volatility\", \"24MTH_IMPVOL_105.0%MNY_DF_VSTOXX_volatility\", \"24MTH_IMPVOL_110.0%MNY_DF_VSTOXX_volatility\",\n",
    "                  \"24MTH_IMPVOL_90.0%MNY_DF_VSTOXX_volatility\", \"24MTH_IMPVOL_95.0%MNY_DF_VSTOXX_volatility\", \"VOLUME_TOTAL_PUT_VSTOXX_volatility\",\n",
    "                  \"OPEN_INT_TOTAL_CALL_VSTOXX_volatility\", \"OPEN_INT_TOTAL_PUT_VSTOXX_volatility\",\n",
    "                  \"12MTH_IMPVOL_100.0%MNY_DF_VIX_volatility\", \"12MTH_IMPVOL_105.0%MNY_DF_VIX_volatility\", \"12MTH_IMPVOL_110.0%MNY_DF_VIX_volatility\", \"12MTH_IMPVOL_90.0%MNY_DF_VIX_volatility\", \n",
    "                  \"12MTH_IMPVOL_95.0%MNY_DF_VIX_volatility\", \"24MTH_IMPVOL_100.0%MNY_DF_VIX_volatility\", \"24MTH_IMPVOL_105.0%MNY_DF_VIX_volatility\", \"24MTH_IMPVOL_110.0%MNY_DF_VIX_volatility\", \n",
    "                  \"24MTH_IMPVOL_90.0%MNY_DF_VIX_volatility\", \"24MTH_IMPVOL_95.0%MNY_DF_VIX_volatility\"]\n",
    "\n",
    "\n",
    "final_base.set_index(\"Date\").drop(columns=keys_to_remove).to_csv('database.csv', na_rep='#N/A N/A')\n"
   ]
  },
  {
   "cell_type": "code",
   "execution_count": null,
   "metadata": {},
   "outputs": [],
   "source": []
  }
 ],
 "metadata": {
  "interpreter": {
   "hash": "38740d3277777e2cd7c6c2cc9d8addf5118fdf3f82b1b39231fd12aeac8aee8b"
  },
  "kernelspec": {
   "display_name": "Python 3.9.5 64-bit ('base': conda)",
   "language": "python",
   "name": "python3"
  },
  "language_info": {
   "codemirror_mode": {
    "name": "ipython",
    "version": 3
   },
   "file_extension": ".py",
   "mimetype": "text/x-python",
   "name": "python",
   "nbconvert_exporter": "python",
   "pygments_lexer": "ipython3",
   "version": "3.9.7"
  },
  "orig_nbformat": 4
 },
 "nbformat": 4,
 "nbformat_minor": 2
}