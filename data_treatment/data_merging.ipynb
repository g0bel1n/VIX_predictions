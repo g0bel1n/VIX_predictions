{
 "cells": [
  {
   "cell_type": "code",
   "execution_count": 1,
   "metadata": {},
   "outputs": [],
   "source": [
    "import os\n",
    "from pathlib import Path\n",
    "from glob import glob\n",
    "import pandas as pd"
   ]
  },
  {
   "cell_type": "code",
   "execution_count": 2,
   "metadata": {},
   "outputs": [],
   "source": [
    "current_path = Path(os.getcwd())\n",
    "root = current_path.parent.absolute()\n",
    "data_folder = str(root) + \"\\\\raw data\\\\\""
   ]
  },
  {
   "cell_type": "code",
   "execution_count": 5,
   "metadata": {},
   "outputs": [
    {
     "name": "stdout",
     "output_type": "stream",
     "text": [
      "-- XLSX FILES --\n",
      "Betting Against Beta Original Paper Data sheets:\n",
      "-->BAB factors\n",
      "-->Disclosures\n",
      "\n",
      "Quality Minus Junk Factors Daily sheets:\n",
      "-->QMJ Factors\n",
      "-->HML Devil\n",
      "\n",
      "\n",
      "-- XLS FILES --\n",
      "sentiment sheets:\n",
      "-->SENTIMENT\n",
      "-->CHART\n",
      "\n",
      "\n",
      "-- CSV FILES --\n",
      "F-F_Momentum_Factor_daily\n",
      "F-F_Research_Data_5_Factors_2x3_daily\n",
      "F-F_ST_Reversal_Factor_daily\n"
     ]
    }
   ],
   "source": [
    "types = [\"xlsx\", \"csv\", \"xls\"]\n",
    "\n",
    "os.chdir(data_folder)\n",
    "\n",
    "tanguy = {}\n",
    "\n",
    "print(\"-- XLSX FILES --\")\n",
    "for file_path in glob(\"*.xlsx\"):\n",
    "    file_name = file_path.split(\".\")[0]\n",
    "    \n",
    "    print(file_name + \" sheets:\")\n",
    "    \n",
    "    file = pd.ExcelFile(file_path)\n",
    "    for sheet in file.sheet_names:\n",
    "        print(\"-->\"+sheet)\n",
    "        tanguy[sheet] = file.parse(sheet)\n",
    "    print()\n",
    "    \n",
    "    \n",
    "print(\"\\n-- XLS FILES --\") \n",
    "for file_path in glob(\"*.xls\"):\n",
    "    file_name = file_path.split(\".\")[0]\n",
    "    \n",
    "    print(file_name + \" sheets:\")\n",
    "    \n",
    "    file = pd.ExcelFile(file_path)\n",
    "    for sheet in file.sheet_names:\n",
    "        print(\"-->\"+sheet)\n",
    "        tanguy[sheet] = file.parse(sheet)\n",
    "    print()\n",
    "    \n",
    "print(\"\\n-- CSV FILES --\") \n",
    "for file_path in glob(\"*.csv\"):\n",
    "    file_name = file_path.split(\".\")[0]\n",
    "    print(file_name)\n",
    "    file_df = pd.read_csv(file_path)\n",
    "    tanguy[file_name] = file_df\n",
    "\n"
   ]
  },
  {
   "cell_type": "code",
   "execution_count": null,
   "metadata": {},
   "outputs": [],
   "source": []
  }
 ],
 "metadata": {
  "interpreter": {
   "hash": "38740d3277777e2cd7c6c2cc9d8addf5118fdf3f82b1b39231fd12aeac8aee8b"
  },
  "kernelspec": {
   "display_name": "Python 3.9.5 64-bit ('base': conda)",
   "language": "python",
   "name": "python3"
  },
  "language_info": {
   "codemirror_mode": {
    "name": "ipython",
    "version": 3
   },
   "file_extension": ".py",
   "mimetype": "text/x-python",
   "name": "python",
   "nbconvert_exporter": "python",
   "pygments_lexer": "ipython3",
   "version": "3.9.5"
  },
  "orig_nbformat": 4
 },
 "nbformat": 4,
 "nbformat_minor": 2
}
