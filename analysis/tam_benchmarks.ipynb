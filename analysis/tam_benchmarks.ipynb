{
 "cells": [
  {
   "cell_type": "code",
   "execution_count": 2,
   "metadata": {},
   "outputs": [],
   "source": [
    "from time import time\n",
    "import os\n",
    "import pandas as pd\n",
    "import numpy as np\n",
    "from pathlib import Path\n",
    "from datetime import datetime\n",
    "from tqdm import tqdm\n",
    "\n",
    "\n",
    "if not \"root\" in locals():\n",
    "    current_path = Path(os.getcwd())\n",
    "    root = current_path.parent.absolute()\n",
    "os.chdir(root)\n",
    "    \n",
    "from MyTools.add_AR_cols import add_AR_cols\n",
    "from data_treatment.box_creator import create_binary_box\n",
    "from sklearn.metrics import confusion_matrix, ConfusionMatrixDisplay\n",
    "from TinyAutoML.Models import *\n",
    "from TinyAutoML import MetaPipeline"
   ]
  },
  {
   "cell_type": "code",
   "execution_count": 3,
   "metadata": {},
   "outputs": [],
   "source": [
    "def make_benchmark(X, y, modelType, test_train_split = 0.8, metrics = \"accuracy\", pools = [None, None, None, None]):\n",
    "    print(modelType)\n",
    "    cut = round(len(y) * test_train_split)\n",
    "\n",
    "    X_train, X_test = X[:cut], X[cut:]\n",
    "    y_train, y_test = y[:cut], y[cut:]\n",
    "    \n",
    "    model00 = MetaPipeline(modelType(comprehensiveSearch=False, parameterTuning=False, metrics = metrics))\n",
    "    model01 = MetaPipeline(modelType(comprehensiveSearch=False, parameterTuning=True, metrics = metrics))\n",
    "    model10 = MetaPipeline(modelType(comprehensiveSearch=True, parameterTuning=False, metrics = metrics))\n",
    "    #model11 = MetaPipeline(modelType(comprehensiveSearch=True, parameterTuning=True))\n",
    "    \n",
    "    t0 = time()\n",
    "    \n",
    "    model00.fit(X_train, y_train, pool=pools[0])\n",
    "    t1 = time()\n",
    "    \n",
    "    model01.fit(X_train, y_train, pool=pools[1])\n",
    "    t2 = time()\n",
    "    \n",
    "    model10.fit(X_train, y_train, pool=pools[2])\n",
    "    t3 = time()\n",
    "    \n",
    "    #model11.fit(X_train, y_train, pool=pools[3])\n",
    "    #t4 = time()\n",
    "    \n",
    "    times = [t1-t0,\n",
    "             t2-t1,\n",
    "             t3-t2,\n",
    "             #t4-t3\n",
    "             ]\n",
    "    print(times)\n",
    "    scores = [model00.score(X_test, y_test),\n",
    "              model01.score(X_test, y_test),\n",
    "              model10.score(X_test, y_test),\n",
    "              #model11.score(X_test, y_test)\n",
    "              ]\n",
    "    print(scores)\n",
    "    models = [model00, model01, model10]\n",
    "    \n",
    "    return times, models\n",
    "    "
   ]
  },
  {
   "cell_type": "code",
   "execution_count": 4,
   "metadata": {},
   "outputs": [
    {
     "name": "stdout",
     "output_type": "stream",
     "text": [
      "<class 'TinyAutoML.Models.MetaModels.DemocraticModel.DemocraticModel'>\n"
     ]
    },
    {
     "name": "stderr",
     "output_type": "stream",
     "text": [
      "[TinyAutoML] Training models...\n",
      "[TinyAutoML] Training models...\n",
      "[TinyAutoML] Training models...\n"
     ]
    },
    {
     "name": "stdout",
     "output_type": "stream",
     "text": [
      "[29.98005509376526, 31.274409770965576, 129.6604461669922]\n"
     ]
    },
    {
     "name": "stderr",
     "output_type": "stream",
     "text": [
      "[TinyAutoML] Training models...\n"
     ]
    },
    {
     "name": "stdout",
     "output_type": "stream",
     "text": [
      "[0.5972222222222222, 0.6166666666666667, 0.6041666666666666]\n",
      "<class 'TinyAutoML.Models.MetaModels.BestModel.BestModel'>\n"
     ]
    },
    {
     "name": "stderr",
     "output_type": "stream",
     "text": [
      "[TinyAutoML] The best estimator is random forest classifier with a cross-validation accuracy (in Sample) of 1.0\n",
      "[TinyAutoML] Training models...\n",
      "[TinyAutoML] The best estimator is xgb with a cross-validation accuracy (in Sample) of 0.6992011114970476\n",
      "[TinyAutoML] Training models...\n",
      "[TinyAutoML] The best estimator is random forest classifier with a cross-validation accuracy (in Sample) of 1.0\n"
     ]
    },
    {
     "name": "stdout",
     "output_type": "stream",
     "text": [
      "[0.9219536781311035, 4.489650249481201, 120.3298077583313]\n",
      "[0.6069444444444444, 0.6375, 0.5944444444444444]\n",
      "<class 'TinyAutoML.Models.MetaModels.OneRulerForAll.OneRulerForAll'>\n"
     ]
    },
    {
     "name": "stderr",
     "output_type": "stream",
     "text": [
      "[TinyAutoML] Training models...\n",
      "[TinyAutoML] Training models...\n",
      "[TinyAutoML] Training models...\n"
     ]
    },
    {
     "ename": "ValueError",
     "evalue": "Input contains NaN, infinity or a value too large for dtype('float32').",
     "output_type": "error",
     "traceback": [
      "\u001b[0;31m---------------------------------------------------------------------------\u001b[0m",
      "\u001b[0;31mValueError\u001b[0m                                Traceback (most recent call last)",
      "\u001b[1;32m/Users/thomaskientz/VIX_predictions/analysis/tam_benchmarks.ipynb Cell 3'\u001b[0m in \u001b[0;36m<cell line: 10>\u001b[0;34m()\u001b[0m\n\u001b[1;32m      <a href='vscode-notebook-cell:/Users/thomaskientz/VIX_predictions/analysis/tam_benchmarks.ipynb#ch0000002?line=8'>9</a>\u001b[0m pools \u001b[39m=\u001b[39m [\u001b[39mNone\u001b[39;00m, \u001b[39mNone\u001b[39;00m, \u001b[39mNone\u001b[39;00m, \u001b[39mNone\u001b[39;00m]\n\u001b[1;32m     <a href='vscode-notebook-cell:/Users/thomaskientz/VIX_predictions/analysis/tam_benchmarks.ipynb#ch0000002?line=9'>10</a>\u001b[0m \u001b[39mfor\u001b[39;00m i, modelType \u001b[39min\u001b[39;00m \u001b[39menumerate\u001b[39m([DemocraticModel, BestModel, OneRulerForAll]):\n\u001b[0;32m---> <a href='vscode-notebook-cell:/Users/thomaskientz/VIX_predictions/analysis/tam_benchmarks.ipynb#ch0000002?line=12'>13</a>\u001b[0m     t, m \u001b[39m=\u001b[39m make_benchmark(X, y, modelType, pools \u001b[39m=\u001b[39;49m pools)\n\u001b[1;32m     <a href='vscode-notebook-cell:/Users/thomaskientz/VIX_predictions/analysis/tam_benchmarks.ipynb#ch0000002?line=13'>14</a>\u001b[0m     models\u001b[39m.\u001b[39mappend(m)\n\u001b[1;32m     <a href='vscode-notebook-cell:/Users/thomaskientz/VIX_predictions/analysis/tam_benchmarks.ipynb#ch0000002?line=14'>15</a>\u001b[0m     times\u001b[39m.\u001b[39mappend(t)\n",
      "\u001b[1;32m/Users/thomaskientz/VIX_predictions/analysis/tam_benchmarks.ipynb Cell 2'\u001b[0m in \u001b[0;36mmake_benchmark\u001b[0;34m(X, y, modelType, test_train_split, metrics, pools)\u001b[0m\n\u001b[1;32m     <a href='vscode-notebook-cell:/Users/thomaskientz/VIX_predictions/analysis/tam_benchmarks.ipynb#ch0000001?line=17'>18</a>\u001b[0m model01\u001b[39m.\u001b[39mfit(X_train, y_train, pool\u001b[39m=\u001b[39mpools[\u001b[39m1\u001b[39m])\n\u001b[1;32m     <a href='vscode-notebook-cell:/Users/thomaskientz/VIX_predictions/analysis/tam_benchmarks.ipynb#ch0000001?line=18'>19</a>\u001b[0m t2 \u001b[39m=\u001b[39m time()\n\u001b[0;32m---> <a href='vscode-notebook-cell:/Users/thomaskientz/VIX_predictions/analysis/tam_benchmarks.ipynb#ch0000001?line=20'>21</a>\u001b[0m model10\u001b[39m.\u001b[39;49mfit(X_train, y_train, pool\u001b[39m=\u001b[39;49mpools[\u001b[39m2\u001b[39;49m])\n\u001b[1;32m     <a href='vscode-notebook-cell:/Users/thomaskientz/VIX_predictions/analysis/tam_benchmarks.ipynb#ch0000001?line=21'>22</a>\u001b[0m t3 \u001b[39m=\u001b[39m time()\n\u001b[1;32m     <a href='vscode-notebook-cell:/Users/thomaskientz/VIX_predictions/analysis/tam_benchmarks.ipynb#ch0000001?line=23'>24</a>\u001b[0m \u001b[39m#model11.fit(X_train, y_train, pool=pools[3])\u001b[39;00m\n\u001b[1;32m     <a href='vscode-notebook-cell:/Users/thomaskientz/VIX_predictions/analysis/tam_benchmarks.ipynb#ch0000001?line=24'>25</a>\u001b[0m \u001b[39m#t4 = time()\u001b[39;00m\n",
      "File \u001b[0;32m~/miniforge3/lib/python3.9/site-packages/TinyAutoML/MetaPipeline.py:68\u001b[0m, in \u001b[0;36mMetaPipeline.fit\u001b[0;34m(self, X, y, pool, **kwargs)\u001b[0m\n\u001b[1;32m     <a href='file:///Users/thomaskientz/miniforge3/lib/python3.9/site-packages/TinyAutoML/MetaPipeline.py?line=65'>66</a>\u001b[0m     \u001b[39mself\u001b[39m\u001b[39m.\u001b[39mestimator\u001b[39m.\u001b[39msteps\u001b[39m.\u001b[39mappend((\u001b[39mself\u001b[39m\u001b[39m.\u001b[39mmodel\u001b[39m.\u001b[39m\u001b[39m__repr__\u001b[39m(), \u001b[39mself\u001b[39m\u001b[39m.\u001b[39mmodel))  \u001b[39m# type: ignore\u001b[39;00m\n\u001b[1;32m     <a href='file:///Users/thomaskientz/miniforge3/lib/python3.9/site-packages/TinyAutoML/MetaPipeline.py?line=66'>67</a>\u001b[0m \u001b[39melse\u001b[39;00m:\n\u001b[0;32m---> <a href='file:///Users/thomaskientz/miniforge3/lib/python3.9/site-packages/TinyAutoML/MetaPipeline.py?line=67'>68</a>\u001b[0m     \u001b[39mself\u001b[39;49m\u001b[39m.\u001b[39;49mestimator\u001b[39m.\u001b[39;49mfit(X, y, \u001b[39m*\u001b[39;49m\u001b[39m*\u001b[39;49mkwargs)  \u001b[39m# type: ignore\u001b[39;00m\n\u001b[1;32m     <a href='file:///Users/thomaskientz/miniforge3/lib/python3.9/site-packages/TinyAutoML/MetaPipeline.py?line=69'>70</a>\u001b[0m \u001b[39mreturn\u001b[39;00m \u001b[39mself\u001b[39m\n",
      "File \u001b[0;32m~/miniforge3/lib/python3.9/site-packages/TinyAutoML/Models/MetaModels/OneRulerForAll.py:36\u001b[0m, in \u001b[0;36mOneRulerForAll.fit\u001b[0;34m(self, X, y)\u001b[0m\n\u001b[1;32m     <a href='file:///Users/thomaskientz/miniforge3/lib/python3.9/site-packages/TinyAutoML/Models/MetaModels/OneRulerForAll.py?line=33'>34</a>\u001b[0m estimatorsPoolOutputs \u001b[39m=\u001b[39m pd\u001b[39m.\u001b[39mDataFrame(\u001b[39mself\u001b[39m\u001b[39m.\u001b[39mestimatorPool\u001b[39m.\u001b[39mpredict(X))\n\u001b[1;32m     <a href='file:///Users/thomaskientz/miniforge3/lib/python3.9/site-packages/TinyAutoML/Models/MetaModels/OneRulerForAll.py?line=34'>35</a>\u001b[0m X_ruler \u001b[39m=\u001b[39m pd\u001b[39m.\u001b[39mconcat((X, estimatorsPoolOutputs), axis\u001b[39m=\u001b[39m\u001b[39m1\u001b[39m)\n\u001b[0;32m---> <a href='file:///Users/thomaskientz/miniforge3/lib/python3.9/site-packages/TinyAutoML/Models/MetaModels/OneRulerForAll.py?line=35'>36</a>\u001b[0m \u001b[39mself\u001b[39;49m\u001b[39m.\u001b[39;49mruler\u001b[39m.\u001b[39;49mfit(X_ruler, y)\n\u001b[1;32m     <a href='file:///Users/thomaskientz/miniforge3/lib/python3.9/site-packages/TinyAutoML/Models/MetaModels/OneRulerForAll.py?line=37'>38</a>\u001b[0m \u001b[39mreturn\u001b[39;00m \u001b[39mself\u001b[39m\n",
      "File \u001b[0;32m~/miniforge3/lib/python3.9/site-packages/sklearn/ensemble/_forest.py:327\u001b[0m, in \u001b[0;36mBaseForest.fit\u001b[0;34m(self, X, y, sample_weight)\u001b[0m\n\u001b[1;32m    <a href='file:///Users/thomaskientz/miniforge3/lib/python3.9/site-packages/sklearn/ensemble/_forest.py?line=324'>325</a>\u001b[0m \u001b[39mif\u001b[39;00m issparse(y):\n\u001b[1;32m    <a href='file:///Users/thomaskientz/miniforge3/lib/python3.9/site-packages/sklearn/ensemble/_forest.py?line=325'>326</a>\u001b[0m     \u001b[39mraise\u001b[39;00m \u001b[39mValueError\u001b[39;00m(\u001b[39m\"\u001b[39m\u001b[39msparse multilabel-indicator for y is not supported.\u001b[39m\u001b[39m\"\u001b[39m)\n\u001b[0;32m--> <a href='file:///Users/thomaskientz/miniforge3/lib/python3.9/site-packages/sklearn/ensemble/_forest.py?line=326'>327</a>\u001b[0m X, y \u001b[39m=\u001b[39m \u001b[39mself\u001b[39;49m\u001b[39m.\u001b[39;49m_validate_data(\n\u001b[1;32m    <a href='file:///Users/thomaskientz/miniforge3/lib/python3.9/site-packages/sklearn/ensemble/_forest.py?line=327'>328</a>\u001b[0m     X, y, multi_output\u001b[39m=\u001b[39;49m\u001b[39mTrue\u001b[39;49;00m, accept_sparse\u001b[39m=\u001b[39;49m\u001b[39m\"\u001b[39;49m\u001b[39mcsc\u001b[39;49m\u001b[39m\"\u001b[39;49m, dtype\u001b[39m=\u001b[39;49mDTYPE\n\u001b[1;32m    <a href='file:///Users/thomaskientz/miniforge3/lib/python3.9/site-packages/sklearn/ensemble/_forest.py?line=328'>329</a>\u001b[0m )\n\u001b[1;32m    <a href='file:///Users/thomaskientz/miniforge3/lib/python3.9/site-packages/sklearn/ensemble/_forest.py?line=329'>330</a>\u001b[0m \u001b[39mif\u001b[39;00m sample_weight \u001b[39mis\u001b[39;00m \u001b[39mnot\u001b[39;00m \u001b[39mNone\u001b[39;00m:\n\u001b[1;32m    <a href='file:///Users/thomaskientz/miniforge3/lib/python3.9/site-packages/sklearn/ensemble/_forest.py?line=330'>331</a>\u001b[0m     sample_weight \u001b[39m=\u001b[39m _check_sample_weight(sample_weight, X)\n",
      "File \u001b[0;32m~/miniforge3/lib/python3.9/site-packages/sklearn/base.py:576\u001b[0m, in \u001b[0;36mBaseEstimator._validate_data\u001b[0;34m(self, X, y, reset, validate_separately, **check_params)\u001b[0m\n\u001b[1;32m    <a href='file:///Users/thomaskientz/miniforge3/lib/python3.9/site-packages/sklearn/base.py?line=573'>574</a>\u001b[0m         y \u001b[39m=\u001b[39m check_array(y, \u001b[39m*\u001b[39m\u001b[39m*\u001b[39mcheck_y_params)\n\u001b[1;32m    <a href='file:///Users/thomaskientz/miniforge3/lib/python3.9/site-packages/sklearn/base.py?line=574'>575</a>\u001b[0m     \u001b[39melse\u001b[39;00m:\n\u001b[0;32m--> <a href='file:///Users/thomaskientz/miniforge3/lib/python3.9/site-packages/sklearn/base.py?line=575'>576</a>\u001b[0m         X, y \u001b[39m=\u001b[39m check_X_y(X, y, \u001b[39m*\u001b[39;49m\u001b[39m*\u001b[39;49mcheck_params)\n\u001b[1;32m    <a href='file:///Users/thomaskientz/miniforge3/lib/python3.9/site-packages/sklearn/base.py?line=576'>577</a>\u001b[0m     out \u001b[39m=\u001b[39m X, y\n\u001b[1;32m    <a href='file:///Users/thomaskientz/miniforge3/lib/python3.9/site-packages/sklearn/base.py?line=578'>579</a>\u001b[0m \u001b[39mif\u001b[39;00m \u001b[39mnot\u001b[39;00m no_val_X \u001b[39mand\u001b[39;00m check_params\u001b[39m.\u001b[39mget(\u001b[39m\"\u001b[39m\u001b[39mensure_2d\u001b[39m\u001b[39m\"\u001b[39m, \u001b[39mTrue\u001b[39;00m):\n",
      "File \u001b[0;32m~/miniforge3/lib/python3.9/site-packages/sklearn/utils/validation.py:961\u001b[0m, in \u001b[0;36mcheck_X_y\u001b[0;34m(X, y, accept_sparse, accept_large_sparse, dtype, order, copy, force_all_finite, ensure_2d, allow_nd, multi_output, ensure_min_samples, ensure_min_features, y_numeric, estimator)\u001b[0m\n\u001b[1;32m    <a href='file:///Users/thomaskientz/miniforge3/lib/python3.9/site-packages/sklearn/utils/validation.py?line=957'>958</a>\u001b[0m \u001b[39mif\u001b[39;00m y \u001b[39mis\u001b[39;00m \u001b[39mNone\u001b[39;00m:\n\u001b[1;32m    <a href='file:///Users/thomaskientz/miniforge3/lib/python3.9/site-packages/sklearn/utils/validation.py?line=958'>959</a>\u001b[0m     \u001b[39mraise\u001b[39;00m \u001b[39mValueError\u001b[39;00m(\u001b[39m\"\u001b[39m\u001b[39my cannot be None\u001b[39m\u001b[39m\"\u001b[39m)\n\u001b[0;32m--> <a href='file:///Users/thomaskientz/miniforge3/lib/python3.9/site-packages/sklearn/utils/validation.py?line=960'>961</a>\u001b[0m X \u001b[39m=\u001b[39m check_array(\n\u001b[1;32m    <a href='file:///Users/thomaskientz/miniforge3/lib/python3.9/site-packages/sklearn/utils/validation.py?line=961'>962</a>\u001b[0m     X,\n\u001b[1;32m    <a href='file:///Users/thomaskientz/miniforge3/lib/python3.9/site-packages/sklearn/utils/validation.py?line=962'>963</a>\u001b[0m     accept_sparse\u001b[39m=\u001b[39;49maccept_sparse,\n\u001b[1;32m    <a href='file:///Users/thomaskientz/miniforge3/lib/python3.9/site-packages/sklearn/utils/validation.py?line=963'>964</a>\u001b[0m     accept_large_sparse\u001b[39m=\u001b[39;49maccept_large_sparse,\n\u001b[1;32m    <a href='file:///Users/thomaskientz/miniforge3/lib/python3.9/site-packages/sklearn/utils/validation.py?line=964'>965</a>\u001b[0m     dtype\u001b[39m=\u001b[39;49mdtype,\n\u001b[1;32m    <a href='file:///Users/thomaskientz/miniforge3/lib/python3.9/site-packages/sklearn/utils/validation.py?line=965'>966</a>\u001b[0m     order\u001b[39m=\u001b[39;49morder,\n\u001b[1;32m    <a href='file:///Users/thomaskientz/miniforge3/lib/python3.9/site-packages/sklearn/utils/validation.py?line=966'>967</a>\u001b[0m     copy\u001b[39m=\u001b[39;49mcopy,\n\u001b[1;32m    <a href='file:///Users/thomaskientz/miniforge3/lib/python3.9/site-packages/sklearn/utils/validation.py?line=967'>968</a>\u001b[0m     force_all_finite\u001b[39m=\u001b[39;49mforce_all_finite,\n\u001b[1;32m    <a href='file:///Users/thomaskientz/miniforge3/lib/python3.9/site-packages/sklearn/utils/validation.py?line=968'>969</a>\u001b[0m     ensure_2d\u001b[39m=\u001b[39;49mensure_2d,\n\u001b[1;32m    <a href='file:///Users/thomaskientz/miniforge3/lib/python3.9/site-packages/sklearn/utils/validation.py?line=969'>970</a>\u001b[0m     allow_nd\u001b[39m=\u001b[39;49mallow_nd,\n\u001b[1;32m    <a href='file:///Users/thomaskientz/miniforge3/lib/python3.9/site-packages/sklearn/utils/validation.py?line=970'>971</a>\u001b[0m     ensure_min_samples\u001b[39m=\u001b[39;49mensure_min_samples,\n\u001b[1;32m    <a href='file:///Users/thomaskientz/miniforge3/lib/python3.9/site-packages/sklearn/utils/validation.py?line=971'>972</a>\u001b[0m     ensure_min_features\u001b[39m=\u001b[39;49mensure_min_features,\n\u001b[1;32m    <a href='file:///Users/thomaskientz/miniforge3/lib/python3.9/site-packages/sklearn/utils/validation.py?line=972'>973</a>\u001b[0m     estimator\u001b[39m=\u001b[39;49mestimator,\n\u001b[1;32m    <a href='file:///Users/thomaskientz/miniforge3/lib/python3.9/site-packages/sklearn/utils/validation.py?line=973'>974</a>\u001b[0m )\n\u001b[1;32m    <a href='file:///Users/thomaskientz/miniforge3/lib/python3.9/site-packages/sklearn/utils/validation.py?line=975'>976</a>\u001b[0m y \u001b[39m=\u001b[39m _check_y(y, multi_output\u001b[39m=\u001b[39mmulti_output, y_numeric\u001b[39m=\u001b[39my_numeric)\n\u001b[1;32m    <a href='file:///Users/thomaskientz/miniforge3/lib/python3.9/site-packages/sklearn/utils/validation.py?line=977'>978</a>\u001b[0m check_consistent_length(X, y)\n",
      "File \u001b[0;32m~/miniforge3/lib/python3.9/site-packages/sklearn/utils/validation.py:797\u001b[0m, in \u001b[0;36mcheck_array\u001b[0;34m(array, accept_sparse, accept_large_sparse, dtype, order, copy, force_all_finite, ensure_2d, allow_nd, ensure_min_samples, ensure_min_features, estimator)\u001b[0m\n\u001b[1;32m    <a href='file:///Users/thomaskientz/miniforge3/lib/python3.9/site-packages/sklearn/utils/validation.py?line=790'>791</a>\u001b[0m         \u001b[39mraise\u001b[39;00m \u001b[39mValueError\u001b[39;00m(\n\u001b[1;32m    <a href='file:///Users/thomaskientz/miniforge3/lib/python3.9/site-packages/sklearn/utils/validation.py?line=791'>792</a>\u001b[0m             \u001b[39m\"\u001b[39m\u001b[39mFound array with dim \u001b[39m\u001b[39m%d\u001b[39;00m\u001b[39m. \u001b[39m\u001b[39m%s\u001b[39;00m\u001b[39m expected <= 2.\u001b[39m\u001b[39m\"\u001b[39m\n\u001b[1;32m    <a href='file:///Users/thomaskientz/miniforge3/lib/python3.9/site-packages/sklearn/utils/validation.py?line=792'>793</a>\u001b[0m             \u001b[39m%\u001b[39m (array\u001b[39m.\u001b[39mndim, estimator_name)\n\u001b[1;32m    <a href='file:///Users/thomaskientz/miniforge3/lib/python3.9/site-packages/sklearn/utils/validation.py?line=793'>794</a>\u001b[0m         )\n\u001b[1;32m    <a href='file:///Users/thomaskientz/miniforge3/lib/python3.9/site-packages/sklearn/utils/validation.py?line=795'>796</a>\u001b[0m     \u001b[39mif\u001b[39;00m force_all_finite:\n\u001b[0;32m--> <a href='file:///Users/thomaskientz/miniforge3/lib/python3.9/site-packages/sklearn/utils/validation.py?line=796'>797</a>\u001b[0m         _assert_all_finite(array, allow_nan\u001b[39m=\u001b[39;49mforce_all_finite \u001b[39m==\u001b[39;49m \u001b[39m\"\u001b[39;49m\u001b[39mallow-nan\u001b[39;49m\u001b[39m\"\u001b[39;49m)\n\u001b[1;32m    <a href='file:///Users/thomaskientz/miniforge3/lib/python3.9/site-packages/sklearn/utils/validation.py?line=798'>799</a>\u001b[0m \u001b[39mif\u001b[39;00m ensure_min_samples \u001b[39m>\u001b[39m \u001b[39m0\u001b[39m:\n\u001b[1;32m    <a href='file:///Users/thomaskientz/miniforge3/lib/python3.9/site-packages/sklearn/utils/validation.py?line=799'>800</a>\u001b[0m     n_samples \u001b[39m=\u001b[39m _num_samples(array)\n",
      "File \u001b[0;32m~/miniforge3/lib/python3.9/site-packages/sklearn/utils/validation.py:119\u001b[0m, in \u001b[0;36m_assert_all_finite\u001b[0;34m(X, allow_nan, msg_dtype)\u001b[0m\n\u001b[1;32m    <a href='file:///Users/thomaskientz/miniforge3/lib/python3.9/site-packages/sklearn/utils/validation.py?line=111'>112</a>\u001b[0m     \u001b[39mif\u001b[39;00m (\n\u001b[1;32m    <a href='file:///Users/thomaskientz/miniforge3/lib/python3.9/site-packages/sklearn/utils/validation.py?line=112'>113</a>\u001b[0m         allow_nan\n\u001b[1;32m    <a href='file:///Users/thomaskientz/miniforge3/lib/python3.9/site-packages/sklearn/utils/validation.py?line=113'>114</a>\u001b[0m         \u001b[39mand\u001b[39;00m np\u001b[39m.\u001b[39misinf(X)\u001b[39m.\u001b[39many()\n\u001b[1;32m    <a href='file:///Users/thomaskientz/miniforge3/lib/python3.9/site-packages/sklearn/utils/validation.py?line=114'>115</a>\u001b[0m         \u001b[39mor\u001b[39;00m \u001b[39mnot\u001b[39;00m allow_nan\n\u001b[1;32m    <a href='file:///Users/thomaskientz/miniforge3/lib/python3.9/site-packages/sklearn/utils/validation.py?line=115'>116</a>\u001b[0m         \u001b[39mand\u001b[39;00m \u001b[39mnot\u001b[39;00m np\u001b[39m.\u001b[39misfinite(X)\u001b[39m.\u001b[39mall()\n\u001b[1;32m    <a href='file:///Users/thomaskientz/miniforge3/lib/python3.9/site-packages/sklearn/utils/validation.py?line=116'>117</a>\u001b[0m     ):\n\u001b[1;32m    <a href='file:///Users/thomaskientz/miniforge3/lib/python3.9/site-packages/sklearn/utils/validation.py?line=117'>118</a>\u001b[0m         type_err \u001b[39m=\u001b[39m \u001b[39m\"\u001b[39m\u001b[39minfinity\u001b[39m\u001b[39m\"\u001b[39m \u001b[39mif\u001b[39;00m allow_nan \u001b[39melse\u001b[39;00m \u001b[39m\"\u001b[39m\u001b[39mNaN, infinity\u001b[39m\u001b[39m\"\u001b[39m\n\u001b[0;32m--> <a href='file:///Users/thomaskientz/miniforge3/lib/python3.9/site-packages/sklearn/utils/validation.py?line=118'>119</a>\u001b[0m         \u001b[39mraise\u001b[39;00m \u001b[39mValueError\u001b[39;00m(\n\u001b[1;32m    <a href='file:///Users/thomaskientz/miniforge3/lib/python3.9/site-packages/sklearn/utils/validation.py?line=119'>120</a>\u001b[0m             msg_err\u001b[39m.\u001b[39mformat(\n\u001b[1;32m    <a href='file:///Users/thomaskientz/miniforge3/lib/python3.9/site-packages/sklearn/utils/validation.py?line=120'>121</a>\u001b[0m                 type_err, msg_dtype \u001b[39mif\u001b[39;00m msg_dtype \u001b[39mis\u001b[39;00m \u001b[39mnot\u001b[39;00m \u001b[39mNone\u001b[39;00m \u001b[39melse\u001b[39;00m X\u001b[39m.\u001b[39mdtype\n\u001b[1;32m    <a href='file:///Users/thomaskientz/miniforge3/lib/python3.9/site-packages/sklearn/utils/validation.py?line=121'>122</a>\u001b[0m             )\n\u001b[1;32m    <a href='file:///Users/thomaskientz/miniforge3/lib/python3.9/site-packages/sklearn/utils/validation.py?line=122'>123</a>\u001b[0m         )\n\u001b[1;32m    <a href='file:///Users/thomaskientz/miniforge3/lib/python3.9/site-packages/sklearn/utils/validation.py?line=123'>124</a>\u001b[0m \u001b[39m# for object dtype data, we only check for NaNs (GH-13254)\u001b[39;00m\n\u001b[1;32m    <a href='file:///Users/thomaskientz/miniforge3/lib/python3.9/site-packages/sklearn/utils/validation.py?line=124'>125</a>\u001b[0m \u001b[39melif\u001b[39;00m X\u001b[39m.\u001b[39mdtype \u001b[39m==\u001b[39m np\u001b[39m.\u001b[39mdtype(\u001b[39m\"\u001b[39m\u001b[39mobject\u001b[39m\u001b[39m\"\u001b[39m) \u001b[39mand\u001b[39;00m \u001b[39mnot\u001b[39;00m allow_nan:\n",
      "\u001b[0;31mValueError\u001b[0m: Input contains NaN, infinity or a value too large for dtype('float32')."
     ]
    }
   ],
   "source": [
    "df = pd.read_csv('database.csv')\n",
    "df['Date'] = pd.to_datetime(df['Date'])\n",
    "df = create_binary_box(df, relative_threshold = 0.05, box_length=5).set_index(['Date']).dropna(axis = 0)\n",
    "df = add_AR_cols(df,7).dropna(axis = 0)\n",
    "X,y = df.drop('Box', axis=1)[:'2020'], df['Box'][:'2020']\n",
    "\n",
    "models = []\n",
    "times = []\n",
    "pools = [None, None, None, None]\n",
    "for i, modelType in enumerate([DemocraticModel, BestModel, OneRulerForAll]):\n",
    "    \n",
    "    \n",
    "    t, m = make_benchmark(X, y, modelType, pools = pools)\n",
    "    models.append(m)\n",
    "    times.append(t)\n",
    "    \n",
    "    if i == 0:\n",
    "        pools = [model.get_pool() for model in m]"
   ]
  },
  {
   "cell_type": "code",
   "execution_count": null,
   "metadata": {},
   "outputs": [],
   "source": []
  }
 ],
 "metadata": {
  "interpreter": {
   "hash": "a0b90876d94adc511a3a8e7828b93a9386f377fbaaa85423f66fa343a060b8d4"
  },
  "kernelspec": {
   "display_name": "Python 3.9.7 ('base')",
   "language": "python",
   "name": "python3"
  },
  "language_info": {
   "codemirror_mode": {
    "name": "ipython",
    "version": 3
   },
   "file_extension": ".py",
   "mimetype": "text/x-python",
   "name": "python",
   "nbconvert_exporter": "python",
   "pygments_lexer": "ipython3",
   "version": "3.9.7"
  },
  "orig_nbformat": 4
 },
 "nbformat": 4,
 "nbformat_minor": 2
}
