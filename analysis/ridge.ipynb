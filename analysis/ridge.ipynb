{
 "cells": [
  {
   "cell_type": "markdown",
   "metadata": {},
   "source": [
    "## Imports "
   ]
  },
  {
   "cell_type": "code",
   "execution_count": 1,
   "metadata": {},
   "outputs": [],
   "source": [
    "import os\n",
    "import pandas as pd\n",
    "import matplotlib.pyplot as plt\n",
    "from pathlib import Path\n",
    "from sklearn.model_selection import train_test_split\n",
    "from sklearn.model_selection import cross_val_score\n",
    "from sklearn.model_selection import cross_val_predict\n",
    "from sklearn.linear_model import RidgeClassifier\n",
    "from sklearn.metrics import confusion_matrix \n",
    "from sklearn.metrics import precision_score, recall_score\n",
    "from sklearn.metrics import f1_score\n",
    "from sklearn.metrics import roc_curve \n",
    "from sklearn.metrics import roc_auc_score \n",
    "\n",
    "\n",
    "if not \"root\" in locals():\n",
    "    current_path = Path(os.getcwd())\n",
    "    root = current_path.parent.absolute()"
   ]
  },
  {
   "cell_type": "code",
   "execution_count": 2,
   "metadata": {},
   "outputs": [],
   "source": [
    "os.chdir(root)\n",
    "from data_treatment.box_creator import create_binary_box\n",
    "\n",
    "df = pd.read_csv('database.csv')\n",
    "df = create_binary_box(df, threshold=2., box_length=7)"
   ]
  },
  {
   "cell_type": "markdown",
   "metadata": {},
   "source": [
    "### We only keep the selected features "
   ]
  },
  {
   "cell_type": "code",
   "execution_count": 3,
   "metadata": {},
   "outputs": [],
   "source": [
    "cols = [\"PX_LAST_VIX_volatility\",\n",
    "        \"VOLUME_TOTAL_CALL_VIX_volatility\",\n",
    "        \"VOLUME_TOTAL_PUT_VIX_volatility\",\n",
    "        \"PX_LAST_SPX_volatility\",\n",
    "        \"PX_VOLUME_SPX_volatility\",\n",
    "        \"PX_LAST_VSTOXX_volatility\",\n",
    "        \"Bullish_SENTIMENT\",\n",
    "        \"Neutral_SENTIMENT\",\n",
    "        \"Bearish_SENTIMENT\"]\n",
    "\n",
    "hand_picked_df = df.set_index(\"Date\")[cols + [\"Box\"]].dropna(axis = 0)"
   ]
  },
  {
   "cell_type": "code",
   "execution_count": 4,
   "metadata": {},
   "outputs": [
    {
     "data": {
      "text/html": [
       "<div>\n",
       "<style scoped>\n",
       "    .dataframe tbody tr th:only-of-type {\n",
       "        vertical-align: middle;\n",
       "    }\n",
       "\n",
       "    .dataframe tbody tr th {\n",
       "        vertical-align: top;\n",
       "    }\n",
       "\n",
       "    .dataframe thead th {\n",
       "        text-align: right;\n",
       "    }\n",
       "</style>\n",
       "<table border=\"1\" class=\"dataframe\">\n",
       "  <thead>\n",
       "    <tr style=\"text-align: right;\">\n",
       "      <th></th>\n",
       "      <th>PX_LAST_VIX_volatility</th>\n",
       "      <th>VOLUME_TOTAL_CALL_VIX_volatility</th>\n",
       "      <th>VOLUME_TOTAL_PUT_VIX_volatility</th>\n",
       "      <th>PX_LAST_SPX_volatility</th>\n",
       "      <th>PX_VOLUME_SPX_volatility</th>\n",
       "      <th>PX_LAST_VSTOXX_volatility</th>\n",
       "      <th>Bullish_SENTIMENT</th>\n",
       "      <th>Neutral_SENTIMENT</th>\n",
       "      <th>Bearish_SENTIMENT</th>\n",
       "      <th>Box</th>\n",
       "    </tr>\n",
       "    <tr>\n",
       "      <th>Date</th>\n",
       "      <th></th>\n",
       "      <th></th>\n",
       "      <th></th>\n",
       "      <th></th>\n",
       "      <th></th>\n",
       "      <th></th>\n",
       "      <th></th>\n",
       "      <th></th>\n",
       "      <th></th>\n",
       "      <th></th>\n",
       "    </tr>\n",
       "  </thead>\n",
       "  <tbody>\n",
       "    <tr>\n",
       "      <th>2006-02-28</th>\n",
       "      <td>12.34</td>\n",
       "      <td>3086.0</td>\n",
       "      <td>5400.0</td>\n",
       "      <td>1280.66</td>\n",
       "      <td>1702255217</td>\n",
       "      <td>15.0449</td>\n",
       "      <td>0.4321</td>\n",
       "      <td>0.2840</td>\n",
       "      <td>0.2840</td>\n",
       "      <td>0</td>\n",
       "    </tr>\n",
       "    <tr>\n",
       "      <th>2006-03-01</th>\n",
       "      <td>11.54</td>\n",
       "      <td>1879.0</td>\n",
       "      <td>1252.0</td>\n",
       "      <td>1291.24</td>\n",
       "      <td>1636976645</td>\n",
       "      <td>14.3989</td>\n",
       "      <td>0.4321</td>\n",
       "      <td>0.2840</td>\n",
       "      <td>0.2840</td>\n",
       "      <td>0</td>\n",
       "    </tr>\n",
       "    <tr>\n",
       "      <th>2006-03-02</th>\n",
       "      <td>11.72</td>\n",
       "      <td>6747.0</td>\n",
       "      <td>2420.0</td>\n",
       "      <td>1289.14</td>\n",
       "      <td>1670228727</td>\n",
       "      <td>14.9328</td>\n",
       "      <td>0.4094</td>\n",
       "      <td>0.2992</td>\n",
       "      <td>0.2913</td>\n",
       "      <td>0</td>\n",
       "    </tr>\n",
       "    <tr>\n",
       "      <th>2006-03-03</th>\n",
       "      <td>11.96</td>\n",
       "      <td>1099.0</td>\n",
       "      <td>23120.0</td>\n",
       "      <td>1287.23</td>\n",
       "      <td>1719897277</td>\n",
       "      <td>15.3114</td>\n",
       "      <td>0.4094</td>\n",
       "      <td>0.2992</td>\n",
       "      <td>0.2913</td>\n",
       "      <td>0</td>\n",
       "    </tr>\n",
       "    <tr>\n",
       "      <th>2006-03-06</th>\n",
       "      <td>12.74</td>\n",
       "      <td>4217.0</td>\n",
       "      <td>784.0</td>\n",
       "      <td>1278.26</td>\n",
       "      <td>1567097204</td>\n",
       "      <td>15.1907</td>\n",
       "      <td>0.4094</td>\n",
       "      <td>0.2992</td>\n",
       "      <td>0.2913</td>\n",
       "      <td>0</td>\n",
       "    </tr>\n",
       "  </tbody>\n",
       "</table>\n",
       "</div>"
      ],
      "text/plain": [
       "            PX_LAST_VIX_volatility  VOLUME_TOTAL_CALL_VIX_volatility  \\\n",
       "Date                                                                   \n",
       "2006-02-28                   12.34                            3086.0   \n",
       "2006-03-01                   11.54                            1879.0   \n",
       "2006-03-02                   11.72                            6747.0   \n",
       "2006-03-03                   11.96                            1099.0   \n",
       "2006-03-06                   12.74                            4217.0   \n",
       "\n",
       "            VOLUME_TOTAL_PUT_VIX_volatility  PX_LAST_SPX_volatility  \\\n",
       "Date                                                                  \n",
       "2006-02-28                           5400.0                 1280.66   \n",
       "2006-03-01                           1252.0                 1291.24   \n",
       "2006-03-02                           2420.0                 1289.14   \n",
       "2006-03-03                          23120.0                 1287.23   \n",
       "2006-03-06                            784.0                 1278.26   \n",
       "\n",
       "            PX_VOLUME_SPX_volatility  PX_LAST_VSTOXX_volatility  \\\n",
       "Date                                                              \n",
       "2006-02-28                1702255217                    15.0449   \n",
       "2006-03-01                1636976645                    14.3989   \n",
       "2006-03-02                1670228727                    14.9328   \n",
       "2006-03-03                1719897277                    15.3114   \n",
       "2006-03-06                1567097204                    15.1907   \n",
       "\n",
       "            Bullish_SENTIMENT  Neutral_SENTIMENT  Bearish_SENTIMENT  Box  \n",
       "Date                                                                      \n",
       "2006-02-28             0.4321             0.2840             0.2840    0  \n",
       "2006-03-01             0.4321             0.2840             0.2840    0  \n",
       "2006-03-02             0.4094             0.2992             0.2913    0  \n",
       "2006-03-03             0.4094             0.2992             0.2913    0  \n",
       "2006-03-06             0.4094             0.2992             0.2913    0  "
      ]
     },
     "execution_count": 4,
     "metadata": {},
     "output_type": "execute_result"
    }
   ],
   "source": [
    "hand_picked_df.head()"
   ]
  },
  {
   "cell_type": "code",
   "execution_count": 5,
   "metadata": {},
   "outputs": [],
   "source": [
    "x = hand_picked_df.drop(columns=\"Box\")\n",
    "y = hand_picked_df[[\"Box\"]]"
   ]
  },
  {
   "cell_type": "code",
   "execution_count": 6,
   "metadata": {},
   "outputs": [],
   "source": [
    "X_train, X_test, y_train, y_test = train_test_split(x, y, test_size=0.2)"
   ]
  },
  {
   "cell_type": "code",
   "execution_count": 7,
   "metadata": {},
   "outputs": [
    {
     "name": "stdout",
     "output_type": "stream",
     "text": [
      "Score:  0.6739273927392739\n",
      "Scores: [0.67986799 0.68976898 0.67326733 0.64356436 0.68646865 0.68646865\n",
      " 0.65346535 0.68646865 0.65676568 0.66666667]\n",
      "Mean: 0.6722772277227723\n",
      "Standard deviation: 0.01555362596428802\n"
     ]
    }
   ],
   "source": [
    "rc = RidgeClassifier()\n",
    "rc.fit(X_train, y_train)\n",
    "\n",
    "score = rc.score(X_train, y_train)\n",
    "print(\"Score: \", score)\n",
    "\n",
    "cv_scores = cross_val_score(rc, \n",
    "                            X_train,\n",
    "                            y_train,\n",
    "                            cv=10)\n",
    "\n",
    "def display_scores(scores):\n",
    "    print(\"Scores:\", cv_scores)\n",
    "    print( \"Mean:\", cv_scores.mean())\n",
    "    print(\"Standard deviation:\", cv_scores.std())\n",
    "    return \n",
    "\n",
    "display_scores(cv_scores)\n"
   ]
  },
  {
   "cell_type": "markdown",
   "metadata": {},
   "source": [
    "### Confusion Matrix"
   ]
  },
  {
   "cell_type": "code",
   "execution_count": 9,
   "metadata": {},
   "outputs": [
    {
     "data": {
      "text/plain": [
       "array([[1916,   90],\n",
       "       [ 903,  121]])"
      ]
     },
     "execution_count": 9,
     "metadata": {},
     "output_type": "execute_result"
    }
   ],
   "source": [
    "y_train_pred= cross_val_predict(rc, X_train, y_train, cv=3)\n",
    "#returns the prediction made for each fold \n",
    "\n",
    "confusion_matrix(y_train, y_train_pred)\n"
   ]
  },
  {
   "cell_type": "markdown",
   "metadata": {},
   "source": [
    "1276 were correctly classified as non 'getting out of the box upwards' ('true negatives') \\\n",
    "164 were wrongly classified ('false positives') \\\n",
    "574 were wrongly classified ('false negatives') \\\n",
    "258 were correctly classified ('true positives')"
   ]
  },
  {
   "cell_type": "markdown",
   "metadata": {},
   "source": [
    "### Getting our precision and recall scores"
   ]
  },
  {
   "cell_type": "code",
   "execution_count": 11,
   "metadata": {},
   "outputs": [
    {
     "name": "stdout",
     "output_type": "stream",
     "text": [
      "0.6113744075829384\n",
      "0.31009615384615385\n"
     ]
    }
   ],
   "source": [
    "print(precision_score(y_train, y_train_pred))\n",
    "print(recall_score(y_train, y_train_pred))"
   ]
  },
  {
   "cell_type": "markdown",
   "metadata": {},
   "source": [
    "### Getting our F1 score "
   ]
  },
  {
   "cell_type": "code",
   "execution_count": 14,
   "metadata": {},
   "outputs": [
    {
     "name": "stdout",
     "output_type": "stream",
     "text": [
      "0.4114832535885168\n"
     ]
    }
   ],
   "source": [
    "print(f1_score(y_train, y_train_pred))"
   ]
  },
  {
   "cell_type": "markdown",
   "metadata": {},
   "source": [
    "### The ROC Curve (receiver operating characteristic)\\\n",
    "plots the true positive rate against the false positive rate \\\n",
    "ie plots sensitivity versus 1- specificity "
   ]
  },
  {
   "cell_type": "code",
   "execution_count": 27,
   "metadata": {},
   "outputs": [],
   "source": [
    "\n",
    "y_scores= rc.decision_function(X_test)\n",
    "fpr, tpr, thresholds = roc_curve(y_test, y_scores)"
   ]
  },
  {
   "cell_type": "code",
   "execution_count": 31,
   "metadata": {},
   "outputs": [
    {
     "data": {
      "image/png": "[encoded data removed]",
      "text/plain": [
       "<Figure size 432x288 with 1 Axes>"
      ]
     },
     "metadata": {},
     "output_type": "display_data"
    }
   ],
   "source": [
    "def plot_roc_curve(fpr, tpr, label=None):\n",
    "    plt.plot(fpr, tpr, linewidth=2, label= label)\n",
    "    plt.plot([0,1], [0,1], 'k--') \n",
    "    return \n",
    "\n",
    "plot_roc_curve(fpr, tpr)\n",
    "plt.show()"
   ]
  },
  {
   "cell_type": "markdown",
   "metadata": {},
   "source": [
    "### Area under the curve "
   ]
  },
  {
   "cell_type": "code",
   "execution_count": 32,
   "metadata": {},
   "outputs": [
    {
     "data": {
      "text/plain": [
       "0.698943661971831"
      ]
     },
     "execution_count": 32,
     "metadata": {},
     "output_type": "execute_result"
    }
   ],
   "source": [
    "roc_auc_score(y_test, y_scores)"
   ]
  }
 ],
 "metadata": {
  "kernelspec": {
   "display_name": "Python 3 (Spyder)",
   "language": "python3",
   "name": "python3"
  },
  "language_info": {
   "codemirror_mode": {
    "name": "ipython",
    "version": 3
   },
   "file_extension": ".py",
   "mimetype": "text/x-python",
   "name": "python",
   "nbconvert_exporter": "python",
   "pygments_lexer": "ipython3",
   "version": "3.8.3"
  }
 },
 "nbformat": 4,
 "nbformat_minor": 4
}
