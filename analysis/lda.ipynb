{
 "cells": [
  {
   "cell_type": "markdown",
   "metadata": {},
   "source": [
    "## Imports "
   ]
  },
  {
   "cell_type": "code",
   "execution_count": 32,
   "metadata": {},
   "outputs": [],
   "source": [
    "import os\n",
    "import pandas as pd\n",
    "import matplotlib.pyplot as plt\n",
    "from pathlib import Path\n",
    "from sklearn.model_selection import train_test_split\n",
    "from sklearn.model_selection import cross_val_score\n",
    "from sklearn.model_selection import cross_val_predict\n",
    "from sklearn.datasets import make_classification\n",
    "from sklearn.model_selection import GridSearchCV\n",
    "from sklearn.model_selection import RepeatedStratifiedKFold\n",
    "from sklearn.discriminant_analysis import LinearDiscriminantAnalysis\n",
    "\n",
    "from sklearn.metrics import classification_report\n",
    "from sklearn.metrics import confusion_matrix \n",
    "\n",
    "from sklearn.metrics import roc_curve \n",
    "from sklearn.metrics import roc_auc_score \n",
    "\n",
    "\n",
    "if not \"root\" in locals():\n",
    "    current_path = Path(os.getcwd())\n",
    "    root = current_path.parent.absolute()"
   ]
  },
  {
   "cell_type": "code",
   "execution_count": 33,
   "metadata": {},
   "outputs": [],
   "source": [
    "os.chdir(root)\n",
    "from data_treatment.box_creator import create_binary_box\n",
    "\n",
    "df = pd.read_csv('database.csv')\n",
    "df = create_binary_box(df, relative_threshold = 0.05, box_length=5).set_index(\"Date\").dropna(axis = 0)"
   ]
  },
  {
   "cell_type": "markdown",
   "metadata": {},
   "source": [
    "# Feature selection "
   ]
  },
  {
   "cell_type": "code",
   "execution_count": 34,
   "metadata": {},
   "outputs": [],
   "source": [
    "our_features= ['PX_OPEN_VIX_volatility', 'VOLUME_TOTAL_CALL_VIX_volatility',\n",
    "       'PUT_CALL_VOLUME_RATIO_CUR_DAY_SPX_volatility',\n",
    "       'VOLUME_TOTAL_PUT_SPX_volatility', 'VOLATILITY_30D_SPX_volatility',\n",
    "       'VOLATILITY_20D_SPX_volatility', 'VOLATILITY_30D_SX5E_volatility',\n",
    "       'VOLATILITY_90D_SX5E_volatility', 'VOLATILITY_60D_SX5E_volatility',\n",
    "       'VOLATILITY_20D_SX5E_volatility', 'PX_OPEN_VSTOXX_volatility',\n",
    "       'PX_LOW_VSTOXX_volatility', 'QMJ USA_QMJ Factors',\n",
    "       'QMJ Global_QMJ Factors', 'BAB USA_BAB Factors',\n",
    "       'BAB Global_BAB Factors', 'Bullish_SENTIMENT',\n",
    "       'Bullish 8-week Mov Avg_SENTIMENT', 'Bull-Bear Spread_SENTIMENT',\n",
    "       'Mkt-RF_F-F_Research_Data_5_Factors_2x3_daily',\n",
    "       'SMB_F-F_Research_Data_5_Factors_2x3_daily',\n",
    "       'CMA_F-F_Research_Data_5_Factors_2x3_daily']"
   ]
  },
  {
   "cell_type": "markdown",
   "metadata": {},
   "source": [
    "## Train/Test split"
   ]
  },
  {
   "cell_type": "code",
   "execution_count": 35,
   "metadata": {},
   "outputs": [],
   "source": [
    "prescale_X = df[our_features]\n",
    "y = df[[\"Box\"]]\n",
    "\n",
    "X_train, X_test, y_train, y_test = train_test_split(prescale_X, y, test_size=0.2)\n"
   ]
  },
  {
   "cell_type": "markdown",
   "metadata": {},
   "source": [
    "## Choosing the best solver "
   ]
  },
  {
   "cell_type": "code",
   "execution_count": 36,
   "metadata": {},
   "outputs": [
    {
     "name": "stdout",
     "output_type": "stream",
     "text": [
      "Mean Accuracy: 0.613\n",
      "Config: {'solver': 'svd'}\n"
     ]
    },
    {
     "name": "stderr",
     "output_type": "stream",
     "text": [
      "C:\\Users\\maria\\anaconda3\\lib\\site-packages\\sklearn\\utils\\validation.py:985: DataConversionWarning: A column-vector y was passed when a 1d array was expected. Please change the shape of y to (n_samples, ), for example using ravel().\n",
      "  y = column_or_1d(y, warn=True)\n"
     ]
    }
   ],
   "source": [
    "# define model\n",
    "model = LinearDiscriminantAnalysis()\n",
    "# define model evaluation method\n",
    "cv = RepeatedStratifiedKFold(n_splits=10, n_repeats=3, random_state=1)\n",
    "# define grid\n",
    "grid = dict()\n",
    "grid['solver'] = ['svd', 'lsqr']\n",
    "# define search\n",
    "search = GridSearchCV(model, grid, scoring='accuracy', cv=cv, n_jobs=-1)\n",
    "# perform the search\n",
    "results = search.fit(X_train, y_train)\n",
    "# summarize\n",
    "print('Mean Accuracy: %.3f' % results.best_score_)\n",
    "print('Config: %s' % results.best_params_)"
   ]
  },
  {
   "cell_type": "code",
   "execution_count": 37,
   "metadata": {},
   "outputs": [
    {
     "name": "stderr",
     "output_type": "stream",
     "text": [
      "C:\\Users\\maria\\anaconda3\\lib\\site-packages\\sklearn\\utils\\validation.py:985: DataConversionWarning: A column-vector y was passed when a 1d array was expected. Please change the shape of y to (n_samples, ), for example using ravel().\n",
      "  y = column_or_1d(y, warn=True)\n"
     ]
    }
   ],
   "source": [
    "full_pipeline= make_pipeline(StandardScaler(),LinearDiscriminantAnalysis(solver='svd') )\n",
    "\n",
    "final_predictions = full_pipeline.fit(X_train,y_train)"
   ]
  },
  {
   "cell_type": "code",
   "execution_count": 38,
   "metadata": {},
   "outputs": [
    {
     "name": "stdout",
     "output_type": "stream",
     "text": [
      "              precision    recall  f1-score   support\n",
      "\n",
      "           0       0.66      0.72      0.69       277\n",
      "           1       0.57      0.50      0.53       207\n",
      "\n",
      "    accuracy                           0.62       484\n",
      "   macro avg       0.61      0.61      0.61       484\n",
      "weighted avg       0.62      0.62      0.62       484\n",
      "\n"
     ]
    }
   ],
   "source": [
    "y_pred= final_predictions.predict(X_test)\n",
    "\n",
    "print(classification_report(y_test, y_pred))"
   ]
  },
  {
   "cell_type": "markdown",
   "metadata": {},
   "source": [
    "we can see that the default SVD solver performs the best compared to the other built-in solvers"
   ]
  },
  {
   "cell_type": "markdown",
   "metadata": {},
   "source": [
    "### Tuning the shrinkage hyperparameter"
   ]
  },
  {
   "cell_type": "code",
   "execution_count": 39,
   "metadata": {},
   "outputs": [
    {
     "name": "stdout",
     "output_type": "stream",
     "text": [
      "Mean Accuracy: 0.603\n",
      "Config: {'shrinkage': 0.0}\n"
     ]
    },
    {
     "name": "stderr",
     "output_type": "stream",
     "text": [
      "C:\\Users\\maria\\anaconda3\\lib\\site-packages\\sklearn\\utils\\validation.py:985: DataConversionWarning: A column-vector y was passed when a 1d array was expected. Please change the shape of y to (n_samples, ), for example using ravel().\n",
      "  y = column_or_1d(y, warn=True)\n"
     ]
    }
   ],
   "source": [
    "import numpy as np\n",
    "\n",
    "model = LinearDiscriminantAnalysis(solver='lsqr')\n",
    "# define model evaluation method\n",
    "cv = RepeatedStratifiedKFold(n_splits=10, n_repeats=3, random_state=1)\n",
    "# define grid\n",
    "\n",
    "grid = dict()\n",
    "grid['shrinkage'] = np.arange(0, 1, 0.01)\n",
    "# define search\n",
    "search = GridSearchCV(model, grid, scoring='accuracy', cv=cv, n_jobs=-1)\n",
    "# perform the search\n",
    "results = search.fit(X_train, y_train)\n",
    "# summarize\n",
    "print('Mean Accuracy: %.3f' % results.best_score_)\n",
    "print('Config: %s' % results.best_params_)"
   ]
  },
  {
   "cell_type": "code",
   "execution_count": null,
   "metadata": {},
   "outputs": [],
   "source": []
  }
 ],
 "metadata": {
  "kernelspec": {
   "display_name": "Python 3 (Spyder)",
   "language": "python3",
   "name": "python3"
  },
  "language_info": {
   "codemirror_mode": {
    "name": "ipython",
    "version": 3
   },
   "file_extension": ".py",
   "mimetype": "text/x-python",
   "name": "python",
   "nbconvert_exporter": "python",
   "pygments_lexer": "ipython3",
   "version": "3.8.3"
  }
 },
 "nbformat": 4,
 "nbformat_minor": 4
}
