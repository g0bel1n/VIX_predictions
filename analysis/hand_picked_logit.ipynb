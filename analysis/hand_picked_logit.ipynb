{
 "cells": [
  {
   "cell_type": "code",
   "execution_count": 1,
   "metadata": {},
   "outputs": [],
   "source": [
    "import os\n",
    "import pandas as pd\n",
    "from pathlib import Path\n",
    "\n",
    "if not \"root\" in locals():\n",
    "    current_path = Path(os.getcwd())\n",
    "    root = current_path.parent.absolute()"
   ]
  },
  {
   "cell_type": "code",
   "execution_count": 2,
   "metadata": {},
   "outputs": [],
   "source": [
    "os.chdir(root)\n",
    "from data_treatment.box_creator import create_binary_box\n",
    "\n",
    "df = pd.read_csv('database.csv')\n",
    "df = create_binary_box(df, threshold=2., box_length=7)"
   ]
  },
  {
   "cell_type": "code",
   "execution_count": 9,
   "metadata": {},
   "outputs": [
    {
     "data": {
      "text/html": [
       "<div>\n",
       "<style scoped>\n",
       "    .dataframe tbody tr th:only-of-type {\n",
       "        vertical-align: middle;\n",
       "    }\n",
       "\n",
       "    .dataframe tbody tr th {\n",
       "        vertical-align: top;\n",
       "    }\n",
       "\n",
       "    .dataframe thead th {\n",
       "        text-align: right;\n",
       "    }\n",
       "</style>\n",
       "<table border=\"1\" class=\"dataframe\">\n",
       "  <thead>\n",
       "    <tr style=\"text-align: right;\">\n",
       "      <th></th>\n",
       "      <th>Bullish_SENTIMENT</th>\n",
       "      <th>Bearish_SENTIMENT</th>\n",
       "      <th>Neutral_SENTIMENT</th>\n",
       "    </tr>\n",
       "  </thead>\n",
       "  <tbody>\n",
       "    <tr>\n",
       "      <th>0</th>\n",
       "      <td>0.600000</td>\n",
       "      <td>0.150000</td>\n",
       "      <td>0.250000</td>\n",
       "    </tr>\n",
       "    <tr>\n",
       "      <th>1</th>\n",
       "      <td>0.600000</td>\n",
       "      <td>0.150000</td>\n",
       "      <td>0.250000</td>\n",
       "    </tr>\n",
       "    <tr>\n",
       "      <th>2</th>\n",
       "      <td>0.600000</td>\n",
       "      <td>0.150000</td>\n",
       "      <td>0.250000</td>\n",
       "    </tr>\n",
       "    <tr>\n",
       "      <th>3</th>\n",
       "      <td>0.750000</td>\n",
       "      <td>0.133300</td>\n",
       "      <td>0.116600</td>\n",
       "    </tr>\n",
       "    <tr>\n",
       "      <th>4</th>\n",
       "      <td>0.750000</td>\n",
       "      <td>0.133300</td>\n",
       "      <td>0.116600</td>\n",
       "    </tr>\n",
       "    <tr>\n",
       "      <th>...</th>\n",
       "      <td>...</td>\n",
       "      <td>...</td>\n",
       "      <td>...</td>\n",
       "    </tr>\n",
       "    <tr>\n",
       "      <th>5377</th>\n",
       "      <td>0.365188</td>\n",
       "      <td>0.269625</td>\n",
       "      <td>0.365188</td>\n",
       "    </tr>\n",
       "    <tr>\n",
       "      <th>5378</th>\n",
       "      <td>0.365188</td>\n",
       "      <td>0.269625</td>\n",
       "      <td>0.365188</td>\n",
       "    </tr>\n",
       "    <tr>\n",
       "      <th>5379</th>\n",
       "      <td>0.370253</td>\n",
       "      <td>0.262658</td>\n",
       "      <td>0.367089</td>\n",
       "    </tr>\n",
       "    <tr>\n",
       "      <th>5380</th>\n",
       "      <td>0.370253</td>\n",
       "      <td>0.262658</td>\n",
       "      <td>0.367089</td>\n",
       "    </tr>\n",
       "    <tr>\n",
       "      <th>5381</th>\n",
       "      <td>0.370253</td>\n",
       "      <td>0.262658</td>\n",
       "      <td>0.367089</td>\n",
       "    </tr>\n",
       "  </tbody>\n",
       "</table>\n",
       "<p>5382 rows × 3 columns</p>\n",
       "</div>"
      ],
      "text/plain": [
       "      Bullish_SENTIMENT  Bearish_SENTIMENT  Neutral_SENTIMENT\n",
       "0              0.600000           0.150000           0.250000\n",
       "1              0.600000           0.150000           0.250000\n",
       "2              0.600000           0.150000           0.250000\n",
       "3              0.750000           0.133300           0.116600\n",
       "4              0.750000           0.133300           0.116600\n",
       "...                 ...                ...                ...\n",
       "5377           0.365188           0.269625           0.365188\n",
       "5378           0.365188           0.269625           0.365188\n",
       "5379           0.370253           0.262658           0.367089\n",
       "5380           0.370253           0.262658           0.367089\n",
       "5381           0.370253           0.262658           0.367089\n",
       "\n",
       "[5382 rows x 3 columns]"
      ]
     },
     "execution_count": 9,
     "metadata": {},
     "output_type": "execute_result"
    }
   ],
   "source": [
    "df[[\"Bullish_SENTIMENT\", \"Bearish_SENTIMENT\", \"Neutral_SENTIMENT\"]]"
   ]
  },
  {
   "cell_type": "markdown",
   "metadata": {},
   "source": [
    "**1er modèle** : Sélection à la main des features"
   ]
  },
  {
   "cell_type": "code",
   "execution_count": 12,
   "metadata": {},
   "outputs": [],
   "source": [
    "cols = [\"PX_LAST_VIX_volatility\",\n",
    "        \"VOLUME_TOTAL_CALL_VIX_volatility\",\n",
    "        \"VOLUME_TOTAL_PUT_VIX_volatility\",\n",
    "        \"PX_LAST_SPX_volatility\",\n",
    "        \"PX_VOLUME_SPX_volatility\",\n",
    "        \"PX_LAST_VSTOXX_volatility\",\n",
    "        \"Bullish_SENTIMENT\",\n",
    "        \"Neutral_SENTIMENT\"]\n",
    "\n",
    "hand_picked_df = df.set_index(\"Date\")[cols + [\"Box\"]].dropna(axis = 0)"
   ]
  },
  {
   "cell_type": "markdown",
   "metadata": {},
   "source": [
    "Essai avec régression logistique"
   ]
  },
  {
   "cell_type": "code",
   "execution_count": 13,
   "metadata": {},
   "outputs": [
    {
     "name": "stdout",
     "output_type": "stream",
     "text": [
      "Optimization terminated successfully.\n",
      "         Current function value: 0.609552\n",
      "         Iterations 5\n",
      "                           Logit Regression Results                           \n",
      "==============================================================================\n",
      "Dep. Variable:                    Box   No. Observations:                 3788\n",
      "Model:                          Logit   Df Residuals:                     3779\n",
      "Method:                           MLE   Df Model:                            8\n",
      "Date:                Wed, 05 Jan 2022   Pseudo R-squ.:                 0.04107\n",
      "Time:                        12:29:26   Log-Likelihood:                -2309.0\n",
      "converged:                       True   LL-Null:                       -2407.9\n",
      "Covariance Type:            nonrobust   LLR p-value:                 1.882e-38\n",
      "====================================================================================================\n",
      "                                       coef    std err          z      P>|z|      [0.025      0.975]\n",
      "----------------------------------------------------------------------------------------------------\n",
      "const                               -0.7204      0.036    -20.271      0.000      -0.790      -0.651\n",
      "PX_LAST_VIX_volatility               0.6338      0.120      5.270      0.000       0.398       0.870\n",
      "VOLUME_TOTAL_CALL_VIX_volatility     0.1300      0.053      2.473      0.013       0.027       0.233\n",
      "VOLUME_TOTAL_PUT_VIX_volatility      0.0137      0.054      0.252      0.801      -0.093       0.120\n",
      "PX_LAST_SPX_volatility               0.0089      0.051      0.174      0.862      -0.091       0.109\n",
      "PX_VOLUME_SPX_volatility             0.2127      0.049      4.354      0.000       0.117       0.308\n",
      "PX_LAST_VSTOXX_volatility           -0.2354      0.118     -1.987      0.047      -0.468      -0.003\n",
      "Bullish_SENTIMENT                   -0.0238      0.041     -0.575      0.565      -0.105       0.057\n",
      "Neutral_SENTIMENT                    0.0998      0.055      1.799      0.072      -0.009       0.208\n",
      "====================================================================================================\n"
     ]
    }
   ],
   "source": [
    "import statsmodels.api as sm\n",
    "\n",
    "X = hand_picked_df.drop(columns=\"Box\")\n",
    "y = hand_picked_df[\"Box\"]\n",
    "scaled_X = sm.add_constant((X - X.mean())/X.std())\n",
    "\n",
    "logit_model=sm.Logit(y,scaled_X)\n",
    "result=logit_model.fit()\n",
    "print(result.summary())"
   ]
  },
  {
   "cell_type": "code",
   "execution_count": 10,
   "metadata": {},
   "outputs": [],
   "source": [
    "\n"
   ]
  },
  {
   "cell_type": "code",
   "execution_count": null,
   "metadata": {},
   "outputs": [],
   "source": []
  }
 ],
 "metadata": {
  "interpreter": {
   "hash": "38740d3277777e2cd7c6c2cc9d8addf5118fdf3f82b1b39231fd12aeac8aee8b"
  },
  "kernelspec": {
   "display_name": "Python 3 (ipykernel)",
   "language": "python",
   "name": "python3"
  },
  "language_info": {
   "codemirror_mode": {
    "name": "ipython",
    "version": 3
   },
   "file_extension": ".py",
   "mimetype": "text/x-python",
   "name": "python",
   "nbconvert_exporter": "python",
   "pygments_lexer": "ipython3",
   "version": "3.9.7"
  }
 },
 "nbformat": 4,
 "nbformat_minor": 2
}