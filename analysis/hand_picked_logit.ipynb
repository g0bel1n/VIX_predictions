{
 "cells": [
  {
   "cell_type": "code",
   "execution_count": 1,
   "metadata": {},
   "outputs": [],
   "source": [
    "import os\n",
    "import pandas as pd\n",
    "from pathlib import Path\n",
    "\n",
    "if not \"root\" in locals():\n",
    "    current_path = Path(os.getcwd())\n",
    "    root = current_path.parent.absolute()"
   ]
  },
  {
   "cell_type": "code",
   "execution_count": 2,
   "metadata": {},
   "outputs": [],
   "source": [
    "os.chdir(root)\n",
    "from data_treatment.box_creator import create_binary_box\n",
    "\n",
    "df = pd.read_csv('database.csv')\n",
    "df = create_binary_box(df, threshold=2., box_length=7)"
   ]
  },
  {
   "cell_type": "markdown",
   "metadata": {},
   "source": [
    "**1er modèle** : Sélection à la main des features"
   ]
  },
  {
   "cell_type": "code",
   "execution_count": 3,
   "metadata": {},
   "outputs": [],
   "source": [
    "cols = [\"PX_LAST_VIX_volatility\",\n",
    "        \"VOLUME_TOTAL_CALL_VIX_volatility\",\n",
    "        \"VOLUME_TOTAL_PUT_VIX_volatility\",\n",
    "        \"PX_LAST_SPX_volatility\",\n",
    "        \"PX_VOLUME_SPX_volatility\",\n",
    "        \"PX_LAST_VSTOXX_volatility\",\n",
    "        \"Bullish_SENTIMENT\",\n",
    "        \"Neutral_SENTIMENT\",\n",
    "        \"Bearish_SENTIMENT\"]\n",
    "\n",
    "hand_picked_df = df.set_index(\"Date\")[cols + [\"Box\"]].dropna(axis = 0)"
   ]
  },
  {
   "cell_type": "markdown",
   "metadata": {},
   "source": [
    "Essai avec régression logistique"
   ]
  },
  {
   "cell_type": "code",
   "execution_count": 4,
   "metadata": {},
   "outputs": [
    {
     "name": "stdout",
     "output_type": "stream",
     "text": [
      "Optimization terminated successfully.\n",
      "         Current function value: 0.637405\n",
      "         Iterations 8\n",
      "                           Logit Regression Results                           \n",
      "==============================================================================\n",
      "Dep. Variable:                    Box   No. Observations:                 3788\n",
      "Model:                          Logit   Df Residuals:                     3779\n",
      "Method:                           MLE   Df Model:                            8\n",
      "Date:                Wed, 29 Dec 2021   Pseudo R-squ.:                 0.03483\n",
      "Time:                        11:01:47   Log-Likelihood:                -2414.5\n",
      "converged:                       True   LL-Null:                       -2501.6\n",
      "Covariance Type:            nonrobust   LLR p-value:                 1.649e-33\n",
      "====================================================================================================\n",
      "                                       coef    std err          z      P>|z|      [0.025      0.975]\n",
      "----------------------------------------------------------------------------------------------------\n",
      "PX_LAST_VIX_volatility               0.3326      0.121      2.753      0.006       0.096       0.569\n",
      "VOLUME_TOTAL_CALL_VIX_volatility    -0.2658      0.055     -4.856      0.000      -0.373      -0.159\n",
      "VOLUME_TOTAL_PUT_VIX_volatility      0.1820      0.055      3.286      0.001       0.073       0.291\n",
      "PX_LAST_SPX_volatility               0.0665      0.051      1.305      0.192      -0.033       0.166\n",
      "PX_VOLUME_SPX_volatility            -0.2696      0.050     -5.411      0.000      -0.367      -0.172\n",
      "PX_LAST_VSTOXX_volatility            0.0856      0.118      0.726      0.468      -0.145       0.317\n",
      "Bullish_SENTIMENT                  -80.2639     58.510     -1.372      0.170    -194.941      34.413\n",
      "Neutral_SENTIMENT                  -77.3306     56.423     -1.371      0.171    -187.917      33.256\n",
      "Bearish_SENTIMENT                  -88.9803     65.250     -1.364      0.173    -216.869      38.908\n",
      "====================================================================================================\n"
     ]
    }
   ],
   "source": [
    "import statsmodels.api as sm\n",
    "\n",
    "X = hand_picked_df.drop(columns=\"Box\")\n",
    "y = hand_picked_df[\"Box\"]\n",
    "scaled_X = (X - X.mean())/X.std()\n",
    "\n",
    "logit_model=sm.Logit(y,scaled_X)\n",
    "result=logit_model.fit()\n",
    "print(result.summary())"
   ]
  },
  {
   "cell_type": "code",
   "execution_count": 10,
   "metadata": {},
   "outputs": [],
   "source": [
    "\n"
   ]
  },
  {
   "cell_type": "code",
   "execution_count": null,
   "metadata": {},
   "outputs": [],
   "source": []
  }
 ],
 "metadata": {
  "interpreter": {
   "hash": "38740d3277777e2cd7c6c2cc9d8addf5118fdf3f82b1b39231fd12aeac8aee8b"
  },
  "kernelspec": {
   "display_name": "Python 3 (ipykernel)",
   "language": "python",
   "name": "python3"
  },
  "language_info": {
   "codemirror_mode": {
    "name": "ipython",
    "version": 3
   },
   "file_extension": ".py",
   "mimetype": "text/x-python",
   "name": "python",
   "nbconvert_exporter": "python",
   "pygments_lexer": "ipython3",
   "version": "3.9.7"
  }
 },
 "nbformat": 4,
 "nbformat_minor": 2
}