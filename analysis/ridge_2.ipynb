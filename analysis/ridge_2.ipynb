{
 "cells": [
  {
   "cell_type": "markdown",
   "metadata": {},
   "source": [
    "## Imports "
   ]
  },
  {
   "cell_type": "code",
   "execution_count": 2,
   "metadata": {},
   "outputs": [],
   "source": [
    "import os\n",
    "import pandas as pd\n",
    "import matplotlib.pyplot as plt\n",
    "from pathlib import Path\n",
    "from sklearn.model_selection import train_test_split\n",
    "from sklearn.model_selection import cross_val_score\n",
    "from sklearn.model_selection import cross_val_predict\n",
    "\n",
    "from sklearn.metrics import confusion_matrix \n",
    "from sklearn.metrics import precision_score, recall_score\n",
    "from sklearn.metrics import f1_score\n",
    "from sklearn.metrics import roc_curve \n",
    "from sklearn.metrics import roc_auc_score \n",
    "\n",
    "\n",
    "if not \"root\" in locals():\n",
    "    current_path = Path(os.getcwd())\n",
    "    root = current_path.parent.absolute()"
   ]
  },
  {
   "cell_type": "code",
   "execution_count": 3,
   "metadata": {},
   "outputs": [],
   "source": [
    "os.chdir(root)\n",
    "from data_treatment.box_creator import create_binary_box\n",
    "\n",
    "df = pd.read_csv('database.csv')\n",
    "df = create_binary_box(df, threshold=2., box_length=7).set_index(\"Date\").dropna(axis = 0)"
   ]
  },
  {
   "cell_type": "markdown",
   "metadata": {},
   "source": [
    "## Our model "
   ]
  },
  {
   "cell_type": "code",
   "execution_count": 13,
   "metadata": {},
   "outputs": [
    {
     "data": {
      "text/plain": [
       "0.7813953488372093"
      ]
     },
     "execution_count": 13,
     "metadata": {},
     "output_type": "execute_result"
    }
   ],
   "source": [
    "from sklearn.linear_model import LogisticRegression\n",
    "from sklearn.feature_selection import SelectFromModel\n",
    "\n",
    "prescale_X = df.drop(columns=\"Box\")\n",
    "y = df[\"Box\"]\n",
    "x = (prescale_X - prescale_X.mean())/prescale_X.std()\n",
    "\n",
    "X_train, X_test, y_train, y_test = train_test_split(x, y, test_size=0.2)\n",
    "ridge = LogisticRegression(penalty=\"l2\", solver=\"newton-cg\", C = 0.3)\n",
    "ridge.fit(X_train, y_train)\n",
    "\n",
    "score= ridge.score(X_train, y_train)\n",
    "score"
   ]
  },
  {
   "cell_type": "code",
   "execution_count": 14,
   "metadata": {},
   "outputs": [
    {
     "name": "stderr",
     "output_type": "stream",
     "text": [
      "C:\\Users\\maria\\anaconda3\\lib\\site-packages\\sklearn\\utils\\optimize.py:210: ConvergenceWarning: newton-cg failed to converge. Increase the number of iterations.\n",
      "  warnings.warn(\n"
     ]
    },
    {
     "ename": "KeyboardInterrupt",
     "evalue": "",
     "output_type": "error",
     "traceback": [
      "Traceback \u001b[1;36m(most recent call last)\u001b[0m:\n",
      "  File \u001b[0;32m\"<ipython-input-14-90d6a4b0db1b>\"\u001b[0m, line \u001b[0;32m6\u001b[0m, in \u001b[0;35m<module>\u001b[0m\n    pipe_LogReg.fit(X_train,y_train)\n",
      "  File \u001b[0;32m\"C:\\Users\\maria\\anaconda3\\lib\\site-packages\\sklearn\\pipeline.py\"\u001b[0m, line \u001b[0;32m394\u001b[0m, in \u001b[0;35mfit\u001b[0m\n    self._final_estimator.fit(Xt, y, **fit_params_last_step)\n",
      "  File \u001b[0;32m\"C:\\Users\\maria\\anaconda3\\lib\\site-packages\\sklearn\\linear_model\\_logistic.py\"\u001b[0m, line \u001b[0;32m2154\u001b[0m, in \u001b[0;35mfit\u001b[0m\n    fold_coefs_ = Parallel(\n",
      "  File \u001b[0;32m\"C:\\Users\\maria\\anaconda3\\lib\\site-packages\\joblib\\parallel.py\"\u001b[0m, line \u001b[0;32m1032\u001b[0m, in \u001b[0;35m__call__\u001b[0m\n    while self.dispatch_one_batch(iterator):\n",
      "  File \u001b[0;32m\"C:\\Users\\maria\\anaconda3\\lib\\site-packages\\joblib\\parallel.py\"\u001b[0m, line \u001b[0;32m847\u001b[0m, in \u001b[0;35mdispatch_one_batch\u001b[0m\n    self._dispatch(tasks)\n",
      "  File \u001b[0;32m\"C:\\Users\\maria\\anaconda3\\lib\\site-packages\\joblib\\parallel.py\"\u001b[0m, line \u001b[0;32m765\u001b[0m, in \u001b[0;35m_dispatch\u001b[0m\n    job = self._backend.apply_async(batch, callback=cb)\n",
      "  File \u001b[0;32m\"C:\\Users\\maria\\anaconda3\\lib\\site-packages\\joblib\\_parallel_backends.py\"\u001b[0m, line \u001b[0;32m208\u001b[0m, in \u001b[0;35mapply_async\u001b[0m\n    result = ImmediateResult(func)\n",
      "  File \u001b[0;32m\"C:\\Users\\maria\\anaconda3\\lib\\site-packages\\joblib\\_parallel_backends.py\"\u001b[0m, line \u001b[0;32m572\u001b[0m, in \u001b[0;35m__init__\u001b[0m\n    self.results = batch()\n",
      "  File \u001b[0;32m\"C:\\Users\\maria\\anaconda3\\lib\\site-packages\\joblib\\parallel.py\"\u001b[0m, line \u001b[0;32m252\u001b[0m, in \u001b[0;35m__call__\u001b[0m\n    return [func(*args, **kwargs)\n",
      "  File \u001b[0;32m\"C:\\Users\\maria\\anaconda3\\lib\\site-packages\\joblib\\parallel.py\"\u001b[0m, line \u001b[0;32m252\u001b[0m, in \u001b[0;35m<listcomp>\u001b[0m\n    return [func(*args, **kwargs)\n",
      "  File \u001b[0;32m\"C:\\Users\\maria\\anaconda3\\lib\\site-packages\\sklearn\\utils\\fixes.py\"\u001b[0m, line \u001b[0;32m211\u001b[0m, in \u001b[0;35m__call__\u001b[0m\n    return self.function(*args, **kwargs)\n",
      "  File \u001b[0;32m\"C:\\Users\\maria\\anaconda3\\lib\\site-packages\\sklearn\\linear_model\\_logistic.py\"\u001b[0m, line \u001b[0;32m1060\u001b[0m, in \u001b[0;35m_log_reg_scoring_path\u001b[0m\n    coefs, Cs, n_iter = _logistic_regression_path(\n",
      "  File \u001b[0;32m\"C:\\Users\\maria\\anaconda3\\lib\\site-packages\\sklearn\\linear_model\\_logistic.py\"\u001b[0m, line \u001b[0;32m823\u001b[0m, in \u001b[0;35m_logistic_regression_path\u001b[0m\n    w0, n_iter_i = _newton_cg(\n",
      "  File \u001b[0;32m\"C:\\Users\\maria\\anaconda3\\lib\\site-packages\\sklearn\\utils\\optimize.py\"\u001b[0m, line \u001b[0;32m193\u001b[0m, in \u001b[0;35m_newton_cg\u001b[0m\n    xsupi = _cg(fhess_p, fgrad, maxiter=maxinner, tol=termcond)\n",
      "  File \u001b[0;32m\"C:\\Users\\maria\\anaconda3\\lib\\site-packages\\sklearn\\utils\\optimize.py\"\u001b[0m, line \u001b[0;32m88\u001b[0m, in \u001b[0;35m_cg\u001b[0m\n    Ap = fhess_p(psupi)\n",
      "  File \u001b[0;32m\"C:\\Users\\maria\\anaconda3\\lib\\site-packages\\sklearn\\linear_model\\_logistic.py\"\u001b[0m, line \u001b[0;32m237\u001b[0m, in \u001b[0;35mHs\u001b[0m\n    ret[:n_features] = np.linalg.multi_dot([X.T, dX, s[:n_features]])\n",
      "  File \u001b[0;32m\"<__array_function__ internals>\"\u001b[0m, line \u001b[0;32m5\u001b[0m, in \u001b[0;35mmulti_dot\u001b[0m\n",
      "  File \u001b[0;32m\"C:\\Users\\maria\\anaconda3\\lib\\site-packages\\numpy\\linalg\\linalg.py\"\u001b[0m, line \u001b[0;32m2664\u001b[0m, in \u001b[0;35mmulti_dot\u001b[0m\n    result = _multi_dot_three(arrays[0], arrays[1], arrays[2])\n",
      "  File \u001b[0;32m\"C:\\Users\\maria\\anaconda3\\lib\\site-packages\\numpy\\linalg\\linalg.py\"\u001b[0m, line \u001b[0;32m2696\u001b[0m, in \u001b[0;35m_multi_dot_three\u001b[0m\n    return dot(A, dot(B, C))\n",
      "\u001b[1;36m  File \u001b[1;32m\"<__array_function__ internals>\"\u001b[1;36m, line \u001b[1;32m5\u001b[1;36m, in \u001b[1;35mdot\u001b[1;36m\u001b[0m\n",
      "\u001b[1;31mKeyboardInterrupt\u001b[0m\n"
     ]
    }
   ],
   "source": [
    "from sklearn.pipeline import make_pipeline\n",
    "from sklearn.linear_model import LogisticRegressionCV\n",
    "from sklearn.preprocessing import StandardScaler\n",
    "\n",
    "pipe_LogReg = make_pipeline(StandardScaler(),LogisticRegressionCV(fit_intercept=True, cv = 5, solver='newton-cg', penalty='l2'))\n",
    "pipe_LogReg.fit(X_train,y_train)\n",
    "\n",
    "score = pipe_LogReg.score(X_train, y_train)\n",
    "print(\"Score: \", score)\n",
    "\n",
    "\n",
    "def display_scores(scores):\n",
    "    print(\"Scores:\", score)\n",
    "    print( \"Mean:\", score.mean())\n",
    "    print(\"Standard deviation:\", score.std())\n",
    "    return \n",
    "\n",
    "#display_scores(score)\n"
   ]
  },
  {
   "cell_type": "markdown",
   "metadata": {},
   "source": [
    "### Confusion Matrix"
   ]
  },
  {
   "cell_type": "code",
   "execution_count": 15,
   "metadata": {},
   "outputs": [
    {
     "data": {
      "text/plain": [
       "<sklearn.metrics._plot.confusion_matrix.ConfusionMatrixDisplay at 0x1d69909a5e0>"
      ]
     },
     "execution_count": 15,
     "metadata": {},
     "output_type": "execute_result"
    },
    {
     "data": {
      "image/png": "[encoded data removed]",
      "text/plain": [
       "<Figure size 432x288 with 2 Axes>"
      ]
     },
     "metadata": {},
     "output_type": "display_data"
    }
   ],
   "source": [
    "from sklearn.metrics import ConfusionMatrixDisplay\n",
    "\n",
    "ConfusionMatrixDisplay.from_estimator(ridge, X_test, y_test)\n"
   ]
  },
  {
   "cell_type": "markdown",
   "metadata": {},
   "source": [
    "## Lalala en cours, je finis demain matin youpi "
   ]
  },
  {
   "cell_type": "markdown",
   "metadata": {},
   "source": [
    "### Getting our precision and recall scores"
   ]
  },
  {
   "cell_type": "code",
   "execution_count": 11,
   "metadata": {},
   "outputs": [
    {
     "name": "stdout",
     "output_type": "stream",
     "text": [
      "0.6113744075829384\n",
      "0.31009615384615385\n"
     ]
    }
   ],
   "source": [
    "print(precision_score(y_train, y_train_pred))\n",
    "print(recall_score(y_train, y_train_pred))"
   ]
  },
  {
   "cell_type": "markdown",
   "metadata": {},
   "source": [
    "### Getting our F1 score "
   ]
  },
  {
   "cell_type": "code",
   "execution_count": 14,
   "metadata": {},
   "outputs": [
    {
     "name": "stdout",
     "output_type": "stream",
     "text": [
      "0.4114832535885168\n"
     ]
    }
   ],
   "source": [
    "print(f1_score(y_train, y_train_pred))"
   ]
  },
  {
   "cell_type": "markdown",
   "metadata": {},
   "source": [
    "### The ROC Curve (receiver operating characteristic)\\\n",
    "plots the true positive rate against the false positive rate \\\n",
    "ie plots sensitivity versus 1- specificity "
   ]
  },
  {
   "cell_type": "code",
   "execution_count": 27,
   "metadata": {},
   "outputs": [],
   "source": [
    "\n",
    "y_scores= rc.decision_function(X_test)\n",
    "fpr, tpr, thresholds = roc_curve(y_test, y_scores)"
   ]
  },
  {
   "cell_type": "code",
   "execution_count": 31,
   "metadata": {},
   "outputs": [
    {
     "data": {
      "image/png": "[encoded data removed]",
      "text/plain": [
       "<Figure size 432x288 with 1 Axes>"
      ]
     },
     "metadata": {},
     "output_type": "display_data"
    }
   ],
   "source": [
    "def plot_roc_curve(fpr, tpr, label=None):\n",
    "    plt.plot(fpr, tpr, linewidth=2, label= label)\n",
    "    plt.plot([0,1], [0,1], 'k--') \n",
    "    return \n",
    "\n",
    "plot_roc_curve(fpr, tpr)\n",
    "plt.show()"
   ]
  },
  {
   "cell_type": "markdown",
   "metadata": {},
   "source": [
    "### Area under the curve "
   ]
  },
  {
   "cell_type": "code",
   "execution_count": 32,
   "metadata": {},
   "outputs": [
    {
     "data": {
      "text/plain": [
       "0.698943661971831"
      ]
     },
     "execution_count": 32,
     "metadata": {},
     "output_type": "execute_result"
    }
   ],
   "source": [
    "roc_auc_score(y_test, y_scores)"
   ]
  }
 ],
 "metadata": {
  "kernelspec": {
   "display_name": "Python 3 (Spyder)",
   "language": "python3",
   "name": "python3"
  },
  "language_info": {
   "codemirror_mode": {
    "name": "ipython",
    "version": 3
   },
   "file_extension": ".py",
   "mimetype": "text/x-python",
   "name": "python",
   "nbconvert_exporter": "python",
   "pygments_lexer": "ipython3",
   "version": "3.8.3"
  }
 },
 "nbformat": 4,
 "nbformat_minor": 4
}
