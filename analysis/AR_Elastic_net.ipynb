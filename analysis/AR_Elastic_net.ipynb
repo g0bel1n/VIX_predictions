{
 "cells": [
  {
   "cell_type": "code",
   "execution_count": 1,
   "id": "f9528dd0",
   "metadata": {
    "pycharm": {
     "name": "#%%\n"
    }
   },
   "outputs": [],
   "source": [
    "import os\n",
    "import pandas as pd\n",
    "import seaborn as sns\n",
    "import statsmodels.api as sm\n",
    "from sklearn.ensemble import RandomForestClassifier\n",
    "from sklearn.model_selection import train_test_split\n",
    "from sklearn.linear_model import LogisticRegressionCV\n",
    "from sklearn.metrics import ConfusionMatrixDisplay\n",
    "from pathlib import Path\n",
    "\n",
    "from sklearn.preprocessing import StandardScaler\n",
    "from sklearn.pipeline import make_pipeline\n",
    "sns.set_style('whitegrid')\n",
    "\n",
    "import matplotlib.pyplot as plt\n",
    "sns.set(rc={'figure.figsize':(10,5)})\n",
    "\n",
    "if not \"root\" in locals():\n",
    "    current_path = Path(os.getcwd())\n",
    "    root = current_path.parent.absolute()\n",
    "\n",
    "os.chdir(root)\n",
    "\n",
    "from data_treatment.box_creator import create_binary_box\n",
    "\n",
    "PATH = \"../\""
   ]
  },
  {
   "cell_type": "markdown",
   "id": "c2fe4d66",
   "metadata": {},
   "source": [
    "## Preparing Data"
   ]
  },
  {
   "cell_type": "code",
   "execution_count": 2,
   "id": "6ccaa792",
   "metadata": {},
   "outputs": [
    {
     "data": {
      "text/plain": "            PX_OPEN_VIX_volatility  Box\nDate                                   \n2006-02-28                   11.74    0\n2006-03-01                   12.05    1\n2006-03-02                   11.79    1\n2006-03-03                   12.03    1\n2006-03-06                   12.22    1\n...                            ...  ...\n2021-05-18                   18.89    1\n2021-05-19                   22.46    0\n2021-05-20                   22.33    0\n2021-05-21                   20.42    0\n2021-05-24                   20.50    0\n\n[2419 rows x 2 columns]",
      "text/html": "<div>\n<style scoped>\n    .dataframe tbody tr th:only-of-type {\n        vertical-align: middle;\n    }\n\n    .dataframe tbody tr th {\n        vertical-align: top;\n    }\n\n    .dataframe thead th {\n        text-align: right;\n    }\n</style>\n<table border=\"1\" class=\"dataframe\">\n  <thead>\n    <tr style=\"text-align: right;\">\n      <th></th>\n      <th>PX_OPEN_VIX_volatility</th>\n      <th>Box</th>\n    </tr>\n    <tr>\n      <th>Date</th>\n      <th></th>\n      <th></th>\n    </tr>\n  </thead>\n  <tbody>\n    <tr>\n      <th>2006-02-28</th>\n      <td>11.74</td>\n      <td>0</td>\n    </tr>\n    <tr>\n      <th>2006-03-01</th>\n      <td>12.05</td>\n      <td>1</td>\n    </tr>\n    <tr>\n      <th>2006-03-02</th>\n      <td>11.79</td>\n      <td>1</td>\n    </tr>\n    <tr>\n      <th>2006-03-03</th>\n      <td>12.03</td>\n      <td>1</td>\n    </tr>\n    <tr>\n      <th>2006-03-06</th>\n      <td>12.22</td>\n      <td>1</td>\n    </tr>\n    <tr>\n      <th>...</th>\n      <td>...</td>\n      <td>...</td>\n    </tr>\n    <tr>\n      <th>2021-05-18</th>\n      <td>18.89</td>\n      <td>1</td>\n    </tr>\n    <tr>\n      <th>2021-05-19</th>\n      <td>22.46</td>\n      <td>0</td>\n    </tr>\n    <tr>\n      <th>2021-05-20</th>\n      <td>22.33</td>\n      <td>0</td>\n    </tr>\n    <tr>\n      <th>2021-05-21</th>\n      <td>20.42</td>\n      <td>0</td>\n    </tr>\n    <tr>\n      <th>2021-05-24</th>\n      <td>20.50</td>\n      <td>0</td>\n    </tr>\n  </tbody>\n</table>\n<p>2419 rows × 2 columns</p>\n</div>"
     },
     "execution_count": 2,
     "metadata": {},
     "output_type": "execute_result"
    }
   ],
   "source": [
    "df = pd.read_csv('database.csv')\n",
    "df['Date'] = pd.to_datetime(df['Date'])\n",
    "df = create_binary_box(df, relative_threshold = 0.05, box_length=5).set_index(['Date']).dropna(axis = 0)\n",
    "df[['PX_OPEN_VIX_volatility','Box']]"
   ]
  },
  {
   "cell_type": "code",
   "execution_count": 3,
   "id": "9854fd20",
   "metadata": {},
   "outputs": [],
   "source": [
    "def add_AR_cols(df: pd.DataFrame, lags: int, return_cols=False)-> pd.DataFrame:\n",
    "    \"\"\"\n",
    "    added columns defined by VIX_lagged_i = VIX - VIX_-i\n",
    "    :param df: DataFrame containing all variables\n",
    "    :param lags: number of passed unit time added to the DataFrame\n",
    "    :return: the DataFrame with the lagged columns\n",
    "    \"\"\"\n",
    "    VIX = 'PX_OPEN_VIX_volatility'\n",
    "    cols=[]\n",
    "\n",
    "    for i in range(1,lags):\n",
    "        df['VIX_LAG_' + str(i)] = df[VIX] - df[VIX].shift(i)\n",
    "        cols.append('VIX_LAG_' + str(i))\n",
    "\n",
    "\n",
    "    if return_cols: return df.dropna(), cols\n",
    "    else: return df.dropna()"
   ]
  },
  {
   "cell_type": "code",
   "execution_count": 4,
   "id": "2adb157e",
   "metadata": {
    "pycharm": {
     "name": "#%%\n"
    }
   },
   "outputs": [],
   "source": [
    "df, cols = add_AR_cols(df,7, return_cols=True)\n",
    "cols += [\"PX_OPEN_VIX_volatility\",'S&P 500 Weekly Close_SENTIMENT' ]"
   ]
  },
  {
   "cell_type": "code",
   "execution_count": 5,
   "id": "17b2c8d0",
   "metadata": {
    "collapsed": false,
    "pycharm": {
     "name": "#%%\n"
    }
   },
   "outputs": [
    {
     "data": {
      "text/plain": "            PX_OPEN_VIX_volatility  PX_HIGH_VIX_volatility  \\\nDate                                                         \n2006-03-08                   12.83                   13.34   \n2006-03-09                   12.21                   12.69   \n2006-03-10                   12.52                   12.60   \n2006-03-13                   11.72                   11.75   \n2006-03-14                   11.61                   11.72   \n...                            ...                     ...   \n2021-05-18                   18.89                   21.45   \n2021-05-19                   22.46                   25.96   \n2021-05-20                   22.33                   23.50   \n2021-05-21                   20.42                   20.89   \n2021-05-24                   20.50                   20.51   \n\n            PX_LOW_VIX_volatility  PX_LAST_VIX_volatility  \\\nDate                                                        \n2006-03-08                  12.26                   12.32   \n2006-03-09                  12.01                   12.68   \n2006-03-10                  11.79                   11.85   \n2006-03-13                  11.13                   11.37   \n2006-03-14                  10.53                   10.74   \n...                           ...                     ...   \n2021-05-18                  18.81                   21.34   \n2021-05-19                  21.88                   22.18   \n2021-05-20                  20.19                   20.67   \n2021-05-21                  19.53                   20.15   \n2021-05-24                  18.38                   18.40   \n\n            VOLUME_TOTAL_CALL_VIX_volatility  \\\nDate                                           \n2006-03-08                             505.0   \n2006-03-09                            2335.0   \n2006-03-10                             722.0   \n2006-03-13                            1183.0   \n2006-03-14                            5130.0   \n...                                      ...   \n2021-05-18                          435445.0   \n2021-05-19                          417537.0   \n2021-05-20                          208977.0   \n2021-05-21                          127120.0   \n2021-05-24                          268111.0   \n\n            PUT_CALL_VOLUME_RATIO_CUR_DAY_VIX_volatility  \\\nDate                                                       \n2006-03-08                                        0.7525   \n2006-03-09                                        0.3148   \n2006-03-10                                        0.8089   \n2006-03-13                                        1.1851   \n2006-03-14                                        0.1043   \n...                                                  ...   \n2021-05-18                                        0.8205   \n2021-05-19                                        1.2020   \n2021-05-20                                        0.8944   \n2021-05-21                                        1.3804   \n2021-05-24                                        0.6661   \n\n            VOLUME_TOTAL_PUT_VIX_volatility  \\\nDate                                          \n2006-03-08                            380.0   \n2006-03-09                            735.0   \n2006-03-10                            584.0   \n2006-03-13                           1402.0   \n2006-03-14                            535.0   \n...                                     ...   \n2021-05-18                         357293.0   \n2021-05-19                         501893.0   \n2021-05-20                         186913.0   \n2021-05-21                         175475.0   \n2021-05-24                         178591.0   \n\n            TOT_OPT_VOLUME_CUR_DAY_VIX_volatility  \\\nDate                                                \n2006-03-08                                  885.0   \n2006-03-09                                 3070.0   \n2006-03-10                                 1306.0   \n2006-03-13                                 2585.0   \n2006-03-14                                 5665.0   \n...                                           ...   \n2021-05-18                               792738.0   \n2021-05-19                               919430.0   \n2021-05-20                               395890.0   \n2021-05-21                               302595.0   \n2021-05-24                               446702.0   \n\n            OPEN_INT_TOTAL_CALL_VIX_volatility  \\\nDate                                             \n2006-03-08                             45781.0   \n2006-03-09                             44848.0   \n2006-03-10                             46964.0   \n2006-03-13                             47803.0   \n2006-03-14                             48279.0   \n...                                        ...   \n2021-05-18                           6190495.0   \n2021-05-19                           4725251.0   \n2021-05-20                           4842985.0   \n2021-05-21                           4884139.0   \n2021-05-24                           4910844.0   \n\n            OPEN_INT_TOTAL_PUT_VIX_volatility  ...  \\\nDate                                           ...   \n2006-03-08                            35778.0  ...   \n2006-03-09                            36098.0  ...   \n2006-03-10                            36383.0  ...   \n2006-03-13                            36937.0  ...   \n2006-03-14                            38306.0  ...   \n...                                       ...  ...   \n2021-05-18                          4299845.0  ...   \n2021-05-19                          3133065.0  ...   \n2021-05-20                          3207980.0  ...   \n2021-05-21                          3263989.0  ...   \n2021-05-24                          3282429.0  ...   \n\n            CMA_F-F_Research_Data_5_Factors_2x3_daily  \\\nDate                                                    \n2006-03-08                                      -0.04   \n2006-03-09                                       0.13   \n2006-03-10                                       0.09   \n2006-03-13                                      -0.11   \n2006-03-14                                      -0.22   \n...                                               ...   \n2021-05-18                                      -0.42   \n2021-05-19                                      -0.34   \n2021-05-20                                      -0.49   \n2021-05-21                                      -0.06   \n2021-05-24                                      -0.30   \n\n            RF_F-F_Research_Data_5_Factors_2x3_daily  \\\nDate                                                   \n2006-03-08                                     0.016   \n2006-03-09                                     0.016   \n2006-03-10                                     0.016   \n2006-03-13                                     0.016   \n2006-03-14                                     0.016   \n...                                              ...   \n2021-05-18                                     0.000   \n2021-05-19                                     0.000   \n2021-05-20                                     0.000   \n2021-05-21                                     0.000   \n2021-05-24                                     0.000   \n\n            Mom   _F-F_Momentum_Factor_daily  Box  VIX_LAG_1  VIX_LAG_2  \\\nDate                                                                      \n2006-03-08                             -0.20    0      -0.09       0.61   \n2006-03-09                             -0.24    0      -0.62      -0.71   \n2006-03-10                             -0.10    0       0.31      -0.31   \n2006-03-13                              0.34    0      -0.80      -0.49   \n2006-03-14                              0.70    0      -0.11      -0.91   \n...                                      ...  ...        ...        ...   \n2021-05-18                             -0.26    1      -1.00      -2.88   \n2021-05-19                             -0.70    0       3.57       2.57   \n2021-05-20                              0.20    0      -0.13       3.44   \n2021-05-21                              0.25    0      -1.91      -2.04   \n2021-05-24                              1.11    0       0.08      -1.83   \n\n            VIX_LAG_3  VIX_LAG_4  VIX_LAG_5  VIX_LAG_6  \nDate                                                    \n2006-03-08       0.80       1.04       0.78       1.09  \n2006-03-09      -0.01       0.18       0.42       0.16  \n2006-03-10      -0.40       0.30       0.49       0.73  \n2006-03-13      -1.11      -1.20      -0.50      -0.31  \n2006-03-14      -0.60      -1.22      -1.31      -0.61  \n...               ...        ...        ...        ...  \n2021-05-18      -7.14      -3.53      -2.28       1.55  \n2021-05-19       0.69      -3.57       0.04       1.29  \n2021-05-20       2.44       0.56      -3.70      -0.09  \n2021-05-21       1.53       0.53      -1.35      -5.61  \n2021-05-24      -1.96       1.61       0.61      -1.27  \n\n[2413 rows x 171 columns]",
      "text/html": "<div>\n<style scoped>\n    .dataframe tbody tr th:only-of-type {\n        vertical-align: middle;\n    }\n\n    .dataframe tbody tr th {\n        vertical-align: top;\n    }\n\n    .dataframe thead th {\n        text-align: right;\n    }\n</style>\n<table border=\"1\" class=\"dataframe\">\n  <thead>\n    <tr style=\"text-align: right;\">\n      <th></th>\n      <th>PX_OPEN_VIX_volatility</th>\n      <th>PX_HIGH_VIX_volatility</th>\n      <th>PX_LOW_VIX_volatility</th>\n      <th>PX_LAST_VIX_volatility</th>\n      <th>VOLUME_TOTAL_CALL_VIX_volatility</th>\n      <th>PUT_CALL_VOLUME_RATIO_CUR_DAY_VIX_volatility</th>\n      <th>VOLUME_TOTAL_PUT_VIX_volatility</th>\n      <th>TOT_OPT_VOLUME_CUR_DAY_VIX_volatility</th>\n      <th>OPEN_INT_TOTAL_CALL_VIX_volatility</th>\n      <th>OPEN_INT_TOTAL_PUT_VIX_volatility</th>\n      <th>...</th>\n      <th>CMA_F-F_Research_Data_5_Factors_2x3_daily</th>\n      <th>RF_F-F_Research_Data_5_Factors_2x3_daily</th>\n      <th>Mom   _F-F_Momentum_Factor_daily</th>\n      <th>Box</th>\n      <th>VIX_LAG_1</th>\n      <th>VIX_LAG_2</th>\n      <th>VIX_LAG_3</th>\n      <th>VIX_LAG_4</th>\n      <th>VIX_LAG_5</th>\n      <th>VIX_LAG_6</th>\n    </tr>\n    <tr>\n      <th>Date</th>\n      <th></th>\n      <th></th>\n      <th></th>\n      <th></th>\n      <th></th>\n      <th></th>\n      <th></th>\n      <th></th>\n      <th></th>\n      <th></th>\n      <th></th>\n      <th></th>\n      <th></th>\n      <th></th>\n      <th></th>\n      <th></th>\n      <th></th>\n      <th></th>\n      <th></th>\n      <th></th>\n      <th></th>\n    </tr>\n  </thead>\n  <tbody>\n    <tr>\n      <th>2006-03-08</th>\n      <td>12.83</td>\n      <td>13.34</td>\n      <td>12.26</td>\n      <td>12.32</td>\n      <td>505.0</td>\n      <td>0.7525</td>\n      <td>380.0</td>\n      <td>885.0</td>\n      <td>45781.0</td>\n      <td>35778.0</td>\n      <td>...</td>\n      <td>-0.04</td>\n      <td>0.016</td>\n      <td>-0.20</td>\n      <td>0</td>\n      <td>-0.09</td>\n      <td>0.61</td>\n      <td>0.80</td>\n      <td>1.04</td>\n      <td>0.78</td>\n      <td>1.09</td>\n    </tr>\n    <tr>\n      <th>2006-03-09</th>\n      <td>12.21</td>\n      <td>12.69</td>\n      <td>12.01</td>\n      <td>12.68</td>\n      <td>2335.0</td>\n      <td>0.3148</td>\n      <td>735.0</td>\n      <td>3070.0</td>\n      <td>44848.0</td>\n      <td>36098.0</td>\n      <td>...</td>\n      <td>0.13</td>\n      <td>0.016</td>\n      <td>-0.24</td>\n      <td>0</td>\n      <td>-0.62</td>\n      <td>-0.71</td>\n      <td>-0.01</td>\n      <td>0.18</td>\n      <td>0.42</td>\n      <td>0.16</td>\n    </tr>\n    <tr>\n      <th>2006-03-10</th>\n      <td>12.52</td>\n      <td>12.60</td>\n      <td>11.79</td>\n      <td>11.85</td>\n      <td>722.0</td>\n      <td>0.8089</td>\n      <td>584.0</td>\n      <td>1306.0</td>\n      <td>46964.0</td>\n      <td>36383.0</td>\n      <td>...</td>\n      <td>0.09</td>\n      <td>0.016</td>\n      <td>-0.10</td>\n      <td>0</td>\n      <td>0.31</td>\n      <td>-0.31</td>\n      <td>-0.40</td>\n      <td>0.30</td>\n      <td>0.49</td>\n      <td>0.73</td>\n    </tr>\n    <tr>\n      <th>2006-03-13</th>\n      <td>11.72</td>\n      <td>11.75</td>\n      <td>11.13</td>\n      <td>11.37</td>\n      <td>1183.0</td>\n      <td>1.1851</td>\n      <td>1402.0</td>\n      <td>2585.0</td>\n      <td>47803.0</td>\n      <td>36937.0</td>\n      <td>...</td>\n      <td>-0.11</td>\n      <td>0.016</td>\n      <td>0.34</td>\n      <td>0</td>\n      <td>-0.80</td>\n      <td>-0.49</td>\n      <td>-1.11</td>\n      <td>-1.20</td>\n      <td>-0.50</td>\n      <td>-0.31</td>\n    </tr>\n    <tr>\n      <th>2006-03-14</th>\n      <td>11.61</td>\n      <td>11.72</td>\n      <td>10.53</td>\n      <td>10.74</td>\n      <td>5130.0</td>\n      <td>0.1043</td>\n      <td>535.0</td>\n      <td>5665.0</td>\n      <td>48279.0</td>\n      <td>38306.0</td>\n      <td>...</td>\n      <td>-0.22</td>\n      <td>0.016</td>\n      <td>0.70</td>\n      <td>0</td>\n      <td>-0.11</td>\n      <td>-0.91</td>\n      <td>-0.60</td>\n      <td>-1.22</td>\n      <td>-1.31</td>\n      <td>-0.61</td>\n    </tr>\n    <tr>\n      <th>...</th>\n      <td>...</td>\n      <td>...</td>\n      <td>...</td>\n      <td>...</td>\n      <td>...</td>\n      <td>...</td>\n      <td>...</td>\n      <td>...</td>\n      <td>...</td>\n      <td>...</td>\n      <td>...</td>\n      <td>...</td>\n      <td>...</td>\n      <td>...</td>\n      <td>...</td>\n      <td>...</td>\n      <td>...</td>\n      <td>...</td>\n      <td>...</td>\n      <td>...</td>\n      <td>...</td>\n    </tr>\n    <tr>\n      <th>2021-05-18</th>\n      <td>18.89</td>\n      <td>21.45</td>\n      <td>18.81</td>\n      <td>21.34</td>\n      <td>435445.0</td>\n      <td>0.8205</td>\n      <td>357293.0</td>\n      <td>792738.0</td>\n      <td>6190495.0</td>\n      <td>4299845.0</td>\n      <td>...</td>\n      <td>-0.42</td>\n      <td>0.000</td>\n      <td>-0.26</td>\n      <td>1</td>\n      <td>-1.00</td>\n      <td>-2.88</td>\n      <td>-7.14</td>\n      <td>-3.53</td>\n      <td>-2.28</td>\n      <td>1.55</td>\n    </tr>\n    <tr>\n      <th>2021-05-19</th>\n      <td>22.46</td>\n      <td>25.96</td>\n      <td>21.88</td>\n      <td>22.18</td>\n      <td>417537.0</td>\n      <td>1.2020</td>\n      <td>501893.0</td>\n      <td>919430.0</td>\n      <td>4725251.0</td>\n      <td>3133065.0</td>\n      <td>...</td>\n      <td>-0.34</td>\n      <td>0.000</td>\n      <td>-0.70</td>\n      <td>0</td>\n      <td>3.57</td>\n      <td>2.57</td>\n      <td>0.69</td>\n      <td>-3.57</td>\n      <td>0.04</td>\n      <td>1.29</td>\n    </tr>\n    <tr>\n      <th>2021-05-20</th>\n      <td>22.33</td>\n      <td>23.50</td>\n      <td>20.19</td>\n      <td>20.67</td>\n      <td>208977.0</td>\n      <td>0.8944</td>\n      <td>186913.0</td>\n      <td>395890.0</td>\n      <td>4842985.0</td>\n      <td>3207980.0</td>\n      <td>...</td>\n      <td>-0.49</td>\n      <td>0.000</td>\n      <td>0.20</td>\n      <td>0</td>\n      <td>-0.13</td>\n      <td>3.44</td>\n      <td>2.44</td>\n      <td>0.56</td>\n      <td>-3.70</td>\n      <td>-0.09</td>\n    </tr>\n    <tr>\n      <th>2021-05-21</th>\n      <td>20.42</td>\n      <td>20.89</td>\n      <td>19.53</td>\n      <td>20.15</td>\n      <td>127120.0</td>\n      <td>1.3804</td>\n      <td>175475.0</td>\n      <td>302595.0</td>\n      <td>4884139.0</td>\n      <td>3263989.0</td>\n      <td>...</td>\n      <td>-0.06</td>\n      <td>0.000</td>\n      <td>0.25</td>\n      <td>0</td>\n      <td>-1.91</td>\n      <td>-2.04</td>\n      <td>1.53</td>\n      <td>0.53</td>\n      <td>-1.35</td>\n      <td>-5.61</td>\n    </tr>\n    <tr>\n      <th>2021-05-24</th>\n      <td>20.50</td>\n      <td>20.51</td>\n      <td>18.38</td>\n      <td>18.40</td>\n      <td>268111.0</td>\n      <td>0.6661</td>\n      <td>178591.0</td>\n      <td>446702.0</td>\n      <td>4910844.0</td>\n      <td>3282429.0</td>\n      <td>...</td>\n      <td>-0.30</td>\n      <td>0.000</td>\n      <td>1.11</td>\n      <td>0</td>\n      <td>0.08</td>\n      <td>-1.83</td>\n      <td>-1.96</td>\n      <td>1.61</td>\n      <td>0.61</td>\n      <td>-1.27</td>\n    </tr>\n  </tbody>\n</table>\n<p>2413 rows × 171 columns</p>\n</div>"
     },
     "execution_count": 5,
     "metadata": {},
     "output_type": "execute_result"
    }
   ],
   "source": [
    "df"
   ]
  },
  {
   "cell_type": "code",
   "execution_count": 6,
   "id": "f406c4e6",
   "metadata": {
    "pycharm": {
     "name": "#%%\n"
    }
   },
   "outputs": [],
   "source": [
    "y = df['Box']\n",
    "X = df.drop(['Box'], axis=1)\n",
    "\n",
    "X_sm = sm.add_constant(X[cols])"
   ]
  },
  {
   "cell_type": "markdown",
   "id": "ea73b259",
   "metadata": {},
   "source": [
    "## Training models"
   ]
  },
  {
   "cell_type": "markdown",
   "id": "d957b70f",
   "metadata": {},
   "source": [
    "### Statsmodel to search for pertinent exogenes variables"
   ]
  },
  {
   "cell_type": "code",
   "execution_count": 7,
   "id": "c2d6105a",
   "metadata": {
    "pycharm": {
     "name": "#%%\n"
    },
    "scrolled": false
   },
   "outputs": [
    {
     "name": "stdout",
     "output_type": "stream",
     "text": [
      "Optimization terminated successfully.\n",
      "         Current function value: 0.683964\n",
      "         Iterations 5\n",
      "                           Logit Regression Results                           \n",
      "==============================================================================\n",
      "Dep. Variable:                    Box   No. Observations:                 2413\n",
      "Model:                          Logit   Df Residuals:                     2404\n",
      "Method:                           MLE   Df Model:                            8\n",
      "Date:                Thu, 06 Jan 2022   Pseudo R-squ.:                 0.01030\n",
      "Time:                        20:29:36   Log-Likelihood:                -1650.4\n",
      "converged:                       True   LL-Null:                       -1667.6\n",
      "Covariance Type:            nonrobust   LLR p-value:                 3.500e-05\n",
      "==================================================================================================\n",
      "                                     coef    std err          z      P>|z|      [0.025      0.975]\n",
      "--------------------------------------------------------------------------------------------------\n",
      "const                              0.0694      0.161      0.430      0.667      -0.247       0.386\n",
      "VIX_LAG_1                         -0.0541      0.029     -1.893      0.058      -0.110       0.002\n",
      "VIX_LAG_2                          0.0112      0.028      0.400      0.689      -0.044       0.066\n",
      "VIX_LAG_3                          0.0075      0.028      0.270      0.787      -0.047       0.062\n",
      "VIX_LAG_4                         -0.0257      0.028     -0.924      0.356      -0.080       0.029\n",
      "VIX_LAG_5                         -0.0350      0.027     -1.277      0.202      -0.089       0.019\n",
      "VIX_LAG_6                          0.0350      0.021      1.650      0.099      -0.007       0.077\n",
      "PX_OPEN_VIX_volatility            -0.0231      0.006     -3.974      0.000      -0.034      -0.012\n",
      "S&P 500 Weekly Close_SENTIMENT  9.207e-05   5.64e-05      1.632      0.103   -1.85e-05       0.000\n",
      "==================================================================================================\n"
     ]
    }
   ],
   "source": [
    "log_reg = sm.Logit(y,X_sm)\n",
    "print(log_reg.fit().summary())"
   ]
  },
  {
   "cell_type": "markdown",
   "id": "2503df4e",
   "metadata": {},
   "source": [
    "### scikit-learn to use penalization"
   ]
  },
  {
   "cell_type": "code",
   "execution_count": 8,
   "id": "1c11330b",
   "metadata": {},
   "outputs": [],
   "source": [
    "from sklearn.feature_selection import SelectFromModel\n",
    "from sklearn.feature_selection import SelectKBest, chi2\n",
    "X_train, X_test, y_train, y_test = train_test_split(X, y, test_size=0.2)\n",
    "\n",
    "selec_model = SelectKBest(k=25)\n",
    "selec_model.fit(X_train, y_train)\n",
    "selec_model.get_feature_names_out()\n",
    "\n",
    "X_new = selec_model.transform(X_train)"
   ]
  },
  {
   "cell_type": "code",
   "execution_count": 9,
   "id": "15c0ccce",
   "metadata": {
    "collapsed": false,
    "pycharm": {
     "name": "#%%\n"
    }
   },
   "outputs": [
    {
     "data": {
      "text/plain": "array(['PX_OPEN_VIX_volatility', 'VOLUME_TOTAL_CALL_VIX_volatility',\n       'PUT_CALL_VOLUME_RATIO_CUR_DAY_SPX_volatility',\n       'VOLUME_TOTAL_PUT_SPX_volatility', 'VOLATILITY_30D_SPX_volatility',\n       'VOLATILITY_20D_SPX_volatility', 'VOLATILITY_30D_SX5E_volatility',\n       'VOLATILITY_90D_SX5E_volatility', 'VOLATILITY_60D_SX5E_volatility',\n       'VOLATILITY_20D_SX5E_volatility', 'PX_OPEN_VSTOXX_volatility',\n       'PX_LOW_VSTOXX_volatility', 'QMJ USA_QMJ Factors',\n       'QMJ Global_QMJ Factors', 'BAB USA_BAB Factors',\n       'BAB Global_BAB Factors', 'Bullish_SENTIMENT',\n       'Bullish 8-week Mov Avg_SENTIMENT', 'Bull-Bear Spread_SENTIMENT',\n       'Mkt-RF_F-F_Research_Data_5_Factors_2x3_daily',\n       'SMB_F-F_Research_Data_5_Factors_2x3_daily',\n       'CMA_F-F_Research_Data_5_Factors_2x3_daily', 'VIX_LAG_1',\n       'VIX_LAG_4', 'VIX_LAG_5'], dtype=object)"
     },
     "execution_count": 9,
     "metadata": {},
     "output_type": "execute_result"
    }
   ],
   "source": [
    "from sklearn.linear_model import LogisticRegression\n",
    "\n",
    "pipe_LogReg = make_pipeline(SelectKBest(k=25),StandardScaler(),LogisticRegression(fit_intercept=True))\n",
    "\n",
    "#Selection based on F-Score\n",
    "\n",
    "pipe_LogReg.fit(X_train,y_train)\n",
    "\n",
    "pipe_LogReg.named_steps['selectkbest'].get_feature_names_out()"
   ]
  },
  {
   "cell_type": "code",
   "execution_count": 10,
   "id": "a530d975",
   "metadata": {
    "collapsed": false,
    "pycharm": {
     "name": "#%%\n"
    }
   },
   "outputs": [
    {
     "name": "stdout",
     "output_type": "stream",
     "text": [
      "Score:  0.6492227979274612\n"
     ]
    }
   ],
   "source": [
    "score = pipe_LogReg.score(X_train, y_train)\n",
    "print(\"Score: \", score)"
   ]
  },
  {
   "cell_type": "code",
   "execution_count": 11,
   "id": "5482f93a",
   "metadata": {
    "pycharm": {
     "name": "#%%\n"
    },
    "scrolled": false
   },
   "outputs": [
    {
     "data": {
      "text/plain": "<sklearn.metrics._plot.confusion_matrix.ConfusionMatrixDisplay at 0x12f675340>"
     },
     "execution_count": 11,
     "metadata": {},
     "output_type": "execute_result"
    },
    {
     "data": {
      "text/plain": "<Figure size 720x360 with 2 Axes>",
      "image/png": "[encoded data removed]"
     },
     "metadata": {},
     "output_type": "display_data"
    }
   ],
   "source": [
    "ConfusionMatrixDisplay.from_estimator(estimator=pipe_LogReg, X=X_test, y=y_test)"
   ]
  },
  {
   "cell_type": "code",
   "execution_count": 12,
   "id": "d145480c",
   "metadata": {
    "pycharm": {
     "name": "#%%\n"
    }
   },
   "outputs": [
    {
     "name": "stderr",
     "output_type": "stream",
     "text": [
      "/var/folders/tw/0_4t24xd3vs3yb_2z5jssqnc0000gn/T/ipykernel_6999/899009015.py:3: SettingWithCopyWarning: \n",
      "A value is trying to be set on a copy of a slice from a DataFrame.\n",
      "Try using .loc[row_indexer,col_indexer] = value instead\n",
      "\n",
      "See the caveats in the documentation: https://pandas.pydata.org/pandas-docs/stable/user_guide/indexing.html#returning-a-view-versus-a-copy\n",
      "  df1['pred']= pipe_LogReg.predict(df1.drop(['Box'], axis=1))\n"
     ]
    },
    {
     "data": {
      "text/plain": "<Figure size 720x360 with 1 Axes>",
      "image/png": "[encoded data removed]"
     },
     "metadata": {},
     "output_type": "display_data"
    }
   ],
   "source": [
    "df1 = df['2016-03':'2016-04']\n",
    "\n",
    "df1['pred']= pipe_LogReg.predict(df1.drop(['Box'], axis=1))\n",
    "\n",
    "fig, ax = plt.subplots()\n",
    "base = df1['PX_OPEN_VIX_volatility'].plot(ax=ax, label='VIX')\n",
    "\n",
    "\n",
    "got_out = df1.loc[df1['Box']==1]\n",
    "no_got_out = df1.loc[df1['Box']==0]\n",
    "\n",
    "pred_got_out = df1.loc[df1['pred']==1]\n",
    "pred_no_got_out = df1.loc[df1['pred']==0]\n",
    "\n",
    "\n",
    "ax.plot(got_out.index.values, got_out['PX_OPEN_VIX_volatility'], '^', markersize=10, color='red', lw=2, label='Got up')\n",
    "\n",
    "ax.plot(no_got_out.index, no_got_out['PX_OPEN_VIX_volatility'], 's', markersize = 10, color='red', lw=5, label='Did not go up');\n",
    "\n",
    "ax.plot(pred_got_out.index.values, pred_got_out['PX_OPEN_VIX_volatility'], '^', markersize=6, color='yellow', lw=2, label='Pred Got up')\n",
    "\n",
    "ax.plot(pred_no_got_out.index, pred_no_got_out['PX_OPEN_VIX_volatility'], 's', markersize = 6, color='yellow', lw=2, label='pred Did not go up');\n",
    "\n",
    "ax.fill_between(df1.index, df1['PX_OPEN_VIX_volatility']*(1.05), df1['PX_OPEN_VIX_volatility']*(0.95), alpha=0.2)\n",
    "plt.legend(loc='best')\n",
    "plt.show()"
   ]
  },
  {
   "cell_type": "code",
   "execution_count": 12,
   "outputs": [],
   "source": [],
   "metadata": {
    "collapsed": false,
    "pycharm": {
     "name": "#%%\n"
    }
   }
  },
  {
   "cell_type": "code",
   "execution_count": 13,
   "id": "aba91e75",
   "metadata": {
    "collapsed": false,
    "pycharm": {
     "name": "#%%\n"
    }
   },
   "outputs": [],
   "source": [
    "from tools.model_basic_testing import model_basic_testing"
   ]
  },
  {
   "cell_type": "code",
   "execution_count": 14,
   "outputs": [
    {
     "name": "stdout",
     "output_type": "stream",
     "text": [
      "|                             WHAT MY ESTIMATOR IS WORTH                             |\n",
      "|====================================================================================|\n",
      "|-------------------------------- Target Information --------------------------------|\n",
      "|                                                                                    |\n",
      "|  Prop. of active value in the target : In sample -> 0.47   Out of sample -> 0.45   |\n",
      "|                                                                                    |\n",
      "|====================================================================================|\n",
      "|-------------------------------------- Scores --------------------------------------|\n",
      "|                                                                                    |\n",
      "|                Accuracy : In sample -> 0.64  Out of sample -> 0.63                 |\n",
      "|                  Accuracy (CV) : mean -> 0.62  std.error -> 0.02                   |\n",
      "|                Precision : In sample -> 0.64  Out of sample -> 0.61                |\n",
      "|                 Recall : In sample -> 0.57  Out of sample -> 0.51                  |\n",
      "|                F1-Score : In sample -> 0.60  Out of sample -> 0.56                 |\n",
      "|                                                                                    |\n",
      "|====================================================================================|\n",
      "|---------------------------------- Classification ----------------------------------|\n",
      "|                                                                                    |\n",
      "|                             In sample Confusion Matrix                             |\n",
      "|                       730 values were true negative, (37 %)                        |\n",
      "|                       292 values were false positive, (15 %)                       |\n",
      "|                       385 values were false negative, (19 %)                       |\n",
      "|                       523 values were true positive, (27 %)                        |\n",
      "|                                                                                    |\n",
      "|                           Out of sample Confusion Matrix                           |\n",
      "|                       191 values were true negative, (39 %)                        |\n",
      "|                       71 values were false positive, (14 %)                        |\n",
      "|                       107 values were false negative, (22 %)                       |\n",
      "|                       114 values were true positive, (23 %)                        |\n",
      "|                                                                                    |\n",
      "|====================================================================================|\n"
     ]
    }
   ],
   "source": [
    "model_basic_testing(pipe_LogReg, X_train, y_train, X_test, y_test)"
   ],
   "metadata": {
    "collapsed": false,
    "pycharm": {
     "name": "#%%\n"
    }
   }
  }
 ],
 "metadata": {
  "kernelspec": {
   "display_name": "Python 3 (ipykernel)",
   "language": "python",
   "name": "python3"
  },
  "language_info": {
   "codemirror_mode": {
    "name": "ipython",
    "version": 3
   },
   "file_extension": ".py",
   "mimetype": "text/x-python",
   "name": "python",
   "nbconvert_exporter": "python",
   "pygments_lexer": "ipython3",
   "version": "3.9.7"
  }
 },
 "nbformat": 4,
 "nbformat_minor": 5
}