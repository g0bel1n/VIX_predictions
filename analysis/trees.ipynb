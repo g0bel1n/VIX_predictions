{
 "cells": [
  {
   "cell_type": "markdown",
   "metadata": {},
   "source": [
    "## Imports "
   ]
  },
  {
   "cell_type": "code",
   "execution_count": 3,
   "metadata": {},
   "outputs": [],
   "source": [
    "import os\n",
    "import pandas as pd\n",
    "import matplotlib.pyplot as plt\n",
    "from pathlib import Path\n",
    "from sklearn.model_selection import train_test_split\n",
    "from sklearn.model_selection import GridSearchCV\n",
    "from sklearn.metrics import classification_report\n",
    "from sklearn.metrics import confusion_matrix \n",
    "\n",
    "from sklearn.ensemble import RandomForestClassifier\n",
    "from sklearn.tree import DecisionTreeClassifier \n",
    "from sklearn.ensemble import BaggingClassifier\n",
    "from pprint import pprint\n",
    "from sklearn.metrics import ConfusionMatrixDisplay\n",
    "\n",
    "\n",
    "if not \"root\" in locals():\n",
    "    current_path = Path(os.getcwd())\n",
    "    root = current_path.parent.absolute()\n",
    "os.chdir(root)\n"
   ]
  },
  {
   "cell_type": "code",
   "execution_count": 4,
   "metadata": {},
   "outputs": [],
   "source": [
    "import pandas as pd\n",
    "\n",
    "def add_AR_cols(df: pd.DataFrame, lags: int, return_cols=False)-> pd.DataFrame:\n",
    "    \"\"\"\n",
    "    added columns defined by VIX_lagged_i = VIX - VIX_-i\n",
    "    :param df: DataFrame containing all variables\n",
    "    :param lags: number of passed unit time added to the DataFrame\n",
    "    :return: the DataFrame with the lagged columns\n",
    "    \"\"\"\n",
    "    VIX = 'PX_OPEN_VIX_volatility'\n",
    "    cols=[]\n",
    "\n",
    "    for i in range(1,lags):\n",
    "        df['VIX_LAG_' + str(i)] = df[VIX] - df[VIX].shift(i)\n",
    "        cols.append('VIX_LAG_' + str(i))\n",
    "\n",
    "\n",
    "    if return_cols: return df.dropna(), cols\n",
    "    else: return df.dropna()"
   ]
  },
  {
   "cell_type": "code",
   "execution_count": 7,
   "metadata": {},
   "outputs": [
    {
     "data": {
      "text/html": [
       "<div>\n",
       "<style scoped>\n",
       "    .dataframe tbody tr th:only-of-type {\n",
       "        vertical-align: middle;\n",
       "    }\n",
       "\n",
       "    .dataframe tbody tr th {\n",
       "        vertical-align: top;\n",
       "    }\n",
       "\n",
       "    .dataframe thead th {\n",
       "        text-align: right;\n",
       "    }\n",
       "</style>\n",
       "<table border=\"1\" class=\"dataframe\">\n",
       "  <thead>\n",
       "    <tr style=\"text-align: right;\">\n",
       "      <th></th>\n",
       "      <th>PX_OPEN_VIX_volatility</th>\n",
       "      <th>PX_HIGH_VIX_volatility</th>\n",
       "      <th>PX_LOW_VIX_volatility</th>\n",
       "      <th>PX_LAST_VIX_volatility</th>\n",
       "      <th>VOLUME_TOTAL_CALL_VIX_volatility</th>\n",
       "      <th>PUT_CALL_VOLUME_RATIO_CUR_DAY_VIX_volatility</th>\n",
       "      <th>VOLUME_TOTAL_PUT_VIX_volatility</th>\n",
       "      <th>TOT_OPT_VOLUME_CUR_DAY_VIX_volatility</th>\n",
       "      <th>OPEN_INT_TOTAL_CALL_VIX_volatility</th>\n",
       "      <th>OPEN_INT_TOTAL_PUT_VIX_volatility</th>\n",
       "      <th>...</th>\n",
       "      <th>CMA_F-F_Research_Data_5_Factors_2x3_daily</th>\n",
       "      <th>RF_F-F_Research_Data_5_Factors_2x3_daily</th>\n",
       "      <th>Mom   _F-F_Momentum_Factor_daily</th>\n",
       "      <th>Box</th>\n",
       "      <th>VIX_LAG_1</th>\n",
       "      <th>VIX_LAG_2</th>\n",
       "      <th>VIX_LAG_3</th>\n",
       "      <th>VIX_LAG_4</th>\n",
       "      <th>VIX_LAG_5</th>\n",
       "      <th>VIX_LAG_6</th>\n",
       "    </tr>\n",
       "    <tr>\n",
       "      <th>Date</th>\n",
       "      <th></th>\n",
       "      <th></th>\n",
       "      <th></th>\n",
       "      <th></th>\n",
       "      <th></th>\n",
       "      <th></th>\n",
       "      <th></th>\n",
       "      <th></th>\n",
       "      <th></th>\n",
       "      <th></th>\n",
       "      <th></th>\n",
       "      <th></th>\n",
       "      <th></th>\n",
       "      <th></th>\n",
       "      <th></th>\n",
       "      <th></th>\n",
       "      <th></th>\n",
       "      <th></th>\n",
       "      <th></th>\n",
       "      <th></th>\n",
       "      <th></th>\n",
       "    </tr>\n",
       "  </thead>\n",
       "  <tbody>\n",
       "    <tr>\n",
       "      <th>2006-07-06</th>\n",
       "      <td>14.04</td>\n",
       "      <td>14.04</td>\n",
       "      <td>13.25</td>\n",
       "      <td>13.65</td>\n",
       "      <td>3862.0</td>\n",
       "      <td>0.0844</td>\n",
       "      <td>326.0</td>\n",
       "      <td>4188.0</td>\n",
       "      <td>678935.0</td>\n",
       "      <td>151125.0</td>\n",
       "      <td>...</td>\n",
       "      <td>0.24</td>\n",
       "      <td>0.020</td>\n",
       "      <td>-0.10</td>\n",
       "      <td>0</td>\n",
       "      <td>0.12</td>\n",
       "      <td>0.75</td>\n",
       "      <td>1.14</td>\n",
       "      <td>-1.24</td>\n",
       "      <td>-1.98</td>\n",
       "      <td>-1.54</td>\n",
       "    </tr>\n",
       "    <tr>\n",
       "      <th>2014-07-28</th>\n",
       "      <td>12.93</td>\n",
       "      <td>13.64</td>\n",
       "      <td>12.54</td>\n",
       "      <td>12.56</td>\n",
       "      <td>157091.0</td>\n",
       "      <td>0.2131</td>\n",
       "      <td>33477.0</td>\n",
       "      <td>190568.0</td>\n",
       "      <td>6142958.0</td>\n",
       "      <td>1610454.0</td>\n",
       "      <td>...</td>\n",
       "      <td>-0.04</td>\n",
       "      <td>0.000</td>\n",
       "      <td>-0.21</td>\n",
       "      <td>1</td>\n",
       "      <td>0.90</td>\n",
       "      <td>1.50</td>\n",
       "      <td>1.39</td>\n",
       "      <td>0.96</td>\n",
       "      <td>0.08</td>\n",
       "      <td>-0.41</td>\n",
       "    </tr>\n",
       "    <tr>\n",
       "      <th>2007-01-29</th>\n",
       "      <td>11.50</td>\n",
       "      <td>11.60</td>\n",
       "      <td>10.92</td>\n",
       "      <td>11.45</td>\n",
       "      <td>13581.0</td>\n",
       "      <td>0.4268</td>\n",
       "      <td>5796.0</td>\n",
       "      <td>19377.0</td>\n",
       "      <td>562977.0</td>\n",
       "      <td>148192.0</td>\n",
       "      <td>...</td>\n",
       "      <td>0.11</td>\n",
       "      <td>0.022</td>\n",
       "      <td>0.06</td>\n",
       "      <td>0</td>\n",
       "      <td>0.55</td>\n",
       "      <td>1.51</td>\n",
       "      <td>1.09</td>\n",
       "      <td>0.73</td>\n",
       "      <td>0.73</td>\n",
       "      <td>0.70</td>\n",
       "    </tr>\n",
       "    <tr>\n",
       "      <th>2009-09-15</th>\n",
       "      <td>23.90</td>\n",
       "      <td>24.27</td>\n",
       "      <td>23.07</td>\n",
       "      <td>23.42</td>\n",
       "      <td>129257.0</td>\n",
       "      <td>0.3291</td>\n",
       "      <td>42542.0</td>\n",
       "      <td>171799.0</td>\n",
       "      <td>1993141.0</td>\n",
       "      <td>872618.0</td>\n",
       "      <td>...</td>\n",
       "      <td>-0.01</td>\n",
       "      <td>0.000</td>\n",
       "      <td>-1.09</td>\n",
       "      <td>1</td>\n",
       "      <td>-1.49</td>\n",
       "      <td>0.41</td>\n",
       "      <td>-0.50</td>\n",
       "      <td>-1.76</td>\n",
       "      <td>-1.36</td>\n",
       "      <td>-3.08</td>\n",
       "    </tr>\n",
       "    <tr>\n",
       "      <th>2016-08-31</th>\n",
       "      <td>13.14</td>\n",
       "      <td>14.34</td>\n",
       "      <td>12.97</td>\n",
       "      <td>13.42</td>\n",
       "      <td>173308.0</td>\n",
       "      <td>0.5954</td>\n",
       "      <td>103187.0</td>\n",
       "      <td>276495.0</td>\n",
       "      <td>4799227.0</td>\n",
       "      <td>2060459.0</td>\n",
       "      <td>...</td>\n",
       "      <td>-0.35</td>\n",
       "      <td>0.001</td>\n",
       "      <td>0.23</td>\n",
       "      <td>0</td>\n",
       "      <td>0.20</td>\n",
       "      <td>-0.95</td>\n",
       "      <td>-0.40</td>\n",
       "      <td>-0.48</td>\n",
       "      <td>0.44</td>\n",
       "      <td>0.99</td>\n",
       "    </tr>\n",
       "    <tr>\n",
       "      <th>...</th>\n",
       "      <td>...</td>\n",
       "      <td>...</td>\n",
       "      <td>...</td>\n",
       "      <td>...</td>\n",
       "      <td>...</td>\n",
       "      <td>...</td>\n",
       "      <td>...</td>\n",
       "      <td>...</td>\n",
       "      <td>...</td>\n",
       "      <td>...</td>\n",
       "      <td>...</td>\n",
       "      <td>...</td>\n",
       "      <td>...</td>\n",
       "      <td>...</td>\n",
       "      <td>...</td>\n",
       "      <td>...</td>\n",
       "      <td>...</td>\n",
       "      <td>...</td>\n",
       "      <td>...</td>\n",
       "      <td>...</td>\n",
       "      <td>...</td>\n",
       "    </tr>\n",
       "    <tr>\n",
       "      <th>2019-09-18</th>\n",
       "      <td>14.61</td>\n",
       "      <td>15.80</td>\n",
       "      <td>13.80</td>\n",
       "      <td>13.95</td>\n",
       "      <td>773256.0</td>\n",
       "      <td>0.5796</td>\n",
       "      <td>448161.0</td>\n",
       "      <td>1221417.0</td>\n",
       "      <td>4799868.0</td>\n",
       "      <td>1432512.0</td>\n",
       "      <td>...</td>\n",
       "      <td>0.04</td>\n",
       "      <td>0.009</td>\n",
       "      <td>1.03</td>\n",
       "      <td>1</td>\n",
       "      <td>-0.31</td>\n",
       "      <td>-0.28</td>\n",
       "      <td>0.45</td>\n",
       "      <td>-0.08</td>\n",
       "      <td>-0.72</td>\n",
       "      <td>-0.92</td>\n",
       "    </tr>\n",
       "    <tr>\n",
       "      <th>2017-01-30</th>\n",
       "      <td>11.10</td>\n",
       "      <td>12.90</td>\n",
       "      <td>11.10</td>\n",
       "      <td>11.88</td>\n",
       "      <td>568028.0</td>\n",
       "      <td>0.3134</td>\n",
       "      <td>178047.0</td>\n",
       "      <td>746075.0</td>\n",
       "      <td>5455926.0</td>\n",
       "      <td>1980735.0</td>\n",
       "      <td>...</td>\n",
       "      <td>-0.16</td>\n",
       "      <td>0.002</td>\n",
       "      <td>-0.70</td>\n",
       "      <td>1</td>\n",
       "      <td>0.53</td>\n",
       "      <td>0.49</td>\n",
       "      <td>0.31</td>\n",
       "      <td>-0.72</td>\n",
       "      <td>-1.20</td>\n",
       "      <td>-1.48</td>\n",
       "    </tr>\n",
       "    <tr>\n",
       "      <th>2016-04-21</th>\n",
       "      <td>13.20</td>\n",
       "      <td>14.14</td>\n",
       "      <td>13.16</td>\n",
       "      <td>13.95</td>\n",
       "      <td>229425.0</td>\n",
       "      <td>0.6711</td>\n",
       "      <td>153977.0</td>\n",
       "      <td>383402.0</td>\n",
       "      <td>5320506.0</td>\n",
       "      <td>1508160.0</td>\n",
       "      <td>...</td>\n",
       "      <td>-0.29</td>\n",
       "      <td>0.000</td>\n",
       "      <td>-0.94</td>\n",
       "      <td>1</td>\n",
       "      <td>-0.19</td>\n",
       "      <td>0.02</td>\n",
       "      <td>-1.67</td>\n",
       "      <td>-0.57</td>\n",
       "      <td>-0.70</td>\n",
       "      <td>-1.29</td>\n",
       "    </tr>\n",
       "    <tr>\n",
       "      <th>2016-08-11</th>\n",
       "      <td>11.93</td>\n",
       "      <td>12.11</td>\n",
       "      <td>11.38</td>\n",
       "      <td>11.68</td>\n",
       "      <td>372307.0</td>\n",
       "      <td>0.6224</td>\n",
       "      <td>231710.0</td>\n",
       "      <td>604017.0</td>\n",
       "      <td>5318817.0</td>\n",
       "      <td>2364275.0</td>\n",
       "      <td>...</td>\n",
       "      <td>0.21</td>\n",
       "      <td>0.001</td>\n",
       "      <td>-0.72</td>\n",
       "      <td>1</td>\n",
       "      <td>0.38</td>\n",
       "      <td>0.53</td>\n",
       "      <td>0.27</td>\n",
       "      <td>-0.15</td>\n",
       "      <td>-0.80</td>\n",
       "      <td>-1.60</td>\n",
       "    </tr>\n",
       "    <tr>\n",
       "      <th>2009-03-09</th>\n",
       "      <td>49.35</td>\n",
       "      <td>51.34</td>\n",
       "      <td>48.40</td>\n",
       "      <td>49.68</td>\n",
       "      <td>36965.0</td>\n",
       "      <td>0.1158</td>\n",
       "      <td>4279.0</td>\n",
       "      <td>41244.0</td>\n",
       "      <td>593907.0</td>\n",
       "      <td>470451.0</td>\n",
       "      <td>...</td>\n",
       "      <td>-0.56</td>\n",
       "      <td>0.001</td>\n",
       "      <td>-1.77</td>\n",
       "      <td>0</td>\n",
       "      <td>-0.82</td>\n",
       "      <td>1.79</td>\n",
       "      <td>1.33</td>\n",
       "      <td>-3.30</td>\n",
       "      <td>-0.61</td>\n",
       "      <td>4.69</td>\n",
       "    </tr>\n",
       "  </tbody>\n",
       "</table>\n",
       "<p>739 rows × 166 columns</p>\n",
       "</div>"
      ],
      "text/plain": [
       "            PX_OPEN_VIX_volatility  PX_HIGH_VIX_volatility  \\\n",
       "Date                                                         \n",
       "2006-07-06                   14.04                   14.04   \n",
       "2014-07-28                   12.93                   13.64   \n",
       "2007-01-29                   11.50                   11.60   \n",
       "2009-09-15                   23.90                   24.27   \n",
       "2016-08-31                   13.14                   14.34   \n",
       "...                            ...                     ...   \n",
       "2019-09-18                   14.61                   15.80   \n",
       "2017-01-30                   11.10                   12.90   \n",
       "2016-04-21                   13.20                   14.14   \n",
       "2016-08-11                   11.93                   12.11   \n",
       "2009-03-09                   49.35                   51.34   \n",
       "\n",
       "            PX_LOW_VIX_volatility  PX_LAST_VIX_volatility  \\\n",
       "Date                                                        \n",
       "2006-07-06                  13.25                   13.65   \n",
       "2014-07-28                  12.54                   12.56   \n",
       "2007-01-29                  10.92                   11.45   \n",
       "2009-09-15                  23.07                   23.42   \n",
       "2016-08-31                  12.97                   13.42   \n",
       "...                           ...                     ...   \n",
       "2019-09-18                  13.80                   13.95   \n",
       "2017-01-30                  11.10                   11.88   \n",
       "2016-04-21                  13.16                   13.95   \n",
       "2016-08-11                  11.38                   11.68   \n",
       "2009-03-09                  48.40                   49.68   \n",
       "\n",
       "            VOLUME_TOTAL_CALL_VIX_volatility  \\\n",
       "Date                                           \n",
       "2006-07-06                            3862.0   \n",
       "2014-07-28                          157091.0   \n",
       "2007-01-29                           13581.0   \n",
       "2009-09-15                          129257.0   \n",
       "2016-08-31                          173308.0   \n",
       "...                                      ...   \n",
       "2019-09-18                          773256.0   \n",
       "2017-01-30                          568028.0   \n",
       "2016-04-21                          229425.0   \n",
       "2016-08-11                          372307.0   \n",
       "2009-03-09                           36965.0   \n",
       "\n",
       "            PUT_CALL_VOLUME_RATIO_CUR_DAY_VIX_volatility  \\\n",
       "Date                                                       \n",
       "2006-07-06                                        0.0844   \n",
       "2014-07-28                                        0.2131   \n",
       "2007-01-29                                        0.4268   \n",
       "2009-09-15                                        0.3291   \n",
       "2016-08-31                                        0.5954   \n",
       "...                                                  ...   \n",
       "2019-09-18                                        0.5796   \n",
       "2017-01-30                                        0.3134   \n",
       "2016-04-21                                        0.6711   \n",
       "2016-08-11                                        0.6224   \n",
       "2009-03-09                                        0.1158   \n",
       "\n",
       "            VOLUME_TOTAL_PUT_VIX_volatility  \\\n",
       "Date                                          \n",
       "2006-07-06                            326.0   \n",
       "2014-07-28                          33477.0   \n",
       "2007-01-29                           5796.0   \n",
       "2009-09-15                          42542.0   \n",
       "2016-08-31                         103187.0   \n",
       "...                                     ...   \n",
       "2019-09-18                         448161.0   \n",
       "2017-01-30                         178047.0   \n",
       "2016-04-21                         153977.0   \n",
       "2016-08-11                         231710.0   \n",
       "2009-03-09                           4279.0   \n",
       "\n",
       "            TOT_OPT_VOLUME_CUR_DAY_VIX_volatility  \\\n",
       "Date                                                \n",
       "2006-07-06                                 4188.0   \n",
       "2014-07-28                               190568.0   \n",
       "2007-01-29                                19377.0   \n",
       "2009-09-15                               171799.0   \n",
       "2016-08-31                               276495.0   \n",
       "...                                           ...   \n",
       "2019-09-18                              1221417.0   \n",
       "2017-01-30                               746075.0   \n",
       "2016-04-21                               383402.0   \n",
       "2016-08-11                               604017.0   \n",
       "2009-03-09                                41244.0   \n",
       "\n",
       "            OPEN_INT_TOTAL_CALL_VIX_volatility  \\\n",
       "Date                                             \n",
       "2006-07-06                            678935.0   \n",
       "2014-07-28                           6142958.0   \n",
       "2007-01-29                            562977.0   \n",
       "2009-09-15                           1993141.0   \n",
       "2016-08-31                           4799227.0   \n",
       "...                                        ...   \n",
       "2019-09-18                           4799868.0   \n",
       "2017-01-30                           5455926.0   \n",
       "2016-04-21                           5320506.0   \n",
       "2016-08-11                           5318817.0   \n",
       "2009-03-09                            593907.0   \n",
       "\n",
       "            OPEN_INT_TOTAL_PUT_VIX_volatility  ...  \\\n",
       "Date                                           ...   \n",
       "2006-07-06                           151125.0  ...   \n",
       "2014-07-28                          1610454.0  ...   \n",
       "2007-01-29                           148192.0  ...   \n",
       "2009-09-15                           872618.0  ...   \n",
       "2016-08-31                          2060459.0  ...   \n",
       "...                                       ...  ...   \n",
       "2019-09-18                          1432512.0  ...   \n",
       "2017-01-30                          1980735.0  ...   \n",
       "2016-04-21                          1508160.0  ...   \n",
       "2016-08-11                          2364275.0  ...   \n",
       "2009-03-09                           470451.0  ...   \n",
       "\n",
       "            CMA_F-F_Research_Data_5_Factors_2x3_daily  \\\n",
       "Date                                                    \n",
       "2006-07-06                                       0.24   \n",
       "2014-07-28                                      -0.04   \n",
       "2007-01-29                                       0.11   \n",
       "2009-09-15                                      -0.01   \n",
       "2016-08-31                                      -0.35   \n",
       "...                                               ...   \n",
       "2019-09-18                                       0.04   \n",
       "2017-01-30                                      -0.16   \n",
       "2016-04-21                                      -0.29   \n",
       "2016-08-11                                       0.21   \n",
       "2009-03-09                                      -0.56   \n",
       "\n",
       "            RF_F-F_Research_Data_5_Factors_2x3_daily  \\\n",
       "Date                                                   \n",
       "2006-07-06                                     0.020   \n",
       "2014-07-28                                     0.000   \n",
       "2007-01-29                                     0.022   \n",
       "2009-09-15                                     0.000   \n",
       "2016-08-31                                     0.001   \n",
       "...                                              ...   \n",
       "2019-09-18                                     0.009   \n",
       "2017-01-30                                     0.002   \n",
       "2016-04-21                                     0.000   \n",
       "2016-08-11                                     0.001   \n",
       "2009-03-09                                     0.001   \n",
       "\n",
       "            Mom   _F-F_Momentum_Factor_daily  Box  VIX_LAG_1  VIX_LAG_2  \\\n",
       "Date                                                                      \n",
       "2006-07-06                             -0.10    0       0.12       0.75   \n",
       "2014-07-28                             -0.21    1       0.90       1.50   \n",
       "2007-01-29                              0.06    0       0.55       1.51   \n",
       "2009-09-15                             -1.09    1      -1.49       0.41   \n",
       "2016-08-31                              0.23    0       0.20      -0.95   \n",
       "...                                      ...  ...        ...        ...   \n",
       "2019-09-18                              1.03    1      -0.31      -0.28   \n",
       "2017-01-30                             -0.70    1       0.53       0.49   \n",
       "2016-04-21                             -0.94    1      -0.19       0.02   \n",
       "2016-08-11                             -0.72    1       0.38       0.53   \n",
       "2009-03-09                             -1.77    0      -0.82       1.79   \n",
       "\n",
       "            VIX_LAG_3  VIX_LAG_4  VIX_LAG_5  VIX_LAG_6  \n",
       "Date                                                    \n",
       "2006-07-06       1.14      -1.24      -1.98      -1.54  \n",
       "2014-07-28       1.39       0.96       0.08      -0.41  \n",
       "2007-01-29       1.09       0.73       0.73       0.70  \n",
       "2009-09-15      -0.50      -1.76      -1.36      -3.08  \n",
       "2016-08-31      -0.40      -0.48       0.44       0.99  \n",
       "...               ...        ...        ...        ...  \n",
       "2019-09-18       0.45      -0.08      -0.72      -0.92  \n",
       "2017-01-30       0.31      -0.72      -1.20      -1.48  \n",
       "2016-04-21      -1.67      -0.57      -0.70      -1.29  \n",
       "2016-08-11       0.27      -0.15      -0.80      -1.60  \n",
       "2009-03-09       1.33      -3.30      -0.61       4.69  \n",
       "\n",
       "[739 rows x 166 columns]"
      ]
     },
     "execution_count": 7,
     "metadata": {},
     "output_type": "execute_result"
    }
   ],
   "source": [
    "import os\n",
    "from pathlib import Path\n",
    "\n",
    "import pandas as pd\n",
    "\n",
    "from sklearn.preprocessing import StandardScaler\n",
    "from sklearn.model_selection import TimeSeriesSplit\n",
    "\n",
    "from data_treatment.box_creator import create_binary_box\n",
    "\n",
    "if not \"root\" in locals():\n",
    "    current_path = Path(os.getcwd())\n",
    "    root = current_path.parent.absolute()\n",
    "os.chdir(root)\n",
    "\n",
    "PATH = \"../\"\n",
    "\n",
    "cols_selected_by_lasso = ['PX_OPEN_VIX_volatility', 'VOLUME_TOTAL_CALL_VIX_volatility',\n",
    "       '3MTH_IMPVOL_110.0%MNY_DF_VIX_volatility',\n",
    "       'PUT_CALL_VOLUME_RATIO_CUR_DAY_SPX_volatility',\n",
    "       'VOLUME_TOTAL_PUT_SPX_volatility', 'QMJ USA_QMJ Factors',\n",
    "       'BAB Global_BAB Factors', 'Bullish_SENTIMENT',\n",
    "       'Bullish 8-week Mov Avg_SENTIMENT',\n",
    "       'Mkt-RF_F-F_Research_Data_5_Factors_2x3_daily',\n",
    "       'SMB_F-F_Research_Data_5_Factors_2x3_daily', 'VIX_LAG_1', 'VIX_LAG_3',\n",
    "       'VIX_LAG_4', 'VIX_LAG_5']\n",
    "\n",
    "def easy_data_import():\n",
    "    df = pd.read_csv('database.csv')\n",
    "    df['Date'] = pd.to_datetime(df['Date'])\n",
    "    df = create_binary_box(df, relative_threshold = 0.05, box_length=5).set_index(['Date']).dropna(axis = 0)\n",
    "    df = add_AR_cols(df,7)\n",
    "\n",
    "    scaler = StandardScaler()\n",
    "    X = scaler.fit_transform(df[cols_selected_by_lasso])\n",
    "    y = df['Box']\n",
    "\n",
    "    \n",
    "    \n",
    "    ts_cv = TimeSeriesSplit()\n",
    "    return X, y, ts_cv\n",
    "\n"
   ]
  },
  {
   "cell_type": "markdown",
   "metadata": {},
   "source": [
    "### Getting our data "
   ]
  },
  {
   "cell_type": "code",
   "execution_count": 29,
   "metadata": {},
   "outputs": [],
   "source": [
    "\n",
    "X, y , ts_cv = easy_data_import()\n",
    "\n",
    "X_train, X_test, y_train, y_test = train_test_split(X, y, test_size=0.2)\n"
   ]
  },
  {
   "cell_type": "markdown",
   "metadata": {},
   "source": [
    "# 1) Random Forest "
   ]
  },
  {
   "cell_type": "markdown",
   "metadata": {},
   "source": [
    "### All the possible parameters "
   ]
  },
  {
   "cell_type": "code",
   "execution_count": 30,
   "metadata": {},
   "outputs": [
    {
     "name": "stdout",
     "output_type": "stream",
     "text": [
      "Parameters currently in use:\n",
      "\n",
      "{'bootstrap': True,\n",
      " 'ccp_alpha': 0.0,\n",
      " 'class_weight': None,\n",
      " 'criterion': 'gini',\n",
      " 'max_depth': None,\n",
      " 'max_features': 'auto',\n",
      " 'max_leaf_nodes': None,\n",
      " 'max_samples': None,\n",
      " 'min_impurity_decrease': 0.0,\n",
      " 'min_samples_leaf': 1,\n",
      " 'min_samples_split': 2,\n",
      " 'min_weight_fraction_leaf': 0.0,\n",
      " 'n_estimators': 100,\n",
      " 'n_jobs': None,\n",
      " 'oob_score': False,\n",
      " 'random_state': 42,\n",
      " 'verbose': 0,\n",
      " 'warm_start': False}\n"
     ]
    }
   ],
   "source": [
    "rf = RandomForestClassifier(random_state = 42)\n",
    "\n",
    "# Look at parameters used by our current forest\n",
    "print('Parameters currently in use:\\n')\n",
    "pprint(rf.get_params())"
   ]
  },
  {
   "cell_type": "markdown",
   "metadata": {},
   "source": [
    "### Using a randomized grid search "
   ]
  },
  {
   "cell_type": "code",
   "execution_count": 37,
   "metadata": {},
   "outputs": [
    {
     "name": "stdout",
     "output_type": "stream",
     "text": [
      "{'bootstrap': [False],\n",
      " 'max_depth': [2, 3, 4, 5],\n",
      " 'max_features': ['auto', 'sqrt'],\n",
      " 'n_estimators': [3, 10, 30]}\n"
     ]
    }
   ],
   "source": [
    "from sklearn.model_selection import RandomizedSearchCV\n",
    "import numpy as np\n",
    "# Number of trees in random forest\n",
    "n_estimators = [3,10,30]\n",
    "# Number of features to consider at every split\n",
    "max_features = ['auto', 'sqrt']\n",
    "# Maximum number of levels in tree\n",
    "max_depth = [2,3,4,5]\n",
    "\n",
    "# Method of selecting samples for training each tree\n",
    "bootstrap = [False]\n",
    "# Create the random grid\n",
    "random_grid = {'n_estimators': n_estimators,\n",
    "               'max_features': max_features,\n",
    "               'max_depth': max_depth,\n",
    "               'bootstrap': bootstrap}\n",
    "pprint(random_grid)"
   ]
  },
  {
   "cell_type": "markdown",
   "metadata": {},
   "source": [
    "### Training "
   ]
  },
  {
   "cell_type": "code",
   "execution_count": 38,
   "metadata": {},
   "outputs": [
    {
     "data": {
      "text/plain": [
       "GridSearchCV(cv=TimeSeriesSplit(gap=0, max_train_size=None, n_splits=5, test_size=None),\n",
       "             estimator=RandomForestClassifier(),\n",
       "             param_grid={'bootstrap': [False], 'max_depth': [2, 3, 4, 5],\n",
       "                         'max_features': ['auto', 'sqrt'],\n",
       "                         'n_estimators': [3, 10, 30]})"
      ]
     },
     "execution_count": 38,
     "metadata": {},
     "output_type": "execute_result"
    }
   ],
   "source": [
    "rf = RandomForestClassifier()\n",
    "# Random search of parameters, using 3 fold cross validation, \n",
    "# search across 100 different combinations, and use all available cores\n",
    "rf_random = GridSearchCV(estimator = rf, param_grid = random_grid , cv = ts_cv)\n",
    "# Fit the random search model\n",
    "rf_random.fit(X_train, y_train)"
   ]
  },
  {
   "cell_type": "markdown",
   "metadata": {},
   "source": [
    "### Our final model "
   ]
  },
  {
   "cell_type": "code",
   "execution_count": 39,
   "metadata": {},
   "outputs": [],
   "source": [
    "final_model = rf_random.best_estimator_"
   ]
  },
  {
   "cell_type": "code",
   "execution_count": 40,
   "metadata": {},
   "outputs": [
    {
     "name": "stdout",
     "output_type": "stream",
     "text": [
      "RandomForestClassifier(bootstrap=False, max_depth=4, max_features='sqrt',\n",
      "                       n_estimators=10)\n"
     ]
    }
   ],
   "source": [
    "print(final_model)"
   ]
  },
  {
   "cell_type": "code",
   "execution_count": 41,
   "metadata": {},
   "outputs": [
    {
     "name": "stdout",
     "output_type": "stream",
     "text": [
      "              precision    recall  f1-score   support\n",
      "\n",
      "           0       0.61      0.78      0.68       244\n",
      "           1       0.68      0.48      0.56       239\n",
      "\n",
      "    accuracy                           0.63       483\n",
      "   macro avg       0.64      0.63      0.62       483\n",
      "weighted avg       0.64      0.63      0.62       483\n",
      "\n"
     ]
    }
   ],
   "source": [
    "y_pred= final_model.predict(X_test)\n",
    "\n",
    "print(classification_report(y_test, y_pred))"
   ]
  },
  {
   "cell_type": "code",
   "execution_count": 42,
   "metadata": {},
   "outputs": [
    {
     "data": {
      "text/plain": [
       "<sklearn.metrics._plot.confusion_matrix.ConfusionMatrixDisplay at 0x1dec862d550>"
      ]
     },
     "execution_count": 42,
     "metadata": {},
     "output_type": "execute_result"
    },
    {
     "data": {
      "image/png": "[encoded data removed]",
      "text/plain": [
       "<Figure size 432x288 with 2 Axes>"
      ]
     },
     "metadata": {},
     "output_type": "display_data"
    }
   ],
   "source": [
    "ConfusionMatrixDisplay.from_estimator(estimator=final_model, X=X_test, y=y_test)"
   ]
  },
  {
   "cell_type": "markdown",
   "metadata": {},
   "source": [
    "# 2) Decision Tree"
   ]
  },
  {
   "cell_type": "code",
   "execution_count": 26,
   "metadata": {},
   "outputs": [
    {
     "data": {
      "text/plain": [
       "DecisionTreeClassifier(max_depth=4)"
      ]
     },
     "execution_count": 26,
     "metadata": {},
     "output_type": "execute_result"
    }
   ],
   "source": [
    "tree_clf= DecisionTreeClassifier(max_depth= 4)\n",
    "tree_clf.fit(X_train, y_train)"
   ]
  },
  {
   "cell_type": "code",
   "execution_count": 27,
   "metadata": {},
   "outputs": [
    {
     "data": {
      "image/png": "[encoded data removed]",
      "text/plain": [
       "<Figure size 2880x720 with 1 Axes>"
      ]
     },
     "metadata": {},
     "output_type": "display_data"
    }
   ],
   "source": [
    "from sklearn import tree\n",
    "\n",
    "\n",
    "fig = plt.figure(figsize=(40,10))\n",
    "_ = tree.plot_tree(tree_clf, \n",
    "                   label='root',\n",
    "                   feature_names= our_features,  \n",
    "                   class_names= ['not up', 'up'],\n",
    "                   filled=True)"
   ]
  },
  {
   "cell_type": "markdown",
   "metadata": {},
   "source": [
    "## 3) Boosting "
   ]
  },
  {
   "cell_type": "markdown",
   "metadata": {},
   "source": [
    "### AdaBoost"
   ]
  },
  {
   "cell_type": "code",
   "execution_count": 43,
   "metadata": {},
   "outputs": [
    {
     "data": {
      "text/plain": [
       "AdaBoostClassifier(base_estimator=DecisionTreeClassifier(max_depth=1),\n",
       "                   learning_rate=0.5, n_estimators=200)"
      ]
     },
     "execution_count": 43,
     "metadata": {},
     "output_type": "execute_result"
    }
   ],
   "source": [
    "from sklearn.ensemble import AdaBoostClassifier \n",
    "\n",
    "\n",
    "\n",
    "ada_clf = AdaBoostClassifier(\n",
    "            DecisionTreeClassifier(max_depth=3),\n",
    "            n_estimators= 200,\n",
    "            algorithm= \"SAMME.R\",\n",
    "            learning_rate=0.5)\n",
    "\n",
    "ada_clf.fit(X_train, y_train)"
   ]
  },
  {
   "cell_type": "code",
   "execution_count": 44,
   "metadata": {},
   "outputs": [
    {
     "name": "stdout",
     "output_type": "stream",
     "text": [
      "              precision    recall  f1-score   support\n",
      "\n",
      "           0       0.62      0.72      0.66       244\n",
      "           1       0.65      0.54      0.59       239\n",
      "\n",
      "    accuracy                           0.63       483\n",
      "   macro avg       0.63      0.63      0.63       483\n",
      "weighted avg       0.63      0.63      0.63       483\n",
      "\n"
     ]
    }
   ],
   "source": [
    "y_pred= ada_clf.predict(X_test)\n",
    "\n",
    "print(classification_report(y_test, y_pred))"
   ]
  },
  {
   "cell_type": "code",
   "execution_count": 46,
   "metadata": {},
   "outputs": [
    {
     "data": {
      "text/plain": [
       "<sklearn.metrics._plot.confusion_matrix.ConfusionMatrixDisplay at 0x1dec8e2b130>"
      ]
     },
     "execution_count": 46,
     "metadata": {},
     "output_type": "execute_result"
    },
    {
     "data": {
      "image/png": "[encoded data removed]",
      "text/plain": [
       "<Figure size 432x288 with 2 Axes>"
      ]
     },
     "metadata": {},
     "output_type": "display_data"
    }
   ],
   "source": [
    "ConfusionMatrixDisplay.from_estimator(estimator=ada_clf, X=X_test, y=y_test)"
   ]
  }
 ],
 "metadata": {
  "kernelspec": {
   "display_name": "Python 3 (Spyder)",
   "language": "python3",
   "name": "python3"
  },
  "language_info": {
   "codemirror_mode": {
    "name": "ipython",
    "version": 3
   },
   "file_extension": ".py",
   "mimetype": "text/x-python",
   "name": "python",
   "nbconvert_exporter": "python",
   "pygments_lexer": "ipython3",
   "version": "3.9.7"
  }
 },
 "nbformat": 4,
 "nbformat_minor": 4
}