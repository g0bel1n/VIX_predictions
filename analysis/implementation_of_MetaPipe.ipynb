{
 "cells": [
  {
   "cell_type": "code",
   "execution_count": 1,
   "metadata": {
    "collapsed": true
   },
   "outputs": [],
   "source": [
    "from pathlib import Path\n",
    "import os\n",
    "import pandas as pd\n",
    "\n",
    "from tools.add_AR_cols import add_AR_cols\n",
    "from data_treatment.box_creator import create_binary_box\n",
    "import TinyAutoML as tam\n",
    "\n",
    "if not \"root\" in locals():\n",
    "    current_path = Path(os.getcwd())\n",
    "    root = current_path.parent.absolute()\n",
    "\n",
    "os.chdir(root)"
   ]
  },
  {
   "cell_type": "markdown",
   "source": [
    "Here we import the whole cleaned dataset. It is 166 columns for 3692 rows.\n",
    "We add Auto-lagged cols and the binary target"
   ],
   "metadata": {
    "collapsed": false,
    "pycharm": {
     "name": "#%% md\n"
    }
   }
  },
  {
   "cell_type": "code",
   "execution_count": 2,
   "outputs": [],
   "source": [
    "df = pd.read_csv('database.csv')\n",
    "df['Date'] = pd.to_datetime(df['Date'])\n",
    "df = create_binary_box(df, relative_threshold = 0.20, box_length=30).set_index(['Date']).dropna(axis = 0)\n",
    "df = add_AR_cols(df,7).dropna(axis = 0)\n",
    "X,y = df.drop('Box', axis=1)[:'2020'], df['Box'][:'2020']\n",
    "\n",
    "cut = int(len(y) * 0.8)\n",
    "\n",
    "X_train, X_test = X[:cut], X[cut:]\n",
    "y_train, y_test = y[:cut], y[cut:]"
   ],
   "metadata": {
    "collapsed": false,
    "pycharm": {
     "name": "#%%\n"
    }
   }
  },
  {
   "cell_type": "markdown",
   "source": [
    "Then we instantiate the MetaPipeline object, we fit it and look at the outputs and scores.\n",
    "\n"
   ],
   "metadata": {
    "collapsed": false,
    "pycharm": {
     "name": "#%% md\n"
    }
   }
  },
  {
   "cell_type": "code",
   "execution_count": 3,
   "outputs": [
    {
     "name": "stdout",
     "output_type": "stream",
     "text": [
      "Correcting non-stationarity on the dataset...\n",
      "Done.\n",
      "Calculating columns to keep according to LASSO features selection\n"
     ]
    },
    {
     "name": "stderr",
     "output_type": "stream",
     "text": [
      "100%|██████████| 10/10 [00:02<00:00,  4.33it/s]"
     ]
    },
    {
     "name": "stdout",
     "output_type": "stream",
     "text": [
      "\tDone.\n",
      "Training models\n",
      "Training : \n",
      "----> rcf\n"
     ]
    },
    {
     "name": "stderr",
     "output_type": "stream",
     "text": [
      "\n"
     ]
    },
    {
     "name": "stdout",
     "output_type": "stream",
     "text": [
      "----> Logistic Regression\n",
      "----> Gaussian Naive Bayes\n",
      "----> LDA\n",
      "----> DTC\n",
      "----> AdaBoost\n",
      "\tDone.\n",
      "Results : \n",
      "The best estimator is rcf with a cross-validation accuracy (in Sample) of 0.6143149533393436\n"
     ]
    },
    {
     "data": {
      "text/plain": "MetaPipeline()"
     },
     "execution_count": 3,
     "metadata": {},
     "output_type": "execute_result"
    }
   ],
   "source": [
    "mpipe = tam.Estimator.MetaPipeline()\n",
    "mpipe.fit(X_train,y_train, grid_search=True)"
   ],
   "metadata": {
    "collapsed": false,
    "pycharm": {
     "name": "#%%\n"
    }
   }
  },
  {
   "cell_type": "code",
   "execution_count": 4,
   "outputs": [
    {
     "data": {
      "text/plain": "                          mean\nrcf                   0.614315\nLogistic Regression   0.581118\nGaussian Naive Bayes  0.589469\nLDA                   0.579369\nDTC                   0.548223\nAdaBoost              0.568517",
      "text/html": "<div>\n<style scoped>\n    .dataframe tbody tr th:only-of-type {\n        vertical-align: middle;\n    }\n\n    .dataframe tbody tr th {\n        vertical-align: top;\n    }\n\n    .dataframe thead th {\n        text-align: right;\n    }\n</style>\n<table border=\"1\" class=\"dataframe\">\n  <thead>\n    <tr style=\"text-align: right;\">\n      <th></th>\n      <th>mean</th>\n    </tr>\n  </thead>\n  <tbody>\n    <tr>\n      <th>rcf</th>\n      <td>0.614315</td>\n    </tr>\n    <tr>\n      <th>Logistic Regression</th>\n      <td>0.581118</td>\n    </tr>\n    <tr>\n      <th>Gaussian Naive Bayes</th>\n      <td>0.589469</td>\n    </tr>\n    <tr>\n      <th>LDA</th>\n      <td>0.579369</td>\n    </tr>\n    <tr>\n      <th>DTC</th>\n      <td>0.548223</td>\n    </tr>\n    <tr>\n      <th>AdaBoost</th>\n      <td>0.568517</td>\n    </tr>\n  </tbody>\n</table>\n</div>"
     },
     "execution_count": 4,
     "metadata": {},
     "output_type": "execute_result"
    }
   ],
   "source": [
    "mpipe.get_scores()\n",
    "\n",
    "\n",
    "#mpipe.classification_report(X_train,y_train)"
   ],
   "metadata": {
    "collapsed": false,
    "pycharm": {
     "name": "#%%\n"
    }
   }
  },
  {
   "cell_type": "code",
   "execution_count": 21,
   "outputs": [
    {
     "name": "stdout",
     "output_type": "stream",
     "text": [
      "Correcting non-stationarity on the dataset...\n",
      "Done.\n"
     ]
    },
    {
     "data": {
      "text/plain": "<sklearn.metrics._plot.confusion_matrix.ConfusionMatrixDisplay at 0x134e4c3a0>"
     },
     "execution_count": 21,
     "metadata": {},
     "output_type": "execute_result"
    },
    {
     "data": {
      "text/plain": "<Figure size 432x288 with 2 Axes>",
      "image/png": "[encoded data removed]"
     },
     "metadata": {
      "needs_background": "light"
     },
     "output_type": "display_data"
    }
   ],
   "source": [
    "from sklearn.metrics import ConfusionMatrixDisplay\n",
    "\n",
    "ConfusionMatrixDisplay.from_predictions(y_test[17:],mpipe.predict(X_test))"
   ],
   "metadata": {
    "collapsed": false,
    "pycharm": {
     "name": "#%%\n"
    }
   }
  },
  {
   "cell_type": "code",
   "execution_count": 22,
   "outputs": [
    {
     "name": "stdout",
     "output_type": "stream",
     "text": [
      "Correcting non-stationarity on the dataset...\n",
      "Done.\n"
     ]
    },
    {
     "data": {
      "text/plain": "<Figure size 432x288 with 1 Axes>",
      "image/png": "[encoded data removed]"
     },
     "metadata": {
      "needs_background": "light"
     },
     "output_type": "display_data"
    }
   ],
   "source": [
    "mpipe.roc_curve(X_test,y_test)"
   ],
   "metadata": {
    "collapsed": false,
    "pycharm": {
     "name": "#%%\n"
    }
   }
  },
  {
   "cell_type": "code",
   "execution_count": 16,
   "outputs": [
    {
     "name": "stdout",
     "output_type": "stream",
     "text": [
      "Correcting non-stationarity on the dataset...\n",
      "Done.\n"
     ]
    },
    {
     "data": {
      "text/plain": "0.6088193456614509"
     },
     "execution_count": 16,
     "metadata": {},
     "output_type": "execute_result"
    }
   ],
   "source": [
    "from sklearn.metrics import accuracy_score\n",
    "\n",
    "accuracy_score(y_test[17:],mpipe.predict(X_test))\n"
   ],
   "metadata": {
    "collapsed": false,
    "pycharm": {
     "name": "#%%\n"
    }
   }
  },
  {
   "cell_type": "code",
   "execution_count": 9,
   "outputs": [
    {
     "ename": "AttributeError",
     "evalue": "'RandomForestClassifier' object has no attribute 'tree_'",
     "output_type": "error",
     "traceback": [
      "\u001B[0;31m---------------------------------------------------------------------------\u001B[0m",
      "\u001B[0;31mAttributeError\u001B[0m                            Traceback (most recent call last)",
      "\u001B[0;32m/var/folders/tw/0_4t24xd3vs3yb_2z5jssqnc0000gn/T/ipykernel_31071/3499876818.py\u001B[0m in \u001B[0;36m<module>\u001B[0;34m\u001B[0m\n\u001B[1;32m      4\u001B[0m \u001B[0;34m\u001B[0m\u001B[0m\n\u001B[1;32m      5\u001B[0m \u001B[0mfig\u001B[0m \u001B[0;34m=\u001B[0m \u001B[0mplt\u001B[0m\u001B[0;34m.\u001B[0m\u001B[0mfigure\u001B[0m\u001B[0;34m(\u001B[0m\u001B[0mfigsize\u001B[0m\u001B[0;34m=\u001B[0m\u001B[0;34m(\u001B[0m\u001B[0;36m40\u001B[0m\u001B[0;34m,\u001B[0m\u001B[0;36m10\u001B[0m\u001B[0;34m)\u001B[0m\u001B[0;34m)\u001B[0m\u001B[0;34m\u001B[0m\u001B[0;34m\u001B[0m\u001B[0m\n\u001B[0;32m----> 6\u001B[0;31m _ = tree.plot_tree(mpipe.pipe.named_steps['Meta Model'].best_estimator_,\n\u001B[0m\u001B[1;32m      7\u001B[0m                    \u001B[0mlabel\u001B[0m\u001B[0;34m=\u001B[0m\u001B[0;34m'root'\u001B[0m\u001B[0;34m,\u001B[0m\u001B[0;34m\u001B[0m\u001B[0;34m\u001B[0m\u001B[0m\n\u001B[1;32m      8\u001B[0m                    \u001B[0mclass_names\u001B[0m\u001B[0;34m=\u001B[0m \u001B[0;34m[\u001B[0m\u001B[0;34m'not up'\u001B[0m\u001B[0;34m,\u001B[0m \u001B[0;34m'up'\u001B[0m\u001B[0;34m]\u001B[0m\u001B[0;34m,\u001B[0m\u001B[0;34m\u001B[0m\u001B[0;34m\u001B[0m\u001B[0m\n",
      "\u001B[0;32m~/PycharmProjects/pythonProject/basic_env/lib/python3.9/site-packages/sklearn/tree/_export.py\u001B[0m in \u001B[0;36mplot_tree\u001B[0;34m(decision_tree, max_depth, feature_names, class_names, label, filled, impurity, node_ids, proportion, rounded, precision, ax, fontsize)\u001B[0m\n\u001B[1;32m    193\u001B[0m         \u001B[0mfontsize\u001B[0m\u001B[0;34m=\u001B[0m\u001B[0mfontsize\u001B[0m\u001B[0;34m,\u001B[0m\u001B[0;34m\u001B[0m\u001B[0;34m\u001B[0m\u001B[0m\n\u001B[1;32m    194\u001B[0m     )\n\u001B[0;32m--> 195\u001B[0;31m     \u001B[0;32mreturn\u001B[0m \u001B[0mexporter\u001B[0m\u001B[0;34m.\u001B[0m\u001B[0mexport\u001B[0m\u001B[0;34m(\u001B[0m\u001B[0mdecision_tree\u001B[0m\u001B[0;34m,\u001B[0m \u001B[0max\u001B[0m\u001B[0;34m=\u001B[0m\u001B[0max\u001B[0m\u001B[0;34m)\u001B[0m\u001B[0;34m\u001B[0m\u001B[0;34m\u001B[0m\u001B[0m\n\u001B[0m\u001B[1;32m    196\u001B[0m \u001B[0;34m\u001B[0m\u001B[0m\n\u001B[1;32m    197\u001B[0m \u001B[0;34m\u001B[0m\u001B[0m\n",
      "\u001B[0;32m~/PycharmProjects/pythonProject/basic_env/lib/python3.9/site-packages/sklearn/tree/_export.py\u001B[0m in \u001B[0;36mexport\u001B[0;34m(self, decision_tree, ax)\u001B[0m\n\u001B[1;32m    654\u001B[0m         \u001B[0max\u001B[0m\u001B[0;34m.\u001B[0m\u001B[0mclear\u001B[0m\u001B[0;34m(\u001B[0m\u001B[0;34m)\u001B[0m\u001B[0;34m\u001B[0m\u001B[0;34m\u001B[0m\u001B[0m\n\u001B[1;32m    655\u001B[0m         \u001B[0max\u001B[0m\u001B[0;34m.\u001B[0m\u001B[0mset_axis_off\u001B[0m\u001B[0;34m(\u001B[0m\u001B[0;34m)\u001B[0m\u001B[0;34m\u001B[0m\u001B[0;34m\u001B[0m\u001B[0m\n\u001B[0;32m--> 656\u001B[0;31m         \u001B[0mmy_tree\u001B[0m \u001B[0;34m=\u001B[0m \u001B[0mself\u001B[0m\u001B[0;34m.\u001B[0m\u001B[0m_make_tree\u001B[0m\u001B[0;34m(\u001B[0m\u001B[0;36m0\u001B[0m\u001B[0;34m,\u001B[0m \u001B[0mdecision_tree\u001B[0m\u001B[0;34m.\u001B[0m\u001B[0mtree_\u001B[0m\u001B[0;34m,\u001B[0m \u001B[0mdecision_tree\u001B[0m\u001B[0;34m.\u001B[0m\u001B[0mcriterion\u001B[0m\u001B[0;34m)\u001B[0m\u001B[0;34m\u001B[0m\u001B[0;34m\u001B[0m\u001B[0m\n\u001B[0m\u001B[1;32m    657\u001B[0m         \u001B[0mdraw_tree\u001B[0m \u001B[0;34m=\u001B[0m \u001B[0mbuchheim\u001B[0m\u001B[0;34m(\u001B[0m\u001B[0mmy_tree\u001B[0m\u001B[0;34m)\u001B[0m\u001B[0;34m\u001B[0m\u001B[0;34m\u001B[0m\u001B[0m\n\u001B[1;32m    658\u001B[0m \u001B[0;34m\u001B[0m\u001B[0m\n",
      "\u001B[0;31mAttributeError\u001B[0m: 'RandomForestClassifier' object has no attribute 'tree_'"
     ]
    },
    {
     "data": {
      "text/plain": "<Figure size 2880x720 with 1 Axes>",
      "image/png": "[encoded data removed]"
     },
     "metadata": {
      "needs_background": "light"
     },
     "output_type": "display_data"
    }
   ],
   "source": [
    "from matplotlib import pyplot as plt\n",
    "from sklearn import tree\n",
    "\n",
    "\n",
    "fig = plt.figure(figsize=(40,10))\n",
    "_ = tree.plot_tree(mpipe.pipe.named_steps['Meta Model'].best_estimator_,\n",
    "                   label='root',\n",
    "                   class_names= ['not up', 'up'],\n",
    "                   filled=True)"
   ],
   "metadata": {
    "collapsed": false,
    "pycharm": {
     "name": "#%%\n"
    }
   }
  },
  {
   "cell_type": "code",
   "execution_count": null,
   "outputs": [],
   "source": [],
   "metadata": {
    "collapsed": false,
    "pycharm": {
     "name": "#%%\n"
    }
   }
  }
 ],
 "metadata": {
  "kernelspec": {
   "display_name": "Python 3",
   "language": "python",
   "name": "python3"
  },
  "language_info": {
   "codemirror_mode": {
    "name": "ipython",
    "version": 2
   },
   "file_extension": ".py",
   "mimetype": "text/x-python",
   "name": "python",
   "nbconvert_exporter": "python",
   "pygments_lexer": "ipython2",
   "version": "2.7.6"
  }
 },
 "nbformat": 4,
 "nbformat_minor": 0
}