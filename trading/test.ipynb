{
 "cells": [
  {
   "cell_type": "code",
   "execution_count": 1,
   "metadata": {},
   "outputs": [
    {
     "name": "stdout",
     "output_type": "stream",
     "text": [
      "Requirement already satisfied: tinyautoml in /Users/thomaskientz/miniforge3/lib/python3.9/site-packages (0.1.5)\n",
      "Requirement already satisfied: tqdm in /Users/thomaskientz/miniforge3/lib/python3.9/site-packages (from tinyautoml) (4.62.3)\n",
      "Requirement already satisfied: statsmodels in /Users/thomaskientz/miniforge3/lib/python3.9/site-packages (from tinyautoml) (0.13.1)\n",
      "Requirement already satisfied: xgboost in /Users/thomaskientz/miniforge3/lib/python3.9/site-packages (from tinyautoml) (1.5.2)\n",
      "Requirement already satisfied: scikit-learn in /Users/thomaskientz/miniforge3/lib/python3.9/site-packages (from tinyautoml) (1.0.2)\n",
      "Requirement already satisfied: matplotlib in /Users/thomaskientz/miniforge3/lib/python3.9/site-packages (from tinyautoml) (3.5.1)\n",
      "Requirement already satisfied: pandas in /Users/thomaskientz/miniforge3/lib/python3.9/site-packages (from tinyautoml) (1.3.5)\n",
      "Requirement already satisfied: numpy in /Users/thomaskientz/miniforge3/lib/python3.9/site-packages (from tinyautoml) (1.21.5)\n",
      "Requirement already satisfied: kiwisolver>=1.0.1 in /Users/thomaskientz/miniforge3/lib/python3.9/site-packages (from matplotlib->tinyautoml) (1.3.2)\n",
      "Requirement already satisfied: cycler>=0.10 in /Users/thomaskientz/miniforge3/lib/python3.9/site-packages (from matplotlib->tinyautoml) (0.11.0)\n",
      "Requirement already satisfied: pyparsing>=2.2.1 in /Users/thomaskientz/miniforge3/lib/python3.9/site-packages (from matplotlib->tinyautoml) (3.0.6)\n",
      "Requirement already satisfied: fonttools>=4.22.0 in /Users/thomaskientz/miniforge3/lib/python3.9/site-packages (from matplotlib->tinyautoml) (4.28.5)\n",
      "Requirement already satisfied: packaging>=20.0 in /Users/thomaskientz/miniforge3/lib/python3.9/site-packages (from matplotlib->tinyautoml) (21.3)\n",
      "Requirement already satisfied: pillow>=6.2.0 in /Users/thomaskientz/miniforge3/lib/python3.9/site-packages (from matplotlib->tinyautoml) (9.0.0)\n",
      "Requirement already satisfied: python-dateutil>=2.7 in /Users/thomaskientz/miniforge3/lib/python3.9/site-packages (from matplotlib->tinyautoml) (2.8.2)\n",
      "Requirement already satisfied: pytz>=2017.3 in /Users/thomaskientz/miniforge3/lib/python3.9/site-packages (from pandas->tinyautoml) (2021.3)\n",
      "Requirement already satisfied: joblib>=0.11 in /Users/thomaskientz/miniforge3/lib/python3.9/site-packages (from scikit-learn->tinyautoml) (1.1.0)\n",
      "Requirement already satisfied: scipy>=1.1.0 in /Users/thomaskientz/miniforge3/lib/python3.9/site-packages (from scikit-learn->tinyautoml) (1.7.1)\n",
      "Requirement already satisfied: threadpoolctl>=2.0.0 in /Users/thomaskientz/miniforge3/lib/python3.9/site-packages (from scikit-learn->tinyautoml) (3.0.0)\n",
      "Requirement already satisfied: patsy>=0.5.2 in /Users/thomaskientz/miniforge3/lib/python3.9/site-packages (from statsmodels->tinyautoml) (0.5.2)\n",
      "Requirement already satisfied: six in /Users/thomaskientz/miniforge3/lib/python3.9/site-packages (from patsy>=0.5.2->statsmodels->tinyautoml) (1.15.0)\n",
      "Note: you may need to restart the kernel to use updated packages.\n"
     ]
    }
   ],
   "source": [
    "pip install --upgrade tinyautoml"
   ]
  },
  {
   "cell_type": "code",
   "execution_count": 3,
   "metadata": {},
   "outputs": [
    {
     "data": {
      "text/plain": [
       "['Path',\n",
       " '__builtins__',\n",
       " '__cached__',\n",
       " '__doc__',\n",
       " '__file__',\n",
       " '__loader__',\n",
       " '__name__',\n",
       " '__package__',\n",
       " '__path__',\n",
       " '__spec__',\n",
       " 'os']"
      ]
     },
     "execution_count": 3,
     "metadata": {},
     "output_type": "execute_result"
    }
   ],
   "source": [
    "import TinyAutoML\n",
    "dir(TinyAutoML)"
   ]
  },
  {
   "cell_type": "code",
   "execution_count": 2,
   "metadata": {},
   "outputs": [],
   "source": [
    "import os\n",
    "import pandas as pd\n",
    "import numpy as np\n",
    "from pathlib import Path\n",
    "from datetime import datetime\n",
    "from tqdm import tqdm\n",
    "\n",
    "\n",
    "if not \"root\" in locals():\n",
    "    current_path = Path(os.getcwd())\n",
    "    root = current_path.parent.absolute()\n",
    "os.chdir(root)\n",
    "    \n",
    "from tools.add_AR_cols import add_AR_cols\n",
    "from data_treatment.box_creator import create_binary_box\n",
    "import TinyAutoML as tam\n"
   ]
  },
  {
   "cell_type": "code",
   "execution_count": 3,
   "metadata": {},
   "outputs": [],
   "source": [
    "vxx = pd.read_csv(\"VXX.csv\")\n",
    "df = pd.read_csv('database.csv')\n"
   ]
  },
  {
   "cell_type": "code",
   "execution_count": 3,
   "metadata": {},
   "outputs": [
    {
     "data": {
      "text/html": [
       "<div>\n",
       "<style scoped>\n",
       "    .dataframe tbody tr th:only-of-type {\n",
       "        vertical-align: middle;\n",
       "    }\n",
       "\n",
       "    .dataframe tbody tr th {\n",
       "        vertical-align: top;\n",
       "    }\n",
       "\n",
       "    .dataframe thead th {\n",
       "        text-align: right;\n",
       "    }\n",
       "</style>\n",
       "<table border=\"1\" class=\"dataframe\">\n",
       "  <thead>\n",
       "    <tr style=\"text-align: right;\">\n",
       "      <th></th>\n",
       "      <th>Date</th>\n",
       "      <th>Open</th>\n",
       "      <th>High</th>\n",
       "      <th>Low</th>\n",
       "      <th>Close</th>\n",
       "      <th>Adj Close</th>\n",
       "      <th>Volume</th>\n",
       "    </tr>\n",
       "  </thead>\n",
       "  <tbody>\n",
       "    <tr>\n",
       "      <th>0</th>\n",
       "      <td>2018-01-25</td>\n",
       "      <td>110.639999</td>\n",
       "      <td>110.639999</td>\n",
       "      <td>110.639999</td>\n",
       "      <td>110.639999</td>\n",
       "      <td>110.639999</td>\n",
       "      <td>0</td>\n",
       "    </tr>\n",
       "    <tr>\n",
       "      <th>1</th>\n",
       "      <td>2018-01-26</td>\n",
       "      <td>110.639999</td>\n",
       "      <td>110.639999</td>\n",
       "      <td>110.639999</td>\n",
       "      <td>110.639999</td>\n",
       "      <td>110.639999</td>\n",
       "      <td>0</td>\n",
       "    </tr>\n",
       "    <tr>\n",
       "      <th>2</th>\n",
       "      <td>2018-01-29</td>\n",
       "      <td>116.800003</td>\n",
       "      <td>118.320000</td>\n",
       "      <td>116.800003</td>\n",
       "      <td>118.320000</td>\n",
       "      <td>118.320000</td>\n",
       "      <td>350</td>\n",
       "    </tr>\n",
       "    <tr>\n",
       "      <th>3</th>\n",
       "      <td>2018-01-30</td>\n",
       "      <td>123.160004</td>\n",
       "      <td>127.239998</td>\n",
       "      <td>121.959999</td>\n",
       "      <td>122.199997</td>\n",
       "      <td>122.199997</td>\n",
       "      <td>15825</td>\n",
       "    </tr>\n",
       "    <tr>\n",
       "      <th>4</th>\n",
       "      <td>2018-01-31</td>\n",
       "      <td>119.839996</td>\n",
       "      <td>122.720001</td>\n",
       "      <td>119.839996</td>\n",
       "      <td>122.599998</td>\n",
       "      <td>122.599998</td>\n",
       "      <td>2300</td>\n",
       "    </tr>\n",
       "    <tr>\n",
       "      <th>...</th>\n",
       "      <td>...</td>\n",
       "      <td>...</td>\n",
       "      <td>...</td>\n",
       "      <td>...</td>\n",
       "      <td>...</td>\n",
       "      <td>...</td>\n",
       "      <td>...</td>\n",
       "    </tr>\n",
       "    <tr>\n",
       "      <th>1027</th>\n",
       "      <td>2022-02-23</td>\n",
       "      <td>22.730000</td>\n",
       "      <td>24.770000</td>\n",
       "      <td>22.650000</td>\n",
       "      <td>24.700001</td>\n",
       "      <td>24.700001</td>\n",
       "      <td>76133500</td>\n",
       "    </tr>\n",
       "    <tr>\n",
       "      <th>1028</th>\n",
       "      <td>2022-02-24</td>\n",
       "      <td>27.400000</td>\n",
       "      <td>27.450001</td>\n",
       "      <td>23.770000</td>\n",
       "      <td>23.924999</td>\n",
       "      <td>23.924999</td>\n",
       "      <td>110653700</td>\n",
       "    </tr>\n",
       "    <tr>\n",
       "      <th>1029</th>\n",
       "      <td>2022-02-25</td>\n",
       "      <td>23.719999</td>\n",
       "      <td>24.200001</td>\n",
       "      <td>22.620001</td>\n",
       "      <td>22.950001</td>\n",
       "      <td>22.950001</td>\n",
       "      <td>65153500</td>\n",
       "    </tr>\n",
       "    <tr>\n",
       "      <th>1030</th>\n",
       "      <td>2022-02-28</td>\n",
       "      <td>24.700001</td>\n",
       "      <td>24.969999</td>\n",
       "      <td>23.549999</td>\n",
       "      <td>24.000000</td>\n",
       "      <td>24.000000</td>\n",
       "      <td>74178800</td>\n",
       "    </tr>\n",
       "    <tr>\n",
       "      <th>1031</th>\n",
       "      <td>2022-03-01</td>\n",
       "      <td>24.650000</td>\n",
       "      <td>26.969999</td>\n",
       "      <td>24.320000</td>\n",
       "      <td>26.670000</td>\n",
       "      <td>26.670000</td>\n",
       "      <td>72479400</td>\n",
       "    </tr>\n",
       "  </tbody>\n",
       "</table>\n",
       "<p>1032 rows × 7 columns</p>\n",
       "</div>"
      ],
      "text/plain": [
       "            Date        Open        High         Low       Close   Adj Close  \\\n",
       "0     2018-01-25  110.639999  110.639999  110.639999  110.639999  110.639999   \n",
       "1     2018-01-26  110.639999  110.639999  110.639999  110.639999  110.639999   \n",
       "2     2018-01-29  116.800003  118.320000  116.800003  118.320000  118.320000   \n",
       "3     2018-01-30  123.160004  127.239998  121.959999  122.199997  122.199997   \n",
       "4     2018-01-31  119.839996  122.720001  119.839996  122.599998  122.599998   \n",
       "...          ...         ...         ...         ...         ...         ...   \n",
       "1027  2022-02-23   22.730000   24.770000   22.650000   24.700001   24.700001   \n",
       "1028  2022-02-24   27.400000   27.450001   23.770000   23.924999   23.924999   \n",
       "1029  2022-02-25   23.719999   24.200001   22.620001   22.950001   22.950001   \n",
       "1030  2022-02-28   24.700001   24.969999   23.549999   24.000000   24.000000   \n",
       "1031  2022-03-01   24.650000   26.969999   24.320000   26.670000   26.670000   \n",
       "\n",
       "         Volume  \n",
       "0             0  \n",
       "1             0  \n",
       "2           350  \n",
       "3         15825  \n",
       "4          2300  \n",
       "...         ...  \n",
       "1027   76133500  \n",
       "1028  110653700  \n",
       "1029   65153500  \n",
       "1030   74178800  \n",
       "1031   72479400  \n",
       "\n",
       "[1032 rows x 7 columns]"
      ]
     },
     "execution_count": 3,
     "metadata": {},
     "output_type": "execute_result"
    }
   ],
   "source": [
    "vxx"
   ]
  },
  {
   "cell_type": "code",
   "execution_count": 4,
   "metadata": {},
   "outputs": [],
   "source": [
    "vxx_dates = [datetime.strptime(d, \"%Y-%m-%d\").date() for d in vxx[\"Date\"]][:600]\n",
    "try:\n",
    "    df['Date'] = pd.to_datetime(df['Date']).dt.date\n",
    "    df = create_binary_box(df, relative_threshold = 0.05, box_length=2).set_index(['Date']).dropna(axis = 0)\n",
    "except:\n",
    "    pass"
   ]
  },
  {
   "cell_type": "code",
   "execution_count": 5,
   "metadata": {},
   "outputs": [
    {
     "name": "stderr",
     "output_type": "stream",
     "text": [
      "  0%|          | 0/600 [00:00<?, ?it/s]\n"
     ]
    },
    {
     "ename": "AttributeError",
     "evalue": "module 'TinyAutoML' has no attribute 'Estimator'",
     "output_type": "error",
     "traceback": [
      "\u001b[0;31m---------------------------------------------------------------------------\u001b[0m",
      "\u001b[0;31mAttributeError\u001b[0m                            Traceback (most recent call last)",
      "\u001b[0;32m/var/folders/kw/l9kfnpg13fs8k1pgdc67w__m0000gn/T/ipykernel_37808/1646761166.py\u001b[0m in \u001b[0;36m<module>\u001b[0;34m\u001b[0m\n\u001b[1;32m     19\u001b[0m         \u001b[0;32mif\u001b[0m \u001b[0mi\u001b[0m \u001b[0;34m%\u001b[0m \u001b[0;36m50\u001b[0m \u001b[0;34m==\u001b[0m \u001b[0;36m0\u001b[0m\u001b[0;34m:\u001b[0m\u001b[0;34m\u001b[0m\u001b[0;34m\u001b[0m\u001b[0m\n\u001b[1;32m     20\u001b[0m             \u001b[0mX\u001b[0m\u001b[0;34m,\u001b[0m\u001b[0my\u001b[0m \u001b[0;34m=\u001b[0m \u001b[0mdf\u001b[0m\u001b[0;34m.\u001b[0m\u001b[0mdrop\u001b[0m\u001b[0;34m(\u001b[0m\u001b[0;34m'Box'\u001b[0m\u001b[0;34m,\u001b[0m \u001b[0maxis\u001b[0m\u001b[0;34m=\u001b[0m\u001b[0;36m1\u001b[0m\u001b[0;34m)\u001b[0m\u001b[0;34m[\u001b[0m\u001b[0mdf\u001b[0m\u001b[0;34m.\u001b[0m\u001b[0mindex\u001b[0m\u001b[0;34m<\u001b[0m\u001b[0mdate\u001b[0m\u001b[0;34m]\u001b[0m\u001b[0;34m,\u001b[0m \u001b[0mdf\u001b[0m\u001b[0;34m[\u001b[0m\u001b[0;34m'Box'\u001b[0m\u001b[0;34m]\u001b[0m\u001b[0;34m[\u001b[0m\u001b[0mdf\u001b[0m\u001b[0;34m.\u001b[0m\u001b[0mindex\u001b[0m\u001b[0;34m<\u001b[0m\u001b[0mdate\u001b[0m\u001b[0;34m]\u001b[0m\u001b[0;34m\u001b[0m\u001b[0;34m\u001b[0m\u001b[0m\n\u001b[0;32m---> 21\u001b[0;31m             \u001b[0mmpipe\u001b[0m \u001b[0;34m=\u001b[0m \u001b[0mtam\u001b[0m\u001b[0;34m.\u001b[0m\u001b[0mEstimator\u001b[0m\u001b[0;34m.\u001b[0m\u001b[0mMetaPipeline\u001b[0m\u001b[0;34m(\u001b[0m\u001b[0;34m)\u001b[0m\u001b[0;34m\u001b[0m\u001b[0;34m\u001b[0m\u001b[0m\n\u001b[0m\u001b[1;32m     22\u001b[0m             \u001b[0mmpipe\u001b[0m\u001b[0;34m.\u001b[0m\u001b[0mfit\u001b[0m\u001b[0;34m(\u001b[0m\u001b[0mX\u001b[0m\u001b[0;34m,\u001b[0m\u001b[0my\u001b[0m\u001b[0;34m,\u001b[0m \u001b[0mgrid_search\u001b[0m\u001b[0;34m=\u001b[0m\u001b[0;32mTrue\u001b[0m\u001b[0;34m)\u001b[0m\u001b[0;34m\u001b[0m\u001b[0;34m\u001b[0m\u001b[0m\n\u001b[1;32m     23\u001b[0m         \u001b[0mX_today\u001b[0m \u001b[0;34m=\u001b[0m \u001b[0mdf\u001b[0m\u001b[0;34m.\u001b[0m\u001b[0mdrop\u001b[0m\u001b[0;34m(\u001b[0m\u001b[0;34m'Box'\u001b[0m\u001b[0;34m,\u001b[0m \u001b[0maxis\u001b[0m\u001b[0;34m=\u001b[0m\u001b[0;36m1\u001b[0m\u001b[0;34m)\u001b[0m\u001b[0;34m[\u001b[0m\u001b[0mdf\u001b[0m\u001b[0;34m.\u001b[0m\u001b[0mindex\u001b[0m \u001b[0;34m<=\u001b[0m \u001b[0mdate\u001b[0m\u001b[0;34m]\u001b[0m\u001b[0;34m\u001b[0m\u001b[0;34m\u001b[0m\u001b[0m\n",
      "\u001b[0;31mAttributeError\u001b[0m: module 'TinyAutoML' has no attribute 'Estimator'"
     ]
    }
   ],
   "source": [
    "\n",
    "starting_cash = 1000\n",
    "cash = starting_cash\n",
    "n_long = 0\n",
    "max_exposition = 0.5\n",
    "pct_fees = 0\n",
    "base_fees = 0\n",
    "\n",
    "cash_list = []\n",
    "assets_list = []\n",
    "portfolio_list = []\n",
    "dates = []\n",
    "vxx_values = []\n",
    "\n",
    "for i in tqdm(range(len(vxx_dates))):\n",
    "    price = vxx[\"Close\"][i]\n",
    "    if i % 2 == 0:\n",
    "        date = vxx_dates[i]\n",
    "        \n",
    "        if i % 50 == 0:\n",
    "            X,y = df.drop('Box', axis=1)[df.index<date], df['Box'][df.index<date]\n",
    "            mpipe = tam.Estimator.MetaPipeline()\n",
    "            mpipe.fit(X,y, grid_search=True)\n",
    "        X_today = df.drop('Box', axis=1)[df.index <= date]\n",
    "        result = mpipe.predict(X_today)[-1]\n",
    "        if result == 1:\n",
    "            if max_exposition * cash > n_long * price:\n",
    "                n_long += 1\n",
    "                cash -= (price * (1 + pct_fees) - base_fees)\n",
    "        else:\n",
    "            cash += n_long * price\n",
    "            n_long = 0\n",
    "        dates.append(date)\n",
    "        vxx_values.append(price)\n",
    "        vxx_values[-1] = vxx_values[-1]/vxx_values[0] * starting_cash\n",
    "        cash_list.append(cash)\n",
    "        assets_list.append(n_long * price)\n",
    "        portfolio_list.append(cash + n_long * price)\n",
    "        print(\"Current portfolio value : \", portfolio_list[-1])"
   ]
  },
  {
   "cell_type": "code",
   "execution_count": 23,
   "metadata": {},
   "outputs": [],
   "source": [
    "import plotly.express as px\n",
    "\n",
    "result_df = pd.DataFrame({\"Date\" : dates, \"Portfolio value\" : portfolio_list, \"Cash\" : cash_list, \"Assets\" : vxx_list})"
   ]
  },
  {
   "cell_type": "code",
   "execution_count": 28,
   "metadata": {},
   "outputs": [],
   "source": [
    "fig = px.line(result_df, x = \"Date\", y = [\"Portfolio value\", \"Cash\", \"Assets\"])\n",
    "with open(\"output_trading.html\", \"w\") as f:\n",
    "    f.write(fig.to_html())"
   ]
  },
  {
   "cell_type": "code",
   "execution_count": 20,
   "metadata": {},
   "outputs": [
    {
     "data": {
      "text/plain": [
       "0"
      ]
     },
     "execution_count": 20,
     "metadata": {},
     "output_type": "execute_result"
    }
   ],
   "source": [
    "len(vxx_list)"
   ]
  },
  {
   "cell_type": "code",
   "execution_count": 7,
   "metadata": {},
   "outputs": [
    {
     "ename": "AttributeError",
     "evalue": "module 'TinyAutoML' has no attribute 'Estimator'",
     "output_type": "error",
     "traceback": [
      "\u001b[0;31m---------------------------------------------------------------------------\u001b[0m",
      "\u001b[0;31mAttributeError\u001b[0m                            Traceback (most recent call last)",
      "\u001b[0;32m/var/folders/kw/l9kfnpg13fs8k1pgdc67w__m0000gn/T/ipykernel_37987/416990151.py\u001b[0m in \u001b[0;36m<module>\u001b[0;34m\u001b[0m\n\u001b[0;32m----> 1\u001b[0;31m \u001b[0mtam\u001b[0m\u001b[0;34m.\u001b[0m\u001b[0mEstimator\u001b[0m\u001b[0;34m\u001b[0m\u001b[0;34m\u001b[0m\u001b[0m\n\u001b[0m",
      "\u001b[0;31mAttributeError\u001b[0m: module 'TinyAutoML' has no attribute 'Estimator'"
     ]
    }
   ],
   "source": [
    "tam.Estimator"
   ]
  },
  {
   "cell_type": "code",
   "execution_count": null,
   "metadata": {},
   "outputs": [],
   "source": []
  }
 ],
 "metadata": {
  "interpreter": {
   "hash": "31f2aee4e71d21fbe5cf8b01ff0e069b9275f58929596ceb00d14d90e3e16cd6"
  },
  "kernelspec": {
   "display_name": "Python 3.8.9 64-bit",
   "language": "python",
   "name": "python3"
  },
  "language_info": {
   "codemirror_mode": {
    "name": "ipython",
    "version": 3
   },
   "file_extension": ".py",
   "mimetype": "text/x-python",
   "name": "python",
   "nbconvert_exporter": "python",
   "pygments_lexer": "ipython3",
   "version": "3.9.7"
  },
  "orig_nbformat": 4
 },
 "nbformat": 4,
 "nbformat_minor": 2
}
