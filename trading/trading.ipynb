{
 "cells": [
  {
   "cell_type": "code",
   "execution_count": 1,
   "metadata": {},
   "outputs": [],
   "source": [
    "import os\n",
    "import pandas as pd\n",
    "import numpy as np\n",
    "from pathlib import Path\n",
    "from datetime import datetime\n",
    "from tqdm import tqdm\n",
    "\n",
    "\n",
    "if not \"root\" in locals():\n",
    "    current_path = Path(os.getcwd())\n",
    "    root = current_path.parent.absolute()\n",
    "os.chdir(root)\n",
    "    \n",
    "from MyTools.add_AR_cols import add_AR_cols\n",
    "from data_treatment.box_creator import create_binary_box_end\n",
    "from sklearn.metrics import confusion_matrix, ConfusionMatrixDisplay\n",
    "from TinyAutoML.Models import *\n",
    "from TinyAutoML import MetaPipeline"
   ]
  },
  {
   "cell_type": "code",
   "execution_count": 71,
   "metadata": {},
   "outputs": [
    {
     "name": "stderr",
     "output_type": "stream",
     "text": [
      "[TinyAutoML] Training models...\n"
     ]
    },
    {
     "name": "stdout",
     "output_type": "stream",
     "text": [
      "              precision    recall  f1-score   support\n",
      "\n",
      "       False       0.68      0.93      0.79      1083\n",
      "        True       0.65      0.23      0.34       614\n",
      "\n",
      "    accuracy                           0.68      1697\n",
      "   macro avg       0.67      0.58      0.57      1697\n",
      "weighted avg       0.67      0.68      0.63      1697\n",
      "\n",
      "None\n"
     ]
    },
    {
     "data": {
      "text/plain": [
       "<sklearn.metrics._plot.confusion_matrix.ConfusionMatrixDisplay at 0x16e195160>"
      ]
     },
     "execution_count": 71,
     "metadata": {},
     "output_type": "execute_result"
    },
    {
     "data": {
      "image/png": "[encoded data removed]",
      "text/plain": [
       "<Figure size 432x288 with 2 Axes>"
      ]
     },
     "metadata": {
      "needs_background": "light"
     },
     "output_type": "display_data"
    }
   ],
   "source": [
    "starting_threshold = 2000\n",
    "box_shift = 3\n",
    "\n",
    "df = pd.read_csv('database.csv')\n",
    "df.drop(columns=\"RF_F-F_Research_Data_5_Factors_2x3_daily\", inplace=True) # Y'avait trop de valeurs identiques d'afilée\n",
    "df = add_AR_cols(df, 10).set_index(['Date'])\n",
    "df = create_binary_box_end(df, threshold = 0.03, box_shift=box_shift).dropna(axis = 0)\n",
    "X,y = df.drop('Box', axis=1)[df.index<df.index[starting_threshold]], df['Box'][df.index<df.index[starting_threshold]]\n",
    "mpipe = MetaPipeline(DemocraticModel(comprehensiveSearch=False, parameterTuning=False, metrics=\"precision\", voting=\"soft\"), )\n",
    "mpipe.fit(X,y)\n",
    "\n",
    "X_future,y_future = df.drop('Box', axis=1)[df.index>df.index[starting_threshold]], df['Box'][df.index>df.index[starting_threshold]]\n",
    "print(mpipe.classification_report(X_future,y_future))\n",
    "cm = confusion_matrix(y_future, mpipe.predict(X_future))\n",
    "disp = ConfusionMatrixDisplay(confusion_matrix=cm)\n",
    "disp.plot()"
   ]
  },
  {
   "cell_type": "code",
   "execution_count": 113,
   "metadata": {},
   "outputs": [],
   "source": [
    "class LongPosition:\n",
    "    def __init__(self, initial_price, amount, maturity, date):\n",
    "        self.initial_price = initial_price\n",
    "        self.amount = amount\n",
    "        self.maturity = maturity\n",
    "        self.total_value = amount * self.initial_price\n",
    "        self.date = date\n",
    "    def update_maturity(self):\n",
    "        self.maturity -= 1\n",
    "    def update_value(self, current_price):\n",
    "        self.total_value = self.amount * current_price\n",
    "    def value(self):\n",
    "        return self.total_value \n",
    "    def at_maturity(self):\n",
    "        return self.maturity <= 0\n",
    "    \n",
    "class Portfolio:\n",
    "    def __init__(self, starting_cash):\n",
    "        self.positions = []\n",
    "        self.total_assets_value = 0\n",
    "        self.cash = starting_cash\n",
    "        self.positions_history = {\"Date\": [], \"buy_price\": [], \"sell_price\": [], \"portfolio_value\": [], \"amount\": []}\n",
    "        \n",
    "    def add_long_position(self, initial_price, amount, maturity, date, allow_negative_cash = True, comission = 0):\n",
    "        if allow_negative_cash or self.cash > initial_price * amount:\n",
    "            self.positions.append(LongPosition(initial_price, amount, maturity, date))\n",
    "            self.cash -= (1+comission) * self.positions[-1].value()\n",
    "            \n",
    "    def update_values(self, current_price):\n",
    "        portfolio_total_assets_value = 0\n",
    "        for position in self.positions:\n",
    "            position.update_value(current_price)\n",
    "            portfolio_total_assets_value += position.value()\n",
    "        self.total_assets_value = portfolio_total_assets_value + self.cash\n",
    "        \n",
    "    def value(self, current_price):\n",
    "        self.update_values(current_price)\n",
    "        return self.total_assets_value\n",
    "    \n",
    "    def update_maturities(self):\n",
    "        for position in self.positions:\n",
    "            position.update_maturity()  \n",
    "            \n",
    "    def check_maturities_and_sell(self, current_price):\n",
    "        remaining_positions = []\n",
    "        for position in self.positions:\n",
    "            if position.at_maturity():\n",
    "                self.cash += position.value()\n",
    "                self.total_assets_value -= position.value()\n",
    "                self.positions_history[\"Date\"].append(position.date)\n",
    "                self.positions_history[\"buy_price\"].append(position.initial_price)\n",
    "                self.positions_history[\"sell_price\"].append(current_price)\n",
    "                self.positions_history[\"portfolio_value\"].append(self.value(current_price))\n",
    "                self.positions_history[\"amount\"].append(position.amount)\n",
    "            else:\n",
    "                remaining_positions.append(position)\n",
    "        self.positions = remaining_positions\n",
    "        \n",
    "    def update_portfolio(self, current_price):\n",
    "        self.update_values(current_price)\n",
    "        self.update_maturities()\n",
    "        self.check_maturities_and_sell(current_price)"
   ]
  },
  {
   "cell_type": "code",
   "execution_count": 114,
   "metadata": {},
   "outputs": [
    {
     "name": "stderr",
     "output_type": "stream",
     "text": [
      "Value: 2815, amount: 56:  29%|██▉       | 499/1698 [00:44<01:50, 10.86it/s]"
     ]
    },
    {
     "name": "stdout",
     "output_type": "stream",
     "text": [
      "Training model..."
     ]
    },
    {
     "name": "stderr",
     "output_type": "stream",
     "text": [
      "Value: 2815, amount: 56:  29%|██▉       | 499/1698 [00:58<01:50, 10.86it/s][TinyAutoML] Training models...\n",
      "Value: 2815, amount: 56:  29%|██▉       | 500/1698 [00:59<52:58,  2.65s/it]"
     ]
    },
    {
     "name": "stdout",
     "output_type": "stream",
     "text": [
      " Done!\n"
     ]
    },
    {
     "name": "stderr",
     "output_type": "stream",
     "text": [
      "Value: 5727, amount: 115:  59%|█████▉    | 999/1698 [01:53<01:14,  9.40it/s]"
     ]
    },
    {
     "name": "stdout",
     "output_type": "stream",
     "text": [
      "Training model..."
     ]
    },
    {
     "name": "stderr",
     "output_type": "stream",
     "text": [
      "[TinyAutoML] Training models...\n",
      "Value: 5727, amount: 115:  59%|█████▉    | 1000/1698 [02:13<48:41,  4.19s/it]"
     ]
    },
    {
     "name": "stdout",
     "output_type": "stream",
     "text": [
      " Done!\n"
     ]
    },
    {
     "name": "stderr",
     "output_type": "stream",
     "text": [
      "Value: 10015, amount: 195:  88%|████████▊ | 1499/1698 [03:13<00:22,  8.93it/s]"
     ]
    },
    {
     "name": "stdout",
     "output_type": "stream",
     "text": [
      "Training model..."
     ]
    },
    {
     "name": "stderr",
     "output_type": "stream",
     "text": [
      "[TinyAutoML] Training models...\n",
      "Value: 10015, amount: 200:  88%|████████▊ | 1500/1698 [03:37<24:19,  7.37s/it]"
     ]
    },
    {
     "name": "stdout",
     "output_type": "stream",
     "text": [
      " Done!\n"
     ]
    },
    {
     "name": "stderr",
     "output_type": "stream",
     "text": [
      "Value: 11839, amount: 228: 100%|██████████| 1698/1698 [03:59<00:00,  7.08it/s]\n"
     ]
    }
   ],
   "source": [
    "VIX_open = 'PX_OPEN_VIX_volatility'\n",
    "training_frequency = 500\n",
    "amount_change_frequency = 10\n",
    "default_amount = 20\n",
    "current_amount = default_amount\n",
    "base_cash = 1000\n",
    "\n",
    "ptf = Portfolio(base_cash)\n",
    "for i in (pbar := tqdm(range(starting_threshold, len(df.index)))):\n",
    "    \n",
    "    if (i+1) % training_frequency == 0:\n",
    "        print(\"Training model...\", end = \"\")\n",
    "        X,y = df.drop('Box', axis=1)[df.index<df.index[i]], df['Box'][df.index<df.index[i]]\n",
    "        mpipe = MetaPipeline(DemocraticModel(comprehensiveSearch=False, parameterTuning=False, metrics=\"precision\", voting=\"soft\"), )\n",
    "        mpipe.fit(X,y)\n",
    "        print(\" Done!\")\n",
    "    \n",
    "    if (i+1) % amount_change_frequency == 0:\n",
    "        current_amount = round(default_amount * ptf.total_assets_value / base_cash)\n",
    "    \n",
    "    X_today = df.drop('Box', axis=1)[df.index <= df.index[i]]\n",
    "    price = X_today.iloc[-1][VIX_open]\n",
    "    result = mpipe.predict(X_today)[-1]\n",
    "    if result == 1:\n",
    "        ptf.add_long_position(initial_price = price, amount = current_amount, maturity = box_shift, date = df.index[i], comission=0.05)\n",
    "    ptf.update_portfolio(price)\n",
    "    pbar.set_description(f\"Value: {str(round(ptf.value(price)))}, amount: {current_amount}\")\n",
    "        \n",
    "    "
   ]
  },
  {
   "cell_type": "code",
   "execution_count": 115,
   "metadata": {},
   "outputs": [],
   "source": [
    "import plotly.express as px\n",
    "import plotly.io as pio\n",
    "pio.renderers.default = \"browser\"\n",
    "\n",
    "df_positions = pd.DataFrame(ptf.positions_history)\n",
    "df_positions[\"buy_price\"] = df_positions[\"buy_price\"]\n",
    "df_positions[\"Diff\"] = df_positions[\"sell_price\"] -df_positions[\"buy_price\"]\n",
    "\n",
    "#px.scatter(df_positions, x = \"Date\", y = [\"Diff\"], marginal_y=\"histogram\")"
   ]
  },
  {
   "cell_type": "code",
   "execution_count": 116,
   "metadata": {},
   "outputs": [],
   "source": [
    "import plotly.graph_objects as go\n",
    "from plotly.subplots import make_subplots\n",
    "\n",
    "VIX_df = df[df.index<=df_positions[\"Date\"][df_positions.shape[0]-1]]\n",
    "VIX_series = VIX_df[VIX_df.index>=df_positions[\"Date\"][0]][VIX_open]\n",
    "\n",
    "fig = make_subplots(specs=[[{\"secondary_y\": True}], [{\"secondary_y\": True}]], rows=2, cols=1, shared_xaxes=True, vertical_spacing=0.02)\n",
    "\n",
    "# Add traces\n",
    "fig.add_trace(\n",
    "    go.Scatter(x=VIX_series.index, y=VIX_series.values, name=\"VIX\"),\n",
    "    secondary_y=False, row = 1, col = 1\n",
    ")\n",
    "\n",
    "fig.add_trace(\n",
    "    go.Scatter(x=df_positions[\"Date\"], y=df_positions[\"portfolio_value\"], name=\"Portfolio\"),\n",
    "    secondary_y=True, row = 1, col = 1\n",
    ")\n",
    "\n",
    "fig.add_trace(\n",
    "    go.Scatter(x=df_positions[\"Date\"], y=df_positions[\"Diff\"], name=\"Price delta\", mode='markers', \n",
    "               marker=dict(\n",
    "                    size=10,\n",
    "                    cmax=3,\n",
    "                    cmin=-3,\n",
    "                    color=df_positions[\"Diff\"],\n",
    "                    colorbar=dict(len=0.5, y=0.25),\n",
    "                    cmid = 0,\n",
    "                    colorscale=\"RdYlGn\")),\n",
    "    secondary_y=False, row = 2, col = 1)\n",
    "\n",
    "fig.add_trace(\n",
    "    go.Scatter(x=df_positions[\"Date\"], y=df_positions[\"amount\"], name=\"Amount bought\"),\n",
    "    secondary_y=True, row = 2, col = 1\n",
    ")\n",
    "\n",
    "# Add figure title\n",
    "fig.update_layout(title_text=\"VIX Trading algorithm\")\n",
    "\n",
    "# Set x-axis title\n",
    "fig.update_xaxes(title_text=\"Date\", row = 2, col = 1)\n",
    "\n",
    "# Set y-axes titles\n",
    "fig.update_yaxes(title_text=\"<b>VIX</b> value\", secondary_y=False, row = 1, col = 1)\n",
    "fig.update_yaxes(title_text=\"<b>Portfolio</b> value\", secondary_y=True, row = 1, col = 1)\n",
    "fig.update_yaxes(title_text=\"<b>Price delta</b>\", secondary_y=False, row = 2, col = 1)\n",
    "fig.update_yaxes(title_text=\"<b>Amount bought</b>\", secondary_y=True, row = 2, col = 1)\n",
    "\n",
    "fig.show()"
   ]
  },
  {
   "cell_type": "code",
   "execution_count": 101,
   "metadata": {},
   "outputs": [
    {
     "name": "stderr",
     "output_type": "stream",
     "text": [
      "Value: 627, amount: 12: 100%|██████████| 1698/1698 [00:03<00:00, 526.01it/s] \n"
     ]
    }
   ],
   "source": [
    "VIX_open = 'PX_OPEN_VIX_volatility'\n",
    "training_frequency = 500\n",
    "amount_change_frequency = 10\n",
    "default_amount = 20\n",
    "current_amount = default_amount\n",
    "base_cash = 1000\n",
    "\n",
    "ptf = Portfolio(base_cash)\n",
    "for i in (pbar := tqdm(range(starting_threshold, len(df.index)))):\n",
    "    \n",
    "    \n",
    "    if (i+1) % amount_change_frequency == 0:\n",
    "        current_amount = round(default_amount * ptf.total_assets_value / base_cash)\n",
    "    \n",
    "    X_today = df.drop('Box', axis=1)[df.index <= df.index[i]]\n",
    "    price = X_today.iloc[-1][VIX_open]\n",
    "    \n",
    "    if np.random.random() > 0.9:\n",
    "        ptf.add_long_position(initial_price = price, amount = current_amount, maturity = box_shift, date = df.index[i])\n",
    "    ptf.update_portfolio(price)\n",
    "    pbar.set_description(f\"Value: {str(round(ptf.value(price)))}, amount: {current_amount}\")"
   ]
  },
  {
   "cell_type": "code",
   "execution_count": 105,
   "metadata": {},
   "outputs": [
    {
     "data": {
      "text/html": [
       "<div>\n",
       "<style scoped>\n",
       "    .dataframe tbody tr th:only-of-type {\n",
       "        vertical-align: middle;\n",
       "    }\n",
       "\n",
       "    .dataframe tbody tr th {\n",
       "        vertical-align: top;\n",
       "    }\n",
       "\n",
       "    .dataframe thead th {\n",
       "        text-align: right;\n",
       "    }\n",
       "</style>\n",
       "<table border=\"1\" class=\"dataframe\">\n",
       "  <thead>\n",
       "    <tr style=\"text-align: right;\">\n",
       "      <th></th>\n",
       "      <th>PX_OPEN_VIX_volatility</th>\n",
       "      <th>Box</th>\n",
       "    </tr>\n",
       "    <tr>\n",
       "      <th>Date</th>\n",
       "      <th></th>\n",
       "      <th></th>\n",
       "    </tr>\n",
       "  </thead>\n",
       "  <tbody>\n",
       "    <tr>\n",
       "      <th>2006-02-28</th>\n",
       "      <td>11.74</td>\n",
       "      <td>False</td>\n",
       "    </tr>\n",
       "    <tr>\n",
       "      <th>2006-03-01</th>\n",
       "      <td>12.05</td>\n",
       "      <td>False</td>\n",
       "    </tr>\n",
       "    <tr>\n",
       "      <th>2006-03-02</th>\n",
       "      <td>11.79</td>\n",
       "      <td>True</td>\n",
       "    </tr>\n",
       "    <tr>\n",
       "      <th>2006-03-03</th>\n",
       "      <td>12.03</td>\n",
       "      <td>True</td>\n",
       "    </tr>\n",
       "    <tr>\n",
       "      <th>2006-03-06</th>\n",
       "      <td>12.22</td>\n",
       "      <td>False</td>\n",
       "    </tr>\n",
       "    <tr>\n",
       "      <th>...</th>\n",
       "      <td>...</td>\n",
       "      <td>...</td>\n",
       "    </tr>\n",
       "    <tr>\n",
       "      <th>2021-05-18</th>\n",
       "      <td>18.89</td>\n",
       "      <td>True</td>\n",
       "    </tr>\n",
       "    <tr>\n",
       "      <th>2021-05-19</th>\n",
       "      <td>22.46</td>\n",
       "      <td>False</td>\n",
       "    </tr>\n",
       "    <tr>\n",
       "      <th>2021-05-20</th>\n",
       "      <td>22.33</td>\n",
       "      <td>False</td>\n",
       "    </tr>\n",
       "    <tr>\n",
       "      <th>2021-05-21</th>\n",
       "      <td>20.42</td>\n",
       "      <td>False</td>\n",
       "    </tr>\n",
       "    <tr>\n",
       "      <th>2021-05-24</th>\n",
       "      <td>20.50</td>\n",
       "      <td>False</td>\n",
       "    </tr>\n",
       "  </tbody>\n",
       "</table>\n",
       "<p>3698 rows × 2 columns</p>\n",
       "</div>"
      ],
      "text/plain": [
       "            PX_OPEN_VIX_volatility    Box\n",
       "Date                                     \n",
       "2006-02-28                   11.74  False\n",
       "2006-03-01                   12.05  False\n",
       "2006-03-02                   11.79   True\n",
       "2006-03-03                   12.03   True\n",
       "2006-03-06                   12.22  False\n",
       "...                            ...    ...\n",
       "2021-05-18                   18.89   True\n",
       "2021-05-19                   22.46  False\n",
       "2021-05-20                   22.33  False\n",
       "2021-05-21                   20.42  False\n",
       "2021-05-24                   20.50  False\n",
       "\n",
       "[3698 rows x 2 columns]"
      ]
     },
     "execution_count": 105,
     "metadata": {},
     "output_type": "execute_result"
    }
   ],
   "source": []
  },
  {
   "cell_type": "code",
   "execution_count": 123,
   "metadata": {},
   "outputs": [
    {
     "data": {
      "text/plain": [
       "0.7065409546258102"
      ]
     },
     "execution_count": 123,
     "metadata": {},
     "output_type": "execute_result"
    }
   ],
   "source": [
    "mpipe.score(X_future, y_future)"
   ]
  },
  {
   "cell_type": "code",
   "execution_count": null,
   "metadata": {},
   "outputs": [],
   "source": []
  }
 ],
 "metadata": {
  "interpreter": {
   "hash": "a0b90876d94adc511a3a8e7828b93a9386f377fbaaa85423f66fa343a060b8d4"
  },
  "kernelspec": {
   "display_name": "Python 3.9.7 ('base')",
   "language": "python",
   "name": "python3"
  },
  "language_info": {
   "codemirror_mode": {
    "name": "ipython",
    "version": 3
   },
   "file_extension": ".py",
   "mimetype": "text/x-python",
   "name": "python",
   "nbconvert_exporter": "python",
   "pygments_lexer": "ipython3",
   "version": "3.9.7"
  },
  "orig_nbformat": 4
 },
 "nbformat": 4,
 "nbformat_minor": 2
}
